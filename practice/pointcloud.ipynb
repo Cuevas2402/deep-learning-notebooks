{
 "cells": [
  {
   "cell_type": "code",
   "execution_count": 3,
   "id": "a45eed82-bdbd-4f89-85dd-2d51882d41f4",
   "metadata": {},
   "outputs": [],
   "source": [
    "import open3d as o3d\n",
    "import numpy as np\n",
    "import pandas as pd\n",
    "import matplotlib.pyplot as plt\n",
    "%matplotlib inline"
   ]
  },
  {
   "cell_type": "code",
   "execution_count": 10,
   "id": "7722d28c-7028-4494-92b2-c61de3e6b60e",
   "metadata": {},
   "outputs": [],
   "source": [
    "import copy\n",
    "import os\n",
    "import sys\n",
    "import pylas"
   ]
  },
  {
   "cell_type": "code",
   "execution_count": 26,
   "id": "bdb52e2c-bee7-4332-b672-c38166ca9864",
   "metadata": {},
   "outputs": [],
   "source": [
    "las = pylas.read(\"./db/pointcloud/dtm/sample.las\")"
   ]
  },
  {
   "cell_type": "code",
   "execution_count": 27,
   "id": "d8b5e5a8-daa6-40de-af26-61a9d903dbb5",
   "metadata": {},
   "outputs": [],
   "source": [
    "pts = np.stack((las.x,las.y,las.z)).transpose()\n",
    "colors = np.stack((las.red,las.green, las.blue)).transpose()\n",
    "colors = colors / 65535"
   ]
  },
  {
   "cell_type": "code",
   "execution_count": 28,
   "id": "a89b8693-3ed8-43bf-b1f4-177cd7460090",
   "metadata": {},
   "outputs": [],
   "source": [
    "pcloud = o3d.geometry.PointCloud()\n",
    "pcloud.points = o3d.utility.Vector3dVector(pts)\n",
    "pcloud.colors = o3d.utility.Vector3dVector(colors)"
   ]
  },
  {
   "cell_type": "code",
   "execution_count": 29,
   "id": "ad577e20-4d21-453a-a9d9-8656f9286331",
   "metadata": {},
   "outputs": [],
   "source": [
    "o3d.visualization.draw_geometries([pcloud])"
   ]
  }
 ],
 "metadata": {
  "kernelspec": {
   "display_name": "Python 3 (ipykernel)",
   "language": "python",
   "name": "python3"
  },
  "language_info": {
   "codemirror_mode": {
    "name": "ipython",
    "version": 3
   },
   "file_extension": ".py",
   "mimetype": "text/x-python",
   "name": "python",
   "nbconvert_exporter": "python",
   "pygments_lexer": "ipython3",
   "version": "3.12.2"
  }
 },
 "nbformat": 4,
 "nbformat_minor": 5
}
