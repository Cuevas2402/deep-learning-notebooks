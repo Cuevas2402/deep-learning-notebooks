{
 "cells": [
  {
   "cell_type": "code",
   "execution_count": 1,
   "id": "2b925d9e",
   "metadata": {},
   "outputs": [],
   "source": [
    "import open3d as o3d\n",
    "import laspy\n",
    "import numpy as np\n",
    "import pandas as pd\n",
    "import CSF\n",
    "import matplotlib.pyplot as plt\n",
    "%matplotlib inline"
   ]
  },
  {
   "cell_type": "markdown",
   "id": "812d602d",
   "metadata": {},
   "source": [
    "# LASer file analysis"
   ]
  },
  {
   "cell_type": "code",
   "execution_count": 3,
   "id": "a27d1442",
   "metadata": {},
   "outputs": [
    {
     "name": "stdout",
     "output_type": "stream",
     "text": [
      "3133486\n",
      "['X', 'Y', 'Z', 'intensity', 'return_number', 'number_of_returns', 'scan_direction_flag', 'edge_of_flight_line', 'classification', 'synthetic', 'key_point', 'withheld', 'scan_angle_rank', 'user_data', 'point_source_id', 'gps_time', 'red', 'green', 'blue']\n"
     ]
    },
    {
     "name": "stderr",
     "output_type": "stream",
     "text": [
      "2025-02-03 21:14:31.885 python[726:3919582] +[IMKClient subclass]: chose IMKClient_Modern\n",
      "2025-02-03 21:14:31.885 python[726:3919582] +[IMKInputSession subclass]: chose IMKInputSession_Modern\n"
     ]
    }
   ],
   "source": [
    "las = laspy.read(\"./db/pcl/section2.las\")\n",
    "print(len(las.points))\n",
    "print(list(las.point_format.dimension_names))\n",
    "\n",
    "pcl = o3d.geometry.PointCloud()\n",
    "\n",
    "points = np.vstack((las.x, las.y, las.z))\n",
    "colors = np.vstack((las.red, las.green, las.blue)).astype(np.float64)\n",
    "colors /= 65545\n",
    "\n",
    "pcl.points = o3d.utility.Vector3dVector(points.transpose())\n",
    "pcl.colors = o3d.utility.Vector3dVector(colors.transpose())\n",
    "center = pcl.get_center()\n",
    "pcl.translate(-center)\n",
    "o3d.visualization.draw_geometries([pcl])"
   ]
  },
  {
   "cell_type": "code",
   "execution_count": 16,
   "id": "9db24bff",
   "metadata": {},
   "outputs": [
    {
     "name": "stdout",
     "output_type": "stream",
     "text": [
      "<PointFormat(3, 0 bytes of extra dims)>\n",
      "<LasHeader(1.2, <PointFormat(3, 0 bytes of extra dims)>)>\n",
      "<GeoKeyDirectoryVlr(7 geo_keys)>\n",
      "<GeoAsciiParamsVlr(['WGS 84 / UTM zone 33S|WGS 84|', ''])>\n",
      "<VLR(user_id: 'liblas', record_id: '2112', data len: 605)>\n"
     ]
    }
   ],
   "source": [
    "print(las.header.point_format)\n",
    "print(las.header)\n",
    "for i in list(las.header.vlrs):\n",
    "\tprint(i)"
   ]
  },
  {
   "cell_type": "markdown",
   "id": "67c76a74",
   "metadata": {},
   "source": [
    "# LiDAR Preprocessing with CSF"
   ]
  },
  {
   "cell_type": "code",
   "execution_count": 7,
   "id": "b13d3a72",
   "metadata": {},
   "outputs": [],
   "source": [
    "xyz = np.vstack((las.x, las.y ,las.z)).transpose()\n",
    "\n",
    "csf = CSF.CSF()\n",
    "csf.params.bSloopSmooth = False\n",
    "csf.params.cloth_resolution = 0.2\n",
    "csf.params.interations = 500\n",
    "csf.params.class_threshold = 4.0\n"
   ]
  },
  {
   "cell_type": "markdown",
   "id": "355aa1b4",
   "metadata": {},
   "source": [
    "# LiDAR Segmentation with DBSCAN"
   ]
  },
  {
   "cell_type": "code",
   "execution_count": null,
   "id": "90d94a69",
   "metadata": {},
   "outputs": [],
   "source": [
    "pcl = pcl.voxel_down_sample(voxel_size=0.5)\n",
    "o3d.visualization.draw_geometries([pcl])"
   ]
  },
  {
   "cell_type": "code",
   "execution_count": null,
   "id": "5f25ccf7",
   "metadata": {},
   "outputs": [],
   "source": [
    "clss = np.unique(las.classification)\n",
    "print(clss)"
   ]
  },
  {
   "cell_type": "code",
   "execution_count": null,
   "id": "f60c4925",
   "metadata": {},
   "outputs": [],
   "source": [
    "mask = las.classification == 2\n",
    "\n",
    "xyz_t = np.vstack((las.x[mask], las.y[mask], las.z[mask]))\n",
    "\n",
    "ground_pts = o3d.geometry.PointCloud()\n",
    "ground_pts.points = o3d.utility.Vector3dVector(xyz_t.transpose())\n",
    "\n",
    "o3d.visualization.draw_geometries([ground_pts])"
   ]
  },
  {
   "cell_type": "code",
   "execution_count": null,
   "id": "8bf1d1c1",
   "metadata": {},
   "outputs": [],
   "source": [
    "notground = las.classification == 1\n",
    "points = np.vstack((las.x[notground], las.y[notground], las.z[notground]))\n",
    "#colors = np.vstack((las.red[notground], las.green[notground], las.blue[notground]))\n",
    "pcl = o3d.geometry.PointCloud()\n",
    "pcl.points = o3d.utility.Vector3dVector(points.transpose())\n",
    "#pclnotground.colors = o3d.utility.Vector3dVector(colors.transpose())\n",
    "o3d.visualization.draw_geometries([pcl])"
   ]
  },
  {
   "cell_type": "code",
   "execution_count": null,
   "id": "4d333645",
   "metadata": {},
   "outputs": [],
   "source": [
    "nn_distance = np.mean(pcl.compute_nearest_neighbor_distance())\n",
    "print(nn_distance)"
   ]
  },
  {
   "cell_type": "code",
   "execution_count": null,
   "id": "26247ceb",
   "metadata": {},
   "outputs": [],
   "source": [
    "epsilon = 2\n",
    "min_cluster_points = 100\n",
    "labels = np.array(pcl.cluster_dbscan(eps=epsilon, min_points=min_cluster_points))\n",
    "max_label = labels.max()\n",
    "colors = plt.get_cmap(\"tab20\")(labels / (max_label if max_label > 0 else 1))\n",
    "colors[labels < 0] = 1\n",
    "pcl.colors = o3d.utility.Vector3dVector(colors[:,:3])\n",
    "o3d.visualization.draw_geometries([pcl])"
   ]
  }
 ],
 "metadata": {
  "kernelspec": {
   "display_name": "base",
   "language": "python",
   "name": "python3"
  },
  "language_info": {
   "codemirror_mode": {
    "name": "ipython",
    "version": 3
   },
   "file_extension": ".py",
   "mimetype": "text/x-python",
   "name": "python",
   "nbconvert_exporter": "python",
   "pygments_lexer": "ipython3",
   "version": "3.12.2"
  }
 },
 "nbformat": 4,
 "nbformat_minor": 5
}
