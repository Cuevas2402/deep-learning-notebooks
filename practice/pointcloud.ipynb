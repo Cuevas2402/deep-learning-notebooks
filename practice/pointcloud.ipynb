{
 "cells": [
  {
   "cell_type": "code",
   "execution_count": 1,
   "id": "2b925d9e",
   "metadata": {},
   "outputs": [],
   "source": [
    "import open3d as o3d\n",
    "import laspy\n",
    "import numpy as np\n",
    "import pandas as pd\n",
    "import matplotlib.pyplot as plt\n",
    "%matplotlib inline"
   ]
  },
  {
   "cell_type": "code",
   "execution_count": 8,
   "id": "86d4899f",
   "metadata": {},
   "outputs": [
    {
     "name": "stdout",
     "output_type": "stream",
     "text": [
      "7390197\n",
      "<LasData(1.4, point fmt: <PointFormat(1, 8 bytes of extra dims)>, 7390197 points, 1 vlrs)>\n",
      "7390197\n",
      "Ground points : 7390197\n"
     ]
    }
   ],
   "source": [
    "with laspy.open(\"./db/pointcloud/original/sample.laz\") as f:\n",
    "\tprint(f.header.point_count)\n",
    "\tlas = f.read()\n",
    "\tprint(las)\n",
    "\tprint(len(las.points))"
   ]
  },
  {
   "cell_type": "code",
   "execution_count": 22,
   "id": "8a26dd48",
   "metadata": {},
   "outputs": [
    {
     "name": "stdout",
     "output_type": "stream",
     "text": [
      "['X', 'Y', 'Z', 'intensity', 'return_number', 'number_of_returns', 'scan_direction_flag', 'edge_of_flight_line', 'classification', 'synthetic', 'key_point', 'withheld', 'scan_angle_rank', 'user_data', 'point_source_id', 'gps_time', 'Reflectance', 'Deviation']\n"
     ]
    }
   ],
   "source": [
    "print([dimension.name for dimension in las.point_format.dimensions])"
   ]
  },
  {
   "cell_type": "code",
   "execution_count": null,
   "id": "7a6b940c",
   "metadata": {},
   "outputs": [
    {
     "ename": "AttributeError",
     "evalue": "'ScaledArrayView' object has no attribute 'colors'",
     "output_type": "error",
     "traceback": [
      "\u001b[0;31m---------------------------------------------------------------------------\u001b[0m",
      "\u001b[0;31mAttributeError\u001b[0m                            Traceback (most recent call last)",
      "Cell \u001b[0;32mIn[25], line 2\u001b[0m\n\u001b[1;32m      1\u001b[0m points \u001b[38;5;241m=\u001b[39m np\u001b[38;5;241m.\u001b[39mstack((las\u001b[38;5;241m.\u001b[39mx, las\u001b[38;5;241m.\u001b[39my, las\u001b[38;5;241m.\u001b[39mz))\n\u001b[0;32m----> 2\u001b[0m colors \u001b[38;5;241m=\u001b[39m np\u001b[38;5;241m.\u001b[39mstack((\u001b[43mlas\u001b[49m\u001b[38;5;241;43m.\u001b[39;49m\u001b[43mx\u001b[49m\u001b[38;5;241;43m.\u001b[39;49m\u001b[43mcolors\u001b[49m))\n",
      "\u001b[0;31mAttributeError\u001b[0m: 'ScaledArrayView' object has no attribute 'colors'"
     ]
    }
   ],
   "source": [
    "points = np.stack((las.x, las.y, las.z))"
   ]
  },
  {
   "cell_type": "code",
   "execution_count": null,
   "id": "90d94a69",
   "metadata": {},
   "outputs": [],
   "source": []
  }
 ],
 "metadata": {
  "kernelspec": {
   "display_name": "base",
   "language": "python",
   "name": "python3"
  },
  "language_info": {
   "codemirror_mode": {
    "name": "ipython",
    "version": 3
   },
   "file_extension": ".py",
   "mimetype": "text/x-python",
   "name": "python",
   "nbconvert_exporter": "python",
   "pygments_lexer": "ipython3",
   "version": "3.12.2"
  }
 },
 "nbformat": 4,
 "nbformat_minor": 5
}
