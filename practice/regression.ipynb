{
 "cells": [
  {
   "cell_type": "markdown",
   "id": "f1fc8d04-ff0c-4bf3-b661-1bcc81bf7e2d",
   "metadata": {},
   "source": [
    "## Gradient"
   ]
  },
  {
   "cell_type": "code",
   "execution_count": null,
   "id": "7134a677-2300-45d3-b677-567c838a777c",
   "metadata": {},
   "outputs": [],
   "source": [
    "import torch\n",
    "import numpy as np"
   ]
  },
  {
   "cell_type": "code",
   "execution_count": null,
   "id": "f50c17dd-3047-4b3e-b456-14faa86a138b",
   "metadata": {},
   "outputs": [],
   "source": [
    "x = torch.tensor(2.0, requires_grad = True)"
   ]
  },
  {
   "cell_type": "code",
   "execution_count": null,
   "id": "73a8b93a-f38c-405e-8ca0-a6c5a602e9ac",
   "metadata": {},
   "outputs": [],
   "source": [
    "y = 2*x**4 + x**3 + 3*x**2 + 5*x+1"
   ]
  },
  {
   "cell_type": "code",
   "execution_count": null,
   "id": "5c5d811a-31b5-477e-9d73-5ab58f228cb4",
   "metadata": {},
   "outputs": [],
   "source": [
    "y"
   ]
  },
  {
   "cell_type": "code",
   "execution_count": null,
   "id": "505058ac-5ec3-489c-b445-5e13ce0adb94",
   "metadata": {},
   "outputs": [],
   "source": [
    "y.backward()"
   ]
  },
  {
   "cell_type": "code",
   "execution_count": null,
   "id": "95986b15-57e9-407e-b390-1d1f5ff12893",
   "metadata": {},
   "outputs": [],
   "source": [
    "x.grad"
   ]
  },
  {
   "cell_type": "code",
   "execution_count": null,
   "id": "54420f4e-dd36-46d1-89e6-003655e6e3ec",
   "metadata": {},
   "outputs": [],
   "source": [
    "x = torch.tensor([[1.,2.,3.], [3.,2.,1.]], requires_grad = True) "
   ]
  },
  {
   "cell_type": "code",
   "execution_count": null,
   "id": "5a15a3be-7073-4e0d-b7af-03af687c3960",
   "metadata": {},
   "outputs": [],
   "source": [
    "x"
   ]
  },
  {
   "cell_type": "code",
   "execution_count": null,
   "id": "df2c7b9c-7c23-4212-b383-e8b2076c463b",
   "metadata": {},
   "outputs": [],
   "source": [
    "y = 3*x + 2"
   ]
  },
  {
   "cell_type": "code",
   "execution_count": null,
   "id": "80df5e78-0418-4452-b39d-d1129467ac57",
   "metadata": {},
   "outputs": [],
   "source": [
    "y"
   ]
  },
  {
   "cell_type": "code",
   "execution_count": null,
   "id": "e303c608-f79a-4d94-b0be-066f0b116242",
   "metadata": {},
   "outputs": [],
   "source": [
    "z = 2*y**2"
   ]
  },
  {
   "cell_type": "code",
   "execution_count": null,
   "id": "878b30c5-9c13-4e52-9e15-b0977ce968c8",
   "metadata": {},
   "outputs": [],
   "source": [
    "z"
   ]
  },
  {
   "cell_type": "code",
   "execution_count": null,
   "id": "f06bc56f-98b6-44d7-93a7-0c757bc7d9e6",
   "metadata": {},
   "outputs": [],
   "source": [
    "out = z.mean()"
   ]
  },
  {
   "cell_type": "code",
   "execution_count": null,
   "id": "4a0d1219-ac3f-4601-8ad9-52c9b4f5ab48",
   "metadata": {},
   "outputs": [],
   "source": [
    "out"
   ]
  },
  {
   "cell_type": "code",
   "execution_count": null,
   "id": "c406ade8-f9f3-4aa7-892c-6f9b66b57def",
   "metadata": {},
   "outputs": [],
   "source": [
    "out.backward(retain_graph=True)"
   ]
  },
  {
   "cell_type": "code",
   "execution_count": null,
   "id": "3d7aee62-2f95-413d-831b-15307a60e828",
   "metadata": {},
   "outputs": [],
   "source": [
    "x.grad"
   ]
  },
  {
   "cell_type": "markdown",
   "id": "05476c5e-9e23-44e7-be1f-07de3354e724",
   "metadata": {},
   "source": [
    "## Linear Regression"
   ]
  },
  {
   "cell_type": "code",
   "execution_count": 1,
   "id": "e323ce90-1b10-4c57-b177-223ed204cbd1",
   "metadata": {},
   "outputs": [],
   "source": [
    "import torch\n",
    "import numpy as np\n",
    "import matplotlib.pyplot as plt\n",
    "%matplotlib inline"
   ]
  },
  {
   "cell_type": "code",
   "execution_count": 2,
   "id": "327e2428-76c1-4ec8-884c-03e225131ac3",
   "metadata": {},
   "outputs": [],
   "source": [
    "import torch.nn as nn"
   ]
  },
  {
   "cell_type": "code",
   "execution_count": 3,
   "id": "702bca7f-99ec-41bd-981d-5ad09239d1f0",
   "metadata": {},
   "outputs": [],
   "source": [
    "x_plot = np.linspace(1,50,50).reshape(-1,1)"
   ]
  },
  {
   "cell_type": "code",
   "execution_count": 46,
   "id": "fd711713-8612-464f-b2ca-b58ead0bd8cc",
   "metadata": {},
   "outputs": [],
   "source": [
    "x = torch.linspace(1,50,50).reshape(-1,1)"
   ]
  },
  {
   "cell_type": "code",
   "execution_count": 6,
   "id": "50562df2-7939-4eaa-bf8c-e87b24d77db3",
   "metadata": {},
   "outputs": [
    {
     "data": {
      "text/plain": [
       "tensor([[ 1.],\n",
       "        [ 2.],\n",
       "        [ 3.],\n",
       "        [ 4.],\n",
       "        [ 5.],\n",
       "        [ 6.],\n",
       "        [ 7.],\n",
       "        [ 8.],\n",
       "        [ 9.],\n",
       "        [10.],\n",
       "        [11.],\n",
       "        [12.],\n",
       "        [13.],\n",
       "        [14.],\n",
       "        [15.],\n",
       "        [16.],\n",
       "        [17.],\n",
       "        [18.],\n",
       "        [19.],\n",
       "        [20.],\n",
       "        [21.],\n",
       "        [22.],\n",
       "        [23.],\n",
       "        [24.],\n",
       "        [25.],\n",
       "        [26.],\n",
       "        [27.],\n",
       "        [28.],\n",
       "        [29.],\n",
       "        [30.],\n",
       "        [31.],\n",
       "        [32.],\n",
       "        [33.],\n",
       "        [34.],\n",
       "        [35.],\n",
       "        [36.],\n",
       "        [37.],\n",
       "        [38.],\n",
       "        [39.],\n",
       "        [40.],\n",
       "        [41.],\n",
       "        [42.],\n",
       "        [43.],\n",
       "        [44.],\n",
       "        [45.],\n",
       "        [46.],\n",
       "        [47.],\n",
       "        [48.],\n",
       "        [49.],\n",
       "        [50.]])"
      ]
     },
     "execution_count": 6,
     "metadata": {},
     "output_type": "execute_result"
    }
   ],
   "source": [
    "x"
   ]
  },
  {
   "cell_type": "code",
   "execution_count": 7,
   "id": "5dffec79-e5fb-4f10-b910-295b118d21aa",
   "metadata": {},
   "outputs": [],
   "source": [
    "torch.manual_seed(71)\n",
    "e = torch.randint(-8, 9, (50,1), dtype=torch.float)\n",
    "e_plot = np.random.randint(-8, 9, (50,1))"
   ]
  },
  {
   "cell_type": "code",
   "execution_count": 8,
   "id": "e8ecdcf5-eb13-441e-ad5b-4539196bbd6d",
   "metadata": {},
   "outputs": [
    {
     "data": {
      "text/plain": [
       "tensor([[ 2.],\n",
       "        [ 7.],\n",
       "        [ 2.],\n",
       "        [ 6.],\n",
       "        [ 2.],\n",
       "        [-4.],\n",
       "        [ 2.],\n",
       "        [-5.],\n",
       "        [ 4.],\n",
       "        [ 1.],\n",
       "        [ 2.],\n",
       "        [ 3.],\n",
       "        [ 1.],\n",
       "        [-8.],\n",
       "        [ 5.],\n",
       "        [ 5.],\n",
       "        [-6.],\n",
       "        [ 0.],\n",
       "        [-7.],\n",
       "        [-8.],\n",
       "        [-3.],\n",
       "        [-1.],\n",
       "        [ 2.],\n",
       "        [-6.],\n",
       "        [-3.],\n",
       "        [ 3.],\n",
       "        [ 2.],\n",
       "        [ 3.],\n",
       "        [ 4.],\n",
       "        [ 5.],\n",
       "        [ 1.],\n",
       "        [ 7.],\n",
       "        [ 6.],\n",
       "        [-1.],\n",
       "        [-6.],\n",
       "        [-5.],\n",
       "        [-3.],\n",
       "        [ 7.],\n",
       "        [ 0.],\n",
       "        [ 8.],\n",
       "        [-1.],\n",
       "        [-2.],\n",
       "        [ 2.],\n",
       "        [-8.],\n",
       "        [-1.],\n",
       "        [ 6.],\n",
       "        [-8.],\n",
       "        [-3.],\n",
       "        [-7.],\n",
       "        [-2.]])"
      ]
     },
     "execution_count": 8,
     "metadata": {},
     "output_type": "execute_result"
    }
   ],
   "source": [
    "e"
   ]
  },
  {
   "cell_type": "code",
   "execution_count": 9,
   "id": "01733f6c-2816-491b-b6ff-0bfa27d72d33",
   "metadata": {},
   "outputs": [],
   "source": [
    "y = 2*x + 1 + e\n",
    "y_plot = 2*x_plot + 1 +e_plot"
   ]
  },
  {
   "cell_type": "code",
   "execution_count": 10,
   "id": "77aaab04-d806-4846-8681-3282528b1ae2",
   "metadata": {},
   "outputs": [
    {
     "data": {
      "text/plain": [
       "torch.Size([50, 1])"
      ]
     },
     "execution_count": 10,
     "metadata": {},
     "output_type": "execute_result"
    }
   ],
   "source": [
    "y.shape"
   ]
  },
  {
   "cell_type": "code",
   "execution_count": 11,
   "id": "3770e1fb-3b30-4819-9ffe-234cdab206d1",
   "metadata": {},
   "outputs": [
    {
     "data": {
      "text/plain": [
       "tensor([[ 5.],\n",
       "        [12.],\n",
       "        [ 9.],\n",
       "        [15.],\n",
       "        [13.],\n",
       "        [ 9.],\n",
       "        [17.],\n",
       "        [12.],\n",
       "        [23.],\n",
       "        [22.],\n",
       "        [25.],\n",
       "        [28.],\n",
       "        [28.],\n",
       "        [21.],\n",
       "        [36.],\n",
       "        [38.],\n",
       "        [29.],\n",
       "        [37.],\n",
       "        [32.],\n",
       "        [33.],\n",
       "        [40.],\n",
       "        [44.],\n",
       "        [49.],\n",
       "        [43.],\n",
       "        [48.],\n",
       "        [56.],\n",
       "        [57.],\n",
       "        [60.],\n",
       "        [63.],\n",
       "        [66.],\n",
       "        [64.],\n",
       "        [72.],\n",
       "        [73.],\n",
       "        [68.],\n",
       "        [65.],\n",
       "        [68.],\n",
       "        [72.],\n",
       "        [84.],\n",
       "        [79.],\n",
       "        [89.],\n",
       "        [82.],\n",
       "        [83.],\n",
       "        [89.],\n",
       "        [81.],\n",
       "        [90.],\n",
       "        [99.],\n",
       "        [87.],\n",
       "        [94.],\n",
       "        [92.],\n",
       "        [99.]])"
      ]
     },
     "execution_count": 11,
     "metadata": {},
     "output_type": "execute_result"
    }
   ],
   "source": [
    "y"
   ]
  },
  {
   "cell_type": "code",
   "execution_count": 12,
   "id": "87f0f781-b5c3-4a90-a659-2ffcc4859bec",
   "metadata": {},
   "outputs": [
    {
     "name": "stdout",
     "output_type": "stream",
     "text": [
      "Parameter containing:\n",
      "tensor([[0.1060]], requires_grad=True)\n",
      "Parameter containing:\n",
      "tensor([0.9638], requires_grad=True)\n"
     ]
    }
   ],
   "source": [
    "torch.manual_seed(59)\n",
    "model = nn.Linear(in_features=1, out_features=1)\n",
    "\n",
    "print(model.weight)\n",
    "print(model.bias)"
   ]
  },
  {
   "cell_type": "code",
   "execution_count": 30,
   "id": "6f900ee4-16b5-4b74-a928-3553d4de15e0",
   "metadata": {},
   "outputs": [],
   "source": [
    "class Model(nn.Module):\n",
    "    def __init__(self, in_features, out_features):\n",
    "        super().__init__()\n",
    "        self.linear = nn.Linear(in_features, out_features)\n",
    "        # Linear es de que tipo de layer tiene\n",
    "        # en este caso es una de tipo linar, puede ser convolucional ,etc\n",
    "        # se le pasa el la cantidad de atributos con los que los que alimantaras\n",
    "        # y la cantidad de outputs que tendra\n",
    "\n",
    "    def forward(self, x):\n",
    "        y_pred = self.linear(x)\n",
    "        return y_pred"
   ]
  },
  {
   "cell_type": "code",
   "execution_count": 31,
   "id": "a16363e5-91f0-48da-9249-7edcc8de4d15",
   "metadata": {},
   "outputs": [
    {
     "name": "stdout",
     "output_type": "stream",
     "text": [
      "Parameter containing:\n",
      "tensor([[0.1060]], requires_grad=True)\n",
      "Parameter containing:\n",
      "tensor([0.9638], requires_grad=True)\n"
     ]
    }
   ],
   "source": [
    "torch.manual_seed(59)\n",
    "\n",
    "model = Model(1,1)\n",
    "\n",
    "print(model.linear.weight)\n",
    "print(model.linear.bias)"
   ]
  },
  {
   "cell_type": "code",
   "execution_count": 32,
   "id": "8052a575-80f6-4059-81ad-aaff264e124b",
   "metadata": {},
   "outputs": [
    {
     "name": "stdout",
     "output_type": "stream",
     "text": [
      "linear.weight \t 0.10597813129425049\n",
      "linear.bias \t 0.9637961387634277\n"
     ]
    }
   ],
   "source": [
    "for name, param in model.named_parameters():\n",
    "    print(name,'\\t', param.item())"
   ]
  },
  {
   "cell_type": "code",
   "execution_count": 33,
   "id": "75a6b63b-1618-4622-a51a-6395aa05b3f5",
   "metadata": {},
   "outputs": [
    {
     "name": "stdout",
     "output_type": "stream",
     "text": [
      "tensor([1.1758], grad_fn=<ViewBackward0>)\n"
     ]
    }
   ],
   "source": [
    "x_ejem  = torch.tensor([2.0])\n",
    "print(model.forward(x_ejem))"
   ]
  },
  {
   "cell_type": "code",
   "execution_count": 34,
   "id": "14a18267-afa2-48d1-b507-8e45d1c776d6",
   "metadata": {},
   "outputs": [],
   "source": [
    "x1 = np.linspace(0.0, 50.0, 50)"
   ]
  },
  {
   "cell_type": "code",
   "execution_count": 35,
   "id": "10f27e94-62a2-4dec-9505-39a53830abd6",
   "metadata": {},
   "outputs": [
    {
     "data": {
      "text/plain": [
       "array([ 0.        ,  1.02040816,  2.04081633,  3.06122449,  4.08163265,\n",
       "        5.10204082,  6.12244898,  7.14285714,  8.16326531,  9.18367347,\n",
       "       10.20408163, 11.2244898 , 12.24489796, 13.26530612, 14.28571429,\n",
       "       15.30612245, 16.32653061, 17.34693878, 18.36734694, 19.3877551 ,\n",
       "       20.40816327, 21.42857143, 22.44897959, 23.46938776, 24.48979592,\n",
       "       25.51020408, 26.53061224, 27.55102041, 28.57142857, 29.59183673,\n",
       "       30.6122449 , 31.63265306, 32.65306122, 33.67346939, 34.69387755,\n",
       "       35.71428571, 36.73469388, 37.75510204, 38.7755102 , 39.79591837,\n",
       "       40.81632653, 41.83673469, 42.85714286, 43.87755102, 44.89795918,\n",
       "       45.91836735, 46.93877551, 47.95918367, 48.97959184, 50.        ])"
      ]
     },
     "execution_count": 35,
     "metadata": {},
     "output_type": "execute_result"
    }
   ],
   "source": [
    "x1"
   ]
  },
  {
   "cell_type": "code",
   "execution_count": 36,
   "id": "35a228a5-b696-4c55-8faf-975a6cf18a35",
   "metadata": {},
   "outputs": [],
   "source": [
    "w1 = 0.1059\n",
    "b1 = 0.9637\n",
    "\n",
    "y1 = w1 * x1 + b1"
   ]
  },
  {
   "cell_type": "code",
   "execution_count": 37,
   "id": "5b530129-ec98-4b4a-b3e4-3753ddf084eb",
   "metadata": {},
   "outputs": [
    {
     "name": "stdout",
     "output_type": "stream",
     "text": [
      "[0.9637     1.07176122 1.17982245 1.28788367 1.3959449  1.50400612\n",
      " 1.61206735 1.72012857 1.8281898  1.93625102 2.04431224 2.15237347\n",
      " 2.26043469 2.36849592 2.47655714 2.58461837 2.69267959 2.80074082\n",
      " 2.90880204 3.01686327 3.12492449 3.23298571 3.34104694 3.44910816\n",
      " 3.55716939 3.66523061 3.77329184 3.88135306 3.98941429 4.09747551\n",
      " 4.20553673 4.31359796 4.42165918 4.52972041 4.63778163 4.74584286\n",
      " 4.85390408 4.96196531 5.07002653 5.17808776 5.28614898 5.3942102\n",
      " 5.50227143 5.61033265 5.71839388 5.8264551  5.93451633 6.04257755\n",
      " 6.15063878 6.2587    ]\n"
     ]
    }
   ],
   "source": [
    "print(y1)"
   ]
  },
  {
   "cell_type": "code",
   "execution_count": 38,
   "id": "1cbf41db-8225-46d9-be4b-ac9d4e647091",
   "metadata": {},
   "outputs": [
    {
     "data": {
      "text/plain": [
       "[<matplotlib.lines.Line2D at 0x1aca8250da0>]"
      ]
     },
     "execution_count": 38,
     "metadata": {},
     "output_type": "execute_result"
    },
    {
     "data": {
      "image/png": "[encoded data removed]",
      "text/plain": [
       "<Figure size 640x480 with 1 Axes>"
      ]
     },
     "metadata": {},
     "output_type": "display_data"
    }
   ],
   "source": [
    "plt.scatter(x_plot, y_plot)\n",
    "plt.plot(x1, y1)"
   ]
  },
  {
   "cell_type": "code",
   "execution_count": 39,
   "id": "990fd135-1cb0-42c6-ba1f-f339626d19fa",
   "metadata": {},
   "outputs": [],
   "source": [
    "criterion = nn.MSELoss()"
   ]
  },
  {
   "cell_type": "code",
   "execution_count": 40,
   "id": "e226623a-9ddc-444e-8129-aa05d739f0af",
   "metadata": {},
   "outputs": [],
   "source": [
    "optimizer = torch.optim.SGD(model.parameters(), lr = 0.001)"
   ]
  },
  {
   "cell_type": "code",
   "execution_count": 55,
   "id": "97258db5-bf7d-4239-8382-6fcb25da631c",
   "metadata": {},
   "outputs": [
    {
     "name": "stdout",
     "output_type": "stream",
     "text": [
      "epoch 1 loss : 21.058000564575195 weight: 1.9838191270828247 bias : 1.0557515621185303 \n",
      "\n",
      "epoch 2 loss : 21.0574893951416 weight: 1.9837985038757324 bias : 1.0564652681350708 \n",
      "\n",
      "epoch 3 loss : 21.056978225708008 weight: 1.9837766885757446 bias : 1.0571786165237427 \n",
      "\n",
      "epoch 4 loss : 21.056468963623047 weight: 1.9837559461593628 bias : 1.057891607284546 \n",
      "\n",
      "epoch 5 loss : 21.055959701538086 weight: 1.9837344884872437 bias : 1.0586042404174805 \n",
      "\n",
      "epoch 6 loss : 21.055458068847656 weight: 1.9837136268615723 bias : 1.0593165159225464 \n",
      "\n",
      "epoch 7 loss : 21.054950714111328 weight: 1.9836921691894531 bias : 1.0600284337997437 \n",
      "\n",
      "epoch 8 loss : 21.054443359375 weight: 1.9836713075637817 bias : 1.0607401132583618 \n",
      "\n",
      "epoch 9 loss : 21.053936004638672 weight: 1.9836499691009521 bias : 1.0614514350891113 \n",
      "\n",
      "epoch 10 loss : 21.053434371948242 weight: 1.9836288690567017 bias : 1.0621623992919922 \n",
      "\n",
      "epoch 11 loss : 21.05292510986328 weight: 1.9836077690124512 bias : 1.0628730058670044 \n",
      "\n",
      "epoch 12 loss : 21.05242156982422 weight: 1.9835866689682007 bias : 1.063583254814148 \n",
      "\n",
      "epoch 13 loss : 21.051918029785156 weight: 1.9835655689239502 bias : 1.0642931461334229 \n",
      "\n",
      "epoch 14 loss : 21.051414489746094 weight: 1.9835445880889893 bias : 1.065002679824829 \n",
      "\n",
      "epoch 15 loss : 21.05091094970703 weight: 1.9835233688354492 bias : 1.0657118558883667 \n",
      "\n",
      "epoch 16 loss : 21.050403594970703 weight: 1.9835023880004883 bias : 1.0664207935333252 \n",
      "\n",
      "epoch 17 loss : 21.049901962280273 weight: 1.9834812879562378 bias : 1.067129373550415 \n",
      "\n",
      "epoch 18 loss : 21.049400329589844 weight: 1.9834601879119873 bias : 1.0678375959396362 \n",
      "\n",
      "epoch 19 loss : 21.048898696899414 weight: 1.983439326286316 bias : 1.0685454607009888 \n",
      "\n",
      "epoch 20 loss : 21.048398971557617 weight: 1.9834182262420654 bias : 1.0692529678344727 \n",
      "\n",
      "epoch 21 loss : 21.047895431518555 weight: 1.9833972454071045 bias : 1.069960117340088 \n",
      "\n",
      "epoch 22 loss : 21.04739761352539 weight: 1.983376145362854 bias : 1.0706669092178345 \n",
      "\n",
      "epoch 23 loss : 21.046897888183594 weight: 1.9833554029464722 bias : 1.0713733434677124 \n",
      "\n",
      "epoch 24 loss : 21.046396255493164 weight: 1.9833341836929321 bias : 1.0720794200897217 \n",
      "\n",
      "epoch 25 loss : 21.045900344848633 weight: 1.9833132028579712 bias : 1.0727852582931519 \n",
      "\n",
      "epoch 26 loss : 21.0454044342041 weight: 1.9832924604415894 bias : 1.0734907388687134 \n",
      "\n",
      "epoch 27 loss : 21.044902801513672 weight: 1.9832712411880493 bias : 1.0741958618164062 \n",
      "\n",
      "epoch 28 loss : 21.04440689086914 weight: 1.983250617980957 bias : 1.0749006271362305 \n",
      "\n",
      "epoch 29 loss : 21.04391098022461 weight: 1.983229398727417 bias : 1.075605034828186 \n",
      "\n",
      "epoch 30 loss : 21.043415069580078 weight: 1.9832086563110352 bias : 1.076309084892273 \n",
      "\n",
      "epoch 31 loss : 21.042922973632812 weight: 1.9831876754760742 bias : 1.0770127773284912 \n",
      "\n",
      "epoch 32 loss : 21.04242515563965 weight: 1.9831668138504028 bias : 1.0777162313461304 \n",
      "\n",
      "epoch 33 loss : 21.041933059692383 weight: 1.9831459522247314 bias : 1.0784193277359009 \n",
      "\n",
      "epoch 34 loss : 21.04143714904785 weight: 1.983124852180481 bias : 1.0791220664978027 \n",
      "\n",
      "epoch 35 loss : 21.040939331054688 weight: 1.9831042289733887 bias : 1.079824447631836 \n",
      "\n",
      "epoch 36 loss : 21.040454864501953 weight: 1.9830831289291382 bias : 1.0805264711380005 \n",
      "\n",
      "epoch 37 loss : 21.039960861206055 weight: 1.9830623865127563 bias : 1.0812281370162964 \n",
      "\n",
      "epoch 38 loss : 21.03946304321289 weight: 1.9830416440963745 bias : 1.0819294452667236 \n",
      "\n",
      "epoch 39 loss : 21.03897476196289 weight: 1.9830206632614136 bias : 1.0826305150985718 \n",
      "\n",
      "epoch 40 loss : 21.038484573364258 weight: 1.9829999208450317 bias : 1.0833312273025513 \n",
      "\n",
      "epoch 41 loss : 21.03799057006836 weight: 1.9829792976379395 bias : 1.084031581878662 \n",
      "\n",
      "epoch 42 loss : 21.037504196166992 weight: 1.9829583168029785 bias : 1.0847315788269043 \n",
      "\n",
      "epoch 43 loss : 21.037010192871094 weight: 1.9829375743865967 bias : 1.0854312181472778 \n",
      "\n",
      "epoch 44 loss : 21.036518096923828 weight: 1.9829167127609253 bias : 1.0861304998397827 \n",
      "\n",
      "epoch 45 loss : 21.036035537719727 weight: 1.982896089553833 bias : 1.0868295431137085 \n",
      "\n",
      "epoch 46 loss : 21.035547256469727 weight: 1.982875108718872 bias : 1.0875282287597656 \n",
      "\n",
      "epoch 47 loss : 21.035057067871094 weight: 1.9828546047210693 bias : 1.088226556777954 \n",
      "\n",
      "epoch 48 loss : 21.034568786621094 weight: 1.982833743095398 bias : 1.088924527168274 \n",
      "\n",
      "epoch 49 loss : 21.034082412719727 weight: 1.9828130006790161 bias : 1.089622139930725 \n",
      "\n",
      "epoch 50 loss : 21.03359603881836 weight: 1.9827923774719238 bias : 1.0903193950653076 \n",
      "\n"
     ]
    }
   ],
   "source": [
    "epochs = 50\n",
    "losses = []\n",
    "for i in range(epochs):\n",
    "    i = i + 1\n",
    "    # Prediccion\n",
    "    y_pred = model.forward(x)\n",
    "    \n",
    "    # Calculo de la perdida\n",
    "    loss = criterion(y_pred, y)\n",
    "\n",
    "    # Agregar predida\n",
    "    losses.append(loss)\n",
    "\n",
    "    print(f\"epoch {i} loss : {loss.item()} weight: { model.linear.weight.item()} bias : {model.linear.bias.item()} \\n\")\n",
    "\n",
    "    optimizer.zero_grad()\n",
    "\n",
    "    loss.backward()\n",
    "\n",
    "    optimizer.step()\n",
    "    "
   ]
  },
  {
   "cell_type": "code",
   "execution_count": 48,
   "id": "119a08fb-3778-4dd3-bf8e-705307fbcd44",
   "metadata": {},
   "outputs": [
    {
     "name": "stdout",
     "output_type": "stream",
     "text": [
      "Parameter containing:\n",
      "tensor([[1.9838]], requires_grad=True)\n",
      "Parameter containing:\n",
      "tensor([1.0558], requires_grad=True)\n"
     ]
    }
   ],
   "source": [
    "print(model.linear.weight)\n",
    "print(model.linear.bias)"
   ]
  },
  {
   "cell_type": "code",
   "execution_count": 56,
   "id": "7b20a2d9-be5c-453b-b95e-fdcc41a3e925",
   "metadata": {},
   "outputs": [
    {
     "data": {
      "text/plain": [
       "[tensor(21.0580, grad_fn=<MseLossBackward0>),\n",
       " tensor(21.0575, grad_fn=<MseLossBackward0>),\n",
       " tensor(21.0570, grad_fn=<MseLossBackward0>),\n",
       " tensor(21.0565, grad_fn=<MseLossBackward0>),\n",
       " tensor(21.0560, grad_fn=<MseLossBackward0>),\n",
       " tensor(21.0555, grad_fn=<MseLossBackward0>),\n",
       " tensor(21.0550, grad_fn=<MseLossBackward0>),\n",
       " tensor(21.0544, grad_fn=<MseLossBackward0>),\n",
       " tensor(21.0539, grad_fn=<MseLossBackward0>),\n",
       " tensor(21.0534, grad_fn=<MseLossBackward0>),\n",
       " tensor(21.0529, grad_fn=<MseLossBackward0>),\n",
       " tensor(21.0524, grad_fn=<MseLossBackward0>),\n",
       " tensor(21.0519, grad_fn=<MseLossBackward0>),\n",
       " tensor(21.0514, grad_fn=<MseLossBackward0>),\n",
       " tensor(21.0509, grad_fn=<MseLossBackward0>),\n",
       " tensor(21.0504, grad_fn=<MseLossBackward0>),\n",
       " tensor(21.0499, grad_fn=<MseLossBackward0>),\n",
       " tensor(21.0494, grad_fn=<MseLossBackward0>),\n",
       " tensor(21.0489, grad_fn=<MseLossBackward0>),\n",
       " tensor(21.0484, grad_fn=<MseLossBackward0>),\n",
       " tensor(21.0479, grad_fn=<MseLossBackward0>),\n",
       " tensor(21.0474, grad_fn=<MseLossBackward0>),\n",
       " tensor(21.0469, grad_fn=<MseLossBackward0>),\n",
       " tensor(21.0464, grad_fn=<MseLossBackward0>),\n",
       " tensor(21.0459, grad_fn=<MseLossBackward0>),\n",
       " tensor(21.0454, grad_fn=<MseLossBackward0>),\n",
       " tensor(21.0449, grad_fn=<MseLossBackward0>),\n",
       " tensor(21.0444, grad_fn=<MseLossBackward0>),\n",
       " tensor(21.0439, grad_fn=<MseLossBackward0>),\n",
       " tensor(21.0434, grad_fn=<MseLossBackward0>),\n",
       " tensor(21.0429, grad_fn=<MseLossBackward0>),\n",
       " tensor(21.0424, grad_fn=<MseLossBackward0>),\n",
       " tensor(21.0419, grad_fn=<MseLossBackward0>),\n",
       " tensor(21.0414, grad_fn=<MseLossBackward0>),\n",
       " tensor(21.0409, grad_fn=<MseLossBackward0>),\n",
       " tensor(21.0405, grad_fn=<MseLossBackward0>),\n",
       " tensor(21.0400, grad_fn=<MseLossBackward0>),\n",
       " tensor(21.0395, grad_fn=<MseLossBackward0>),\n",
       " tensor(21.0390, grad_fn=<MseLossBackward0>),\n",
       " tensor(21.0385, grad_fn=<MseLossBackward0>),\n",
       " tensor(21.0380, grad_fn=<MseLossBackward0>),\n",
       " tensor(21.0375, grad_fn=<MseLossBackward0>),\n",
       " tensor(21.0370, grad_fn=<MseLossBackward0>),\n",
       " tensor(21.0365, grad_fn=<MseLossBackward0>),\n",
       " tensor(21.0360, grad_fn=<MseLossBackward0>),\n",
       " tensor(21.0355, grad_fn=<MseLossBackward0>),\n",
       " tensor(21.0351, grad_fn=<MseLossBackward0>),\n",
       " tensor(21.0346, grad_fn=<MseLossBackward0>),\n",
       " tensor(21.0341, grad_fn=<MseLossBackward0>),\n",
       " tensor(21.0336, grad_fn=<MseLossBackward0>)]"
      ]
     },
     "execution_count": 56,
     "metadata": {},
     "output_type": "execute_result"
    }
   ],
   "source": [
    "losses"
   ]
  },
  {
   "cell_type": "code",
   "execution_count": null,
   "id": "c0c973a2-b098-4958-8c75-474217007fbd",
   "metadata": {},
   "outputs": [],
   "source": [
    "\n",
    "epochs = 50\n",
    "ep = np.array(range(epochs))\n",
    "\n",
    "plt.plot(ep,losses)\n",
    "plt.ylabel('MSE LOSS')\n",
    "plt.xlabel('Epoch loss')"
   ]
  },
  {
   "cell_type": "code",
   "execution_count": null,
   "id": "164c9cfd-602d-4863-a204-f21304e71898",
   "metadata": {},
   "outputs": [],
   "source": [
    "x = np.linspace(0.0, 50.0, 50)\n",
    "current_weight = model.linear.weight\n",
    "current_bias = model.linear.bias\n",
    "\n",
    "predicted_y = current_weight*x + current_bias"
   ]
  },
  {
   "cell_type": "code",
   "execution_count": 1,
   "id": "423d01e7-b84e-4fe8-a044-5264f797a727",
   "metadata": {},
   "outputs": [
    {
     "ename": "NameError",
     "evalue": "name 'df' is not defined",
     "output_type": "error",
     "traceback": [
      "\u001b[1;31m---------------------------------------------------------------------------\u001b[0m",
      "\u001b[1;31mNameError\u001b[0m                                 Traceback (most recent call last)",
      "Cell \u001b[1;32mIn[1], line 1\u001b[0m\n\u001b[1;32m----> 1\u001b[0m \u001b[43mdf\u001b[49m\u001b[38;5;241m.\u001b[39mshape\n",
      "\u001b[1;31mNameError\u001b[0m: name 'df' is not defined"
     ]
    }
   ],
   "source": []
  },
  {
   "cell_type": "code",
   "execution_count": null,
   "id": "d169ef74",
   "metadata": {},
   "outputs": [],
   "source": []
  }
 ],
 "metadata": {
  "kernelspec": {
   "display_name": "Python 3 (ipykernel)",
   "language": "python",
   "name": "python3"
  },
  "language_info": {
   "codemirror_mode": {
    "name": "ipython",
    "version": 3
   },
   "file_extension": ".py",
   "mimetype": "text/x-python",
   "name": "python",
   "nbconvert_exporter": "python",
   "pygments_lexer": "ipython3",
   "version": "3.12.1"
  }
 },
 "nbformat": 4,
 "nbformat_minor": 5
}
