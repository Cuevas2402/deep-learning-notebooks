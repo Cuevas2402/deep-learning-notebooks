{
 "cells": [
  {
   "cell_type": "code",
   "execution_count": 2,
   "id": "d86688b2-3de4-4d90-a9d4-df3725413a85",
   "metadata": {},
   "outputs": [
    {
     "name": "stdout",
     "output_type": "stream",
     "text": [
      "# packages in environment at D:\\Anaconda3:\n",
      "#\n",
      "# Name                    Version                   Build  Channel\n",
      "_anaconda_depends         2024.02             py311_mkl_1  \n",
      "abseil-cpp                20211102.0           hd77b12b_0  \n",
      "aiobotocore               2.7.0           py311haa95532_0  \n",
      "aiohttp                   3.9.3           py311h2bbff1b_0  \n",
      "aioitertools              0.7.1              pyhd3eb1b0_0  \n",
      "aiosignal                 1.2.0              pyhd3eb1b0_0  \n",
      "alabaster                 0.7.12             pyhd3eb1b0_0  \n",
      "altair                    5.0.1           py311haa95532_0  \n",
      "anaconda-anon-usage       0.4.3           py311hfc23b7f_100  \n",
      "anaconda-catalogs         0.2.0           py311haa95532_0  \n",
      "anaconda-client           1.12.3          py311haa95532_0  \n",
      "anaconda-cloud-auth       0.1.4           py311haa95532_0  \n",
      "anaconda-navigator        2.5.2           py311haa95532_0  \n",
      "anaconda-project          0.11.1          py311haa95532_0  \n",
      "anyio                     4.2.0           py311haa95532_0  \n",
      "aom                       3.6.0                hd77b12b_0  \n",
      "appdirs                   1.4.4              pyhd3eb1b0_0  \n",
      "archspec                  0.2.3              pyhd3eb1b0_0  \n",
      "argon2-cffi               21.3.0             pyhd3eb1b0_0  \n",
      "argon2-cffi-bindings      21.2.0          py311h2bbff1b_0  \n",
      "arrow                     1.2.3           py311haa95532_1  \n",
      "arrow-cpp                 14.0.2               ha81ea56_1  \n",
      "astroid                   2.14.2          py311haa95532_0  \n",
      "astropy                   5.3.4           py311hd7041d2_0  \n",
      "asttokens                 2.0.5              pyhd3eb1b0_0  \n",
      "async-lru                 2.0.4           py311haa95532_0  \n",
      "atomicwrites              1.4.0                      py_0  \n",
      "attrs                     23.1.0          py311haa95532_0  \n",
      "automat                   20.2.0                     py_0  \n",
      "autopep8                  1.6.0              pyhd3eb1b0_1  \n",
      "aws-c-auth                0.6.19               h2bbff1b_0  \n",
      "aws-c-cal                 0.5.20               h2bbff1b_0  \n",
      "aws-c-common              0.8.5                h2bbff1b_0  \n",
      "aws-c-compression         0.2.16               h2bbff1b_0  \n",
      "aws-c-event-stream        0.2.15               hd77b12b_0  \n",
      "aws-c-http                0.6.25               h2bbff1b_0  \n",
      "aws-c-io                  0.13.10              h2bbff1b_0  \n",
      "aws-c-mqtt                0.7.13               h2bbff1b_0  \n",
      "aws-c-s3                  0.1.51               h2bbff1b_0  \n",
      "aws-c-sdkutils            0.1.6                h2bbff1b_0  \n",
      "aws-checksums             0.1.13               h2bbff1b_0  \n",
      "aws-crt-cpp               0.18.16              hd77b12b_0  \n",
      "aws-sdk-cpp               1.10.55              hd77b12b_0  \n",
      "babel                     2.11.0          py311haa95532_0  \n",
      "backports                 1.1                pyhd3eb1b0_0  \n",
      "backports.functools_lru_cache 1.6.4              pyhd3eb1b0_0  \n",
      "backports.tempfile        1.0                pyhd3eb1b0_1  \n",
      "backports.weakref         1.0.post1                  py_1  \n",
      "bcrypt                    3.2.0           py311h2bbff1b_1  \n",
      "beautifulsoup4            4.12.2          py311haa95532_0  \n",
      "binaryornot               0.4.4              pyhd3eb1b0_1  \n",
      "black                     23.11.0         py311haa95532_0  \n",
      "blas                      1.0                         mkl  \n",
      "bleach                    4.1.0              pyhd3eb1b0_0  \n",
      "blinker                   1.6.2           py311haa95532_0  \n",
      "blosc                     1.21.3               h6c2663c_0  \n",
      "bokeh                     3.3.4           py311h746a85d_0  \n",
      "boltons                   23.0.0          py311haa95532_0  \n",
      "boost-cpp                 1.82.0               h59b6b97_2  \n",
      "botocore                  1.31.64         py311haa95532_0  \n",
      "bottleneck                1.3.7           py311hd7041d2_0  \n",
      "brotli                    1.0.9                h2bbff1b_7  \n",
      "brotli-bin                1.0.9                h2bbff1b_7  \n",
      "brotli-python             1.0.9           py311hd77b12b_7  \n",
      "bzip2                     1.0.8                he774522_0  \n",
      "c-ares                    1.19.1               h2bbff1b_0  \n",
      "c-blosc2                  2.12.0               h2f4ed9d_0  \n",
      "ca-certificates           2024.3.11            haa95532_0  \n",
      "cachetools                4.2.2              pyhd3eb1b0_0  \n",
      "certifi                   2024.6.2        py311haa95532_0  \n",
      "cffi                      1.16.0          py311h2bbff1b_0  \n",
      "cfitsio                   3.470                h2bbff1b_7  \n",
      "chardet                   4.0.0           py311haa95532_1003  \n",
      "charls                    2.2.0                h6c2663c_0  \n",
      "charset-normalizer        2.0.4              pyhd3eb1b0_0  \n",
      "click                     8.1.7           py311haa95532_0  \n",
      "cloudpickle               2.2.1           py311haa95532_0  \n",
      "clyent                    1.2.2           py311haa95532_1  \n",
      "colorama                  0.4.6           py311haa95532_0  \n",
      "colorcet                  3.0.1           py311haa95532_0  \n",
      "comm                      0.1.2           py311haa95532_0  \n",
      "conda                     24.5.0          py311haa95532_0  \n",
      "conda-build               24.1.2          py311haa95532_0  \n",
      "conda-content-trust       0.2.0           py311haa95532_0  \n",
      "conda-index               0.4.0              pyhd3eb1b0_0  \n",
      "conda-libmamba-solver     24.1.0             pyhd3eb1b0_0  \n",
      "conda-pack                0.6.0              pyhd3eb1b0_0  \n",
      "conda-package-handling    2.2.0           py311haa95532_0  \n",
      "conda-package-streaming   0.9.0           py311haa95532_0  \n",
      "conda-repo-cli            1.0.75          py311haa95532_0  \n",
      "conda-token               0.4.0              pyhd3eb1b0_0  \n",
      "conda-verify              3.4.2                      py_1  \n",
      "console_shortcut          0.1.1                         4  \n",
      "constantly                23.10.4         py311haa95532_0  \n",
      "contourpy                 1.2.0           py311h59b6b97_0  \n",
      "cookiecutter              2.5.0           py311haa95532_0  \n",
      "cryptography              42.0.2          py311h89fc84f_0  \n",
      "cssselect                 1.2.0           py311haa95532_0  \n",
      "curl                      8.5.0                he2ea4bf_0  \n",
      "cycler                    0.11.0             pyhd3eb1b0_0  \n",
      "cytoolz                   0.12.2          py311h2bbff1b_0  \n",
      "dask                      2023.11.0       py311haa95532_0  \n",
      "dask-core                 2023.11.0       py311haa95532_0  \n",
      "datashader                0.16.0          py311haa95532_0  \n",
      "dav1d                     1.2.1                h2bbff1b_0  \n",
      "debugpy                   1.6.7           py311hd77b12b_0  \n",
      "decorator                 5.1.1              pyhd3eb1b0_0  \n",
      "defusedxml                0.7.1              pyhd3eb1b0_0  \n",
      "diff-match-patch          20200713           pyhd3eb1b0_0  \n",
      "dill                      0.3.7           py311haa95532_0  \n",
      "distributed               2023.11.0       py311haa95532_0  \n",
      "distro                    1.8.0           py311haa95532_0  \n",
      "docstring-to-markdown     0.11            py311haa95532_0  \n",
      "docutils                  0.18.1          py311haa95532_3  \n",
      "entrypoints               0.4             py311haa95532_0  \n",
      "et_xmlfile                1.1.0           py311haa95532_0  \n",
      "executing                 0.8.3              pyhd3eb1b0_0  \n",
      "filelock                  3.13.1          py311haa95532_0  \n",
      "flake8                    6.0.0           py311haa95532_0  \n",
      "flask                     2.2.5           py311haa95532_0  \n",
      "fmt                       9.1.0                h6d14046_0  \n",
      "fonttools                 4.25.0             pyhd3eb1b0_0  \n",
      "freetype                  2.12.1               ha860e81_0  \n",
      "frozendict                2.4.2           py311haa95532_0  \n",
      "frozenlist                1.4.0           py311h2bbff1b_0  \n",
      "fsspec                    2023.10.0       py311haa95532_0  \n",
      "future                    0.18.3          py311haa95532_0  \n",
      "gensim                    4.3.0           py311heda8569_0  \n",
      "gflags                    2.2.2                hd77b12b_1  \n",
      "giflib                    5.2.1                h8cc25b3_3  \n",
      "gitdb                     4.0.7              pyhd3eb1b0_0  \n",
      "gitpython                 3.1.37          py311haa95532_0  \n",
      "glog                      0.5.0                hd77b12b_1  \n",
      "gmpy2                     2.1.2           py311h7f96b67_0  \n",
      "greenlet                  3.0.1           py311hd77b12b_0  \n",
      "grpc-cpp                  1.48.2               hfe90ff0_1  \n",
      "h5py                      3.9.0           py311h4e0e482_0  \n",
      "hdf5                      1.12.1               h51c971a_3  \n",
      "heapdict                  1.0.1              pyhd3eb1b0_0  \n",
      "holoviews                 1.18.3          py311haa95532_0  \n",
      "hvplot                    0.9.2           py311haa95532_0  \n",
      "hyperlink                 21.0.0             pyhd3eb1b0_0  \n",
      "icc_rt                    2022.1.0             h6049295_2  \n",
      "icu                       73.1                 h6c2663c_0  \n",
      "idna                      3.4             py311haa95532_0  \n",
      "imagecodecs               2023.1.23       py311he6ff3c7_0  \n",
      "imageio                   2.33.1          py311haa95532_0  \n",
      "imagesize                 1.4.1           py311haa95532_0  \n",
      "imbalanced-learn          0.11.0          py311haa95532_1  \n",
      "importlib-metadata        7.0.1           py311haa95532_0  \n",
      "importlib_metadata        7.0.1                hd3eb1b0_0  \n",
      "incremental               22.10.0            pyhd3eb1b0_0  \n",
      "inflection                0.5.1           py311haa95532_0  \n",
      "iniconfig                 1.1.1              pyhd3eb1b0_0  \n",
      "intake                    0.6.8           py311haa95532_0  \n",
      "intel-openmp              2023.1.0         h59b6b97_46320  \n",
      "intervaltree              3.1.0              pyhd3eb1b0_0  \n",
      "ipykernel                 6.28.0          py311haa95532_0  \n",
      "ipython                   8.20.0          py311haa95532_0  \n",
      "ipython_genutils          0.2.0              pyhd3eb1b0_1  \n",
      "ipywidgets                7.6.5              pyhd3eb1b0_2  \n",
      "isort                     5.9.3              pyhd3eb1b0_0  \n",
      "itemadapter               0.3.0              pyhd3eb1b0_0  \n",
      "itemloaders               1.1.0           py311haa95532_0  \n",
      "itsdangerous              2.0.1              pyhd3eb1b0_0  \n",
      "jaraco.classes            3.2.1              pyhd3eb1b0_0  \n",
      "jedi                      0.18.1          py311haa95532_1  \n",
      "jellyfish                 1.0.1           py311h36a85e1_0  \n",
      "jinja2                    3.1.3           py311haa95532_0  \n",
      "jmespath                  1.0.1           py311haa95532_0  \n",
      "joblib                    1.2.0           py311haa95532_0  \n",
      "jpeg                      9e                   h2bbff1b_1  \n",
      "jq                        1.6                  haa95532_1  \n",
      "json5                     0.9.6              pyhd3eb1b0_0  \n",
      "jsonpatch                 1.32               pyhd3eb1b0_0  \n",
      "jsonpointer               2.1                pyhd3eb1b0_0  \n",
      "jsonschema                4.19.2          py311haa95532_0  \n",
      "jsonschema-specifications 2023.7.1        py311haa95532_0  \n",
      "jupyter                   1.0.0           py311haa95532_9  \n",
      "jupyter-lsp               2.2.0           py311haa95532_0  \n",
      "jupyter_client            8.6.0           py311haa95532_0  \n",
      "jupyter_console           6.6.3           py311haa95532_0  \n",
      "jupyter_core              5.5.0           py311haa95532_0  \n",
      "jupyter_events            0.8.0           py311haa95532_0  \n",
      "jupyter_server            2.10.0          py311haa95532_0  \n",
      "jupyter_server_terminals  0.4.4           py311haa95532_1  \n",
      "jupyterlab                4.0.11          py311haa95532_0  \n",
      "jupyterlab-variableinspector 3.1.0           py311haa95532_0  \n",
      "jupyterlab_pygments       0.1.2                      py_0  \n",
      "jupyterlab_server         2.25.1          py311haa95532_0  \n",
      "jupyterlab_widgets        3.0.9           py311haa95532_0  \n",
      "keyring                   23.13.1         py311haa95532_0  \n",
      "kiwisolver                1.4.4           py311hd77b12b_0  \n",
      "krb5                      1.20.1               h5b6d351_0  \n",
      "lazy-object-proxy         1.6.0           py311h2bbff1b_0  \n",
      "lazy_loader               0.3             py311haa95532_0  \n",
      "lcms2                     2.12                 h83e58a3_0  \n",
      "lerc                      3.0                  hd77b12b_0  \n",
      "libaec                    1.0.4                h33f27b4_1  \n",
      "libarchive                3.6.2                hb62f4d4_2  \n",
      "libavif                   0.11.1               h2bbff1b_0  \n",
      "libboost                  1.82.0               h3399ecb_2  \n",
      "libbrotlicommon           1.0.9                h2bbff1b_7  \n",
      "libbrotlidec              1.0.9                h2bbff1b_7  \n",
      "libbrotlienc              1.0.9                h2bbff1b_7  \n",
      "libclang                  14.0.6          default_hb5a9fac_1  \n",
      "libclang13                14.0.6          default_h8e68704_1  \n",
      "libcurl                   8.5.0                h86230a5_0  \n",
      "libdeflate                1.17                 h2bbff1b_1  \n",
      "libevent                  2.1.12               h56d1f94_1  \n",
      "libffi                    3.4.4                hd77b12b_0  \n",
      "libiconv                  1.16                 h2bbff1b_2  \n",
      "liblief                   0.12.3               hd77b12b_0  \n",
      "libmamba                  1.5.6                hcd6fe79_0  \n",
      "libmambapy                1.5.6           py311h77c03ed_0  \n",
      "libpng                    1.6.39               h8cc25b3_0  \n",
      "libpq                     12.17                h906ac69_0  \n",
      "libprotobuf               3.20.3               h23ce68f_0  \n",
      "libsodium                 1.0.18               h62dcd97_0  \n",
      "libsolv                   0.7.24               h23ce68f_0  \n",
      "libspatialindex           1.9.3                h6c2663c_0  \n",
      "libssh2                   1.10.0               he2ea4bf_2  \n",
      "libthrift                 0.15.0               h4364b78_2  \n",
      "libtiff                   4.5.1                hd77b12b_0  \n",
      "libuv                     1.44.2               h2bbff1b_0  \n",
      "libwebp-base              1.3.2                h2bbff1b_0  \n",
      "libxml2                   2.10.4               h0ad7f3c_1  \n",
      "libxslt                   1.1.37               h2bbff1b_1  \n",
      "libzopfli                 1.0.3                ha925a31_0  \n",
      "linkify-it-py             2.0.0           py311haa95532_0  \n",
      "llvmlite                  0.42.0          py311hf2fb9eb_0  \n",
      "locket                    1.0.0           py311haa95532_0  \n",
      "lxml                      4.9.3           py311h09808a7_0  \n",
      "lz4                       4.3.2           py311h2bbff1b_0  \n",
      "lz4-c                     1.9.4                h2bbff1b_0  \n",
      "lzo                       2.10                 he774522_2  \n",
      "m2-msys2-runtime          2.5.0.17080.65c939c               3  \n",
      "m2-patch                  2.7.5                         2  \n",
      "m2w64-libwinpthread-git   5.0.0.4634.697f757               2  \n",
      "markdown                  3.4.1           py311haa95532_0  \n",
      "markdown-it-py            2.2.0           py311haa95532_1  \n",
      "markupsafe                2.1.3           py311h2bbff1b_0  \n",
      "matplotlib                3.8.0           py311haa95532_0  \n",
      "matplotlib-base           3.8.0           py311hf62ec03_0  \n",
      "matplotlib-inline         0.1.6           py311haa95532_0  \n",
      "mccabe                    0.7.0              pyhd3eb1b0_0  \n",
      "mdit-py-plugins           0.3.0           py311haa95532_0  \n",
      "mdurl                     0.1.0           py311haa95532_0  \n",
      "menuinst                  2.0.2           py311hd77b12b_0  \n",
      "mistune                   2.0.4           py311haa95532_0  \n",
      "mkl                       2023.1.0         h6b88ed4_46358  \n",
      "mkl-service               2.4.0           py311h2bbff1b_1  \n",
      "mkl_fft                   1.3.8           py311h2bbff1b_0  \n",
      "mkl_random                1.2.4           py311h59b6b97_0  \n",
      "more-itertools            10.1.0          py311haa95532_0  \n",
      "mpc                       1.1.0                h7edee0f_1  \n",
      "mpfr                      4.0.2                h62dcd97_1  \n",
      "mpir                      3.0.0                hec2e145_1  \n",
      "mpmath                    1.3.0           py311haa95532_0  \n",
      "msgpack-python            1.0.3           py311h59b6b97_0  \n",
      "msys2-conda-epoch         20160418                      1  \n",
      "multidict                 6.0.4           py311h2bbff1b_0  \n",
      "multipledispatch          0.6.0           py311haa95532_0  \n",
      "munkres                   1.1.4                      py_0  \n",
      "mypy                      1.8.0           py311h2bbff1b_0  \n",
      "mypy_extensions           1.0.0           py311haa95532_0  \n",
      "navigator-updater         0.4.0           py311haa95532_1  \n",
      "nbclient                  0.8.0           py311haa95532_0  \n",
      "nbconvert                 7.10.0          py311haa95532_0  \n",
      "nbformat                  5.9.2           py311haa95532_0  \n",
      "nest-asyncio              1.6.0           py311haa95532_0  \n",
      "networkx                  3.1             py311haa95532_0  \n",
      "nltk                      3.8.1           py311haa95532_0  \n",
      "notebook                  7.0.8           py311haa95532_0  \n",
      "notebook-shim             0.2.3           py311haa95532_0  \n",
      "numba                     0.59.0          py311hf62ec03_0  \n",
      "numexpr                   2.8.7           py311h1fcbade_0  \n",
      "numpy                     1.26.4          py311hdab7c0b_0  \n",
      "numpy-base                1.26.4          py311hd01c5d8_0  \n",
      "numpydoc                  1.5.0           py311haa95532_0  \n",
      "openjpeg                  2.4.0                h4fc8c34_0  \n",
      "openpyxl                  3.0.10          py311h2bbff1b_0  \n",
      "openssl                   3.0.14               h827c3e9_0  \n",
      "orc                       1.7.4                h623e30f_1  \n",
      "overrides                 7.4.0           py311haa95532_0  \n",
      "packaging                 23.1            py311haa95532_0  \n",
      "pandas                    2.1.4           py311hf62ec03_0  \n",
      "pandocfilters             1.5.0              pyhd3eb1b0_0  \n",
      "panel                     1.3.8           py311haa95532_0  \n",
      "param                     2.0.2           py311haa95532_0  \n",
      "paramiko                  2.8.1              pyhd3eb1b0_0  \n",
      "parsel                    1.8.1           py311haa95532_0  \n",
      "parso                     0.8.3              pyhd3eb1b0_0  \n",
      "partd                     1.4.1           py311haa95532_0  \n",
      "pathlib                   1.0.1              pyhd3eb1b0_1  \n",
      "pathspec                  0.10.3          py311haa95532_0  \n",
      "patsy                     0.5.3           py311haa95532_0  \n",
      "pcre2                     10.42                h0ff8eda_0  \n",
      "pexpect                   4.8.0              pyhd3eb1b0_3  \n",
      "pickleshare               0.7.5           pyhd3eb1b0_1003  \n",
      "pillow                    10.2.0          py311h2bbff1b_0  \n",
      "pip                       23.3.1          py311haa95532_0  \n",
      "pkce                      1.0.3           py311haa95532_0  \n",
      "pkginfo                   1.9.6           py311haa95532_0  \n",
      "platformdirs              3.10.0          py311haa95532_0  \n",
      "plotly                    5.9.0           py311haa95532_0  \n",
      "pluggy                    1.0.0           py311haa95532_1  \n",
      "ply                       3.11            py311haa95532_0  \n",
      "powershell_shortcut       0.0.1                         3  \n",
      "prometheus_client         0.14.1          py311haa95532_0  \n",
      "prompt-toolkit            3.0.43          py311haa95532_0  \n",
      "prompt_toolkit            3.0.43               hd3eb1b0_0  \n",
      "protego                   0.1.16                     py_0  \n",
      "protobuf                  3.20.3          py311hd77b12b_0  \n",
      "psutil                    5.9.0           py311h2bbff1b_0  \n",
      "ptyprocess                0.7.0              pyhd3eb1b0_2  \n",
      "pure_eval                 0.2.2              pyhd3eb1b0_0  \n",
      "py-cpuinfo                9.0.0           py311haa95532_0  \n",
      "py-lief                   0.12.3          py311hd77b12b_0  \n",
      "pyarrow                   14.0.2          py311h847bd2a_0  \n",
      "pyasn1                    0.4.8              pyhd3eb1b0_0  \n",
      "pyasn1-modules            0.2.8                      py_0  \n",
      "pybind11-abi              4                    hd3eb1b0_1  \n",
      "pycodestyle               2.10.0          py311haa95532_0  \n",
      "pycosat                   0.6.6           py311h2bbff1b_0  \n",
      "pycparser                 2.21               pyhd3eb1b0_0  \n",
      "pyct                      0.5.0           py311haa95532_0  \n",
      "pycurl                    7.45.2          py311he2ea4bf_1  \n",
      "pydantic                  1.10.12         py311h2bbff1b_1  \n",
      "pydeck                    0.8.0           py311haa95532_2  \n",
      "pydispatcher              2.0.5           py311haa95532_2  \n",
      "pydocstyle                6.3.0           py311haa95532_0  \n",
      "pyerfa                    2.0.0           py311h2bbff1b_0  \n",
      "pyflakes                  3.0.1           py311haa95532_0  \n",
      "pygments                  2.15.1          py311haa95532_1  \n",
      "pyjwt                     2.4.0           py311haa95532_0  \n",
      "pylint                    2.16.2          py311haa95532_0  \n",
      "pylint-venv               2.3.0           py311haa95532_0  \n",
      "pyls-spyder               0.4.0              pyhd3eb1b0_0  \n",
      "pynacl                    1.5.0           py311h8cc25b3_0  \n",
      "pyodbc                    5.0.1           py311hd77b12b_0  \n",
      "pyopenssl                 24.0.0          py311haa95532_0  \n",
      "pyparsing                 3.0.9           py311haa95532_0  \n",
      "pyqt                      5.15.10         py311hd77b12b_0  \n",
      "pyqt5-sip                 12.13.0         py311h2bbff1b_0  \n",
      "pyqtwebengine             5.15.10         py311hd77b12b_0  \n",
      "pysocks                   1.7.1           py311haa95532_0  \n",
      "pytables                  3.9.2           py311h91a9f6a_0  \n",
      "pytest                    7.4.0           py311haa95532_0  \n",
      "python                    3.11.7               he1021f5_0  \n",
      "python-dateutil           2.8.2              pyhd3eb1b0_0  \n",
      "python-dotenv             0.21.0          py311haa95532_0  \n",
      "python-fastjsonschema     2.16.2          py311haa95532_0  \n",
      "python-json-logger        2.0.7           py311haa95532_0  \n",
      "python-libarchive-c       2.9                pyhd3eb1b0_1  \n",
      "python-lmdb               1.4.1           py311hd77b12b_0  \n",
      "python-lsp-black          1.2.1           py311haa95532_0  \n",
      "python-lsp-jsonrpc        1.0.0              pyhd3eb1b0_0  \n",
      "python-lsp-server         1.7.2           py311haa95532_0  \n",
      "python-slugify            5.0.2              pyhd3eb1b0_0  \n",
      "python-snappy             0.6.1           py311hd77b12b_0  \n",
      "python-tzdata             2023.3             pyhd3eb1b0_0  \n",
      "pytoolconfig              1.2.6           py311haa95532_0  \n",
      "pytorch                   2.3.0           cpu_py311hdee6804_0  \n",
      "pytz                      2023.3.post1    py311haa95532_0  \n",
      "pyviz_comms               3.0.0           py311haa95532_0  \n",
      "pywavelets                1.5.0           py311hd7041d2_0  \n",
      "pywin32                   305             py311h2bbff1b_0  \n",
      "pywin32-ctypes            0.2.0           py311haa95532_1000  \n",
      "pywinpty                  2.0.10          py311h5da7b33_0  \n",
      "pyyaml                    6.0.1           py311h2bbff1b_0  \n",
      "pyzmq                     25.1.2          py311hd77b12b_0  \n",
      "qdarkstyle                3.0.2              pyhd3eb1b0_0  \n",
      "qstylizer                 0.2.2           py311haa95532_0  \n",
      "qt-main                   5.15.2              h19c9488_10  \n",
      "qt-webengine              5.15.9               h5bd16bc_7  \n",
      "qtawesome                 1.2.2           py311haa95532_0  \n",
      "qtconsole                 5.4.2           py311haa95532_0  \n",
      "qtpy                      2.4.1           py311haa95532_0  \n",
      "queuelib                  1.6.2           py311haa95532_0  \n",
      "re2                       2022.04.01           hd77b12b_0  \n",
      "referencing               0.30.2          py311haa95532_0  \n",
      "regex                     2023.10.3       py311h2bbff1b_0  \n",
      "reproc                    14.2.4               hd77b12b_1  \n",
      "reproc-cpp                14.2.4               hd77b12b_1  \n",
      "requests                  2.31.0          py311haa95532_1  \n",
      "requests-file             1.5.1              pyhd3eb1b0_0  \n",
      "requests-toolbelt         1.0.0           py311haa95532_0  \n",
      "rfc3339-validator         0.1.4           py311haa95532_0  \n",
      "rfc3986-validator         0.1.1           py311haa95532_0  \n",
      "rich                      13.3.5          py311haa95532_0  \n",
      "rope                      1.7.0           py311haa95532_0  \n",
      "rpds-py                   0.10.6          py311h062c2fa_0  \n",
      "rtree                     1.0.1           py311h2eaa2aa_0  \n",
      "ruamel.yaml               0.17.21         py311h2bbff1b_0  \n",
      "ruamel_yaml               0.17.21         py311h2bbff1b_0  \n",
      "s3fs                      2023.10.0       py311haa95532_0  \n",
      "scikit-image              0.22.0          py311hb4ba03d_0  \n",
      "scikit-learn              1.2.2           py311hd77b12b_1  \n",
      "scipy                     1.11.4          py311hc1ccb85_0  \n",
      "scrapy                    2.8.0           py311haa95532_0  \n",
      "seaborn                   0.12.2          py311haa95532_0  \n",
      "semver                    2.13.0             pyhd3eb1b0_0  \n",
      "send2trash                1.8.2           py311haa95532_0  \n",
      "service_identity          18.1.0             pyhd3eb1b0_1  \n",
      "setuptools                68.2.2          py311haa95532_0  \n",
      "sip                       6.7.12          py311hd77b12b_0  \n",
      "six                       1.16.0             pyhd3eb1b0_1  \n",
      "smart_open                5.2.1           py311haa95532_0  \n",
      "smmap                     4.0.0              pyhd3eb1b0_0  \n",
      "snappy                    1.1.10               h6c2663c_1  \n",
      "sniffio                   1.3.0           py311haa95532_0  \n",
      "snowballstemmer           2.2.0              pyhd3eb1b0_0  \n",
      "sortedcontainers          2.4.0              pyhd3eb1b0_0  \n",
      "soupsieve                 2.5             py311haa95532_0  \n",
      "sphinx                    5.0.2           py311haa95532_0  \n",
      "sphinxcontrib-applehelp   1.0.2              pyhd3eb1b0_0  \n",
      "sphinxcontrib-devhelp     1.0.2              pyhd3eb1b0_0  \n",
      "sphinxcontrib-htmlhelp    2.0.0              pyhd3eb1b0_0  \n",
      "sphinxcontrib-jsmath      1.0.1              pyhd3eb1b0_0  \n",
      "sphinxcontrib-qthelp      1.0.3              pyhd3eb1b0_0  \n",
      "sphinxcontrib-serializinghtml 1.1.5              pyhd3eb1b0_0  \n",
      "spyder                    5.4.3           py311haa95532_1  \n",
      "spyder-kernels            2.4.4           py311haa95532_0  \n",
      "sqlalchemy                2.0.25          py311h2bbff1b_0  \n",
      "sqlite                    3.41.2               h2bbff1b_0  \n",
      "stack_data                0.2.0              pyhd3eb1b0_0  \n",
      "statsmodels               0.14.0          py311hd7041d2_0  \n",
      "streamlit                 1.30.0          py311haa95532_0  \n",
      "sympy                     1.12            py311haa95532_0  \n",
      "tabulate                  0.9.0           py311haa95532_0  \n",
      "tbb                       2021.8.0             h59b6b97_0  \n",
      "tblib                     1.7.0              pyhd3eb1b0_0  \n",
      "tenacity                  8.2.2           py311haa95532_0  \n",
      "terminado                 0.17.1          py311haa95532_0  \n",
      "text-unidecode            1.3                pyhd3eb1b0_0  \n",
      "textdistance              4.2.1              pyhd3eb1b0_0  \n",
      "threadpoolctl             2.2.0              pyh0d69192_0  \n",
      "three-merge               0.1.1              pyhd3eb1b0_0  \n",
      "tifffile                  2023.4.12       py311haa95532_0  \n",
      "tinycss2                  1.2.1           py311haa95532_0  \n",
      "tk                        8.6.12               h2bbff1b_0  \n",
      "tldextract                3.2.0              pyhd3eb1b0_0  \n",
      "toml                      0.10.2             pyhd3eb1b0_0  \n",
      "tomlkit                   0.11.1          py311haa95532_0  \n",
      "toolz                     0.12.0          py311haa95532_0  \n",
      "torchvision               0.15.2          cpu_py311haf6e6b9_0  \n",
      "tornado                   6.3.3           py311h2bbff1b_0  \n",
      "tqdm                      4.65.0          py311h746a85d_0  \n",
      "traitlets                 5.7.1           py311haa95532_0  \n",
      "truststore                0.8.0           py311haa95532_0  \n",
      "twisted                   23.10.0         py311haa95532_0  \n",
      "twisted-iocpsupport       1.0.2           py311h2bbff1b_0  \n",
      "typing-extensions         4.9.0           py311haa95532_1  \n",
      "typing_extensions         4.9.0           py311haa95532_1  \n",
      "tzdata                    2023d                h04d1e81_0  \n",
      "tzlocal                   2.1             py311haa95532_1  \n",
      "uc-micro-py               1.0.1           py311haa95532_0  \n",
      "ujson                     5.4.0           py311hd77b12b_0  \n",
      "unidecode                 1.2.0              pyhd3eb1b0_0  \n",
      "urllib3                   2.0.7           py311haa95532_0  \n",
      "utf8proc                  2.6.1                h2bbff1b_1  \n",
      "validators                0.18.2             pyhd3eb1b0_0  \n",
      "vc                        14.2                 h21ff451_1  \n",
      "vs2015_runtime            14.29.30133          h43f2093_3  \n",
      "w3lib                     2.1.2           py311haa95532_0  \n",
      "watchdog                  2.1.6           py311haa95532_0  \n",
      "wcwidth                   0.2.5              pyhd3eb1b0_0  \n",
      "webencodings              0.5.1           py311haa95532_1  \n",
      "websocket-client          0.58.0          py311haa95532_4  \n",
      "werkzeug                  2.2.3           py311haa95532_0  \n",
      "whatthepatch              1.0.2           py311haa95532_0  \n",
      "wheel                     0.41.2          py311haa95532_0  \n",
      "widgetsnbextension        3.5.2           py311haa95532_1  \n",
      "win_inet_pton             1.1.0           py311haa95532_0  \n",
      "winpty                    0.4.3                         4  \n",
      "wrapt                     1.14.1          py311h2bbff1b_0  \n",
      "xarray                    2023.6.0        py311haa95532_0  \n",
      "xlwings                   0.29.1          py311haa95532_0  \n",
      "xyzservices               2022.9.0        py311haa95532_1  \n",
      "xz                        5.4.5                h8cc25b3_0  \n",
      "yaml                      0.2.5                he774522_0  \n",
      "yaml-cpp                  0.8.0                hd77b12b_0  \n",
      "yapf                      0.31.0             pyhd3eb1b0_0  \n",
      "yarl                      1.9.3           py311h2bbff1b_0  \n",
      "zeromq                    4.3.5                hd77b12b_0  \n",
      "zfp                       1.0.0                hd77b12b_0  \n",
      "zict                      3.0.0           py311haa95532_0  \n",
      "zipp                      3.17.0          py311haa95532_0  \n",
      "zlib                      1.2.13               h8cc25b3_0  \n",
      "zlib-ng                   2.0.7                h2bbff1b_0  \n",
      "zope                      1.0             py311haa95532_1  \n",
      "zope.interface            5.4.0           py311h2bbff1b_0  \n",
      "zstandard                 0.19.0          py311h2bbff1b_0  \n",
      "zstd                      1.5.5                hd43e919_0  \n"
     ]
    }
   ],
   "source": [
    "!conda list"
   ]
  },
  {
   "cell_type": "markdown",
   "id": "66b73493-be29-45ac-a005-492bb5dd896e",
   "metadata": {},
   "source": [
    "# ANN for image classification"
   ]
  },
  {
   "cell_type": "code",
   "execution_count": 1,
   "id": "62f24c58-7924-4a39-8004-34308e5e693f",
   "metadata": {},
   "outputs": [],
   "source": [
    "import torch\n",
    "import torch.nn as nn\n",
    "import torch.nn.functional as F\n",
    "import numpy as np"
   ]
  },
  {
   "cell_type": "code",
   "execution_count": 3,
   "id": "829ed395-cec7-465f-b557-a651553fa582",
   "metadata": {},
   "outputs": [
    {
     "name": "stdout",
     "output_type": "stream",
     "text": [
      "2.3.0\n"
     ]
    }
   ],
   "source": [
    "print(torch.__version__)"
   ]
  },
  {
   "cell_type": "code",
   "execution_count": 5,
   "id": "ff36b28f-d9ac-490f-953b-f270ec56eee1",
   "metadata": {},
   "outputs": [],
   "source": [
    "from torch.utils.data import DataLoader\n",
    "from torchvision import datasets, transforms"
   ]
  },
  {
   "cell_type": "code",
   "execution_count": 6,
   "id": "d25ad7db-f431-49d2-9282-3e24b441ae27",
   "metadata": {},
   "outputs": [],
   "source": [
    "import pandas as pd\n",
    "import matplotlib.pyplot as plt\n",
    "%matplotlib inline\n",
    "from sklearn.metrics import confusion_matrix"
   ]
  },
  {
   "cell_type": "markdown",
   "id": "29f94ca1-5ee5-460e-9a39-cc39249ac24e",
   "metadata": {},
   "source": [
    "## Data processing"
   ]
  },
  {
   "cell_type": "markdown",
   "id": "72c8279b-cf2a-4f6c-9a34-bfe88857395b",
   "metadata": {},
   "source": [
    "MNIST IMAGE --> Tensor"
   ]
  },
  {
   "cell_type": "code",
   "execution_count": 7,
   "id": "ac4d9ba5-3cd7-4d35-bbbc-a38692a2eeac",
   "metadata": {},
   "outputs": [],
   "source": [
    "transform = transforms.ToTensor()"
   ]
  },
  {
   "cell_type": "code",
   "execution_count": 8,
   "id": "9f0bd3fc-c036-468e-b885-0d244a348270",
   "metadata": {},
   "outputs": [],
   "source": [
    "train_data = datasets.MNIST(root='./Data', train = True, download=True, transform=transform)"
   ]
  },
  {
   "cell_type": "code",
   "execution_count": 9,
   "id": "f7996495-5612-483c-a9ee-5d51ef2b7ed3",
   "metadata": {},
   "outputs": [
    {
     "data": {
      "text/plain": [
       "Dataset MNIST\n",
       "    Number of datapoints: 60000\n",
       "    Root location: ./Data\n",
       "    Split: Train\n",
       "    StandardTransform\n",
       "Transform: ToTensor()"
      ]
     },
     "execution_count": 9,
     "metadata": {},
     "output_type": "execute_result"
    }
   ],
   "source": [
    "train_data"
   ]
  },
  {
   "cell_type": "code",
   "execution_count": 10,
   "id": "3e4def6d-dfb3-4df8-8e5d-ac1b7e77b173",
   "metadata": {},
   "outputs": [],
   "source": [
    "test_data = datasets.MNIST(root = './Data', train=False, download=True, transform=transform)"
   ]
  },
  {
   "cell_type": "code",
   "execution_count": 11,
   "id": "ac8a2281-81be-4b29-ac89-df15026610de",
   "metadata": {},
   "outputs": [
    {
     "data": {
      "text/plain": [
       "Dataset MNIST\n",
       "    Number of datapoints: 10000\n",
       "    Root location: ./Data\n",
       "    Split: Test\n",
       "    StandardTransform\n",
       "Transform: ToTensor()"
      ]
     },
     "execution_count": 11,
     "metadata": {},
     "output_type": "execute_result"
    }
   ],
   "source": [
    "test_data"
   ]
  },
  {
   "cell_type": "code",
   "execution_count": 12,
   "id": "2996ee3a-b204-4a5c-ab24-e8d8fe3ecf78",
   "metadata": {},
   "outputs": [
    {
     "data": {
      "text/plain": [
       "torchvision.datasets.mnist.MNIST"
      ]
     },
     "execution_count": 12,
     "metadata": {},
     "output_type": "execute_result"
    }
   ],
   "source": [
    "type(train_data)"
   ]
  },
  {
   "cell_type": "code",
   "execution_count": 13,
   "id": "cbb74c33-a79a-4521-9131-83f1073d8ac4",
   "metadata": {},
   "outputs": [
    {
     "data": {
      "text/plain": [
       "(tensor([[[0.0000, 0.0000, 0.0000, 0.0000, 0.0000, 0.0000, 0.0000, 0.0000,\n",
       "           0.0000, 0.0000, 0.0000, 0.0000, 0.0000, 0.0000, 0.0000, 0.0000,\n",
       "           0.0000, 0.0000, 0.0000, 0.0000, 0.0000, 0.0000, 0.0000, 0.0000,\n",
       "           0.0000, 0.0000, 0.0000, 0.0000],\n",
       "          [0.0000, 0.0000, 0.0000, 0.0000, 0.0000, 0.0000, 0.0000, 0.0000,\n",
       "           0.0000, 0.0000, 0.0000, 0.0000, 0.0000, 0.0000, 0.0000, 0.0000,\n",
       "           0.0000, 0.0000, 0.0000, 0.0000, 0.0000, 0.0000, 0.0000, 0.0000,\n",
       "           0.0000, 0.0000, 0.0000, 0.0000],\n",
       "          [0.0000, 0.0000, 0.0000, 0.0000, 0.0000, 0.0000, 0.0000, 0.0000,\n",
       "           0.0000, 0.0000, 0.0000, 0.0000, 0.0000, 0.0000, 0.0000, 0.0000,\n",
       "           0.0000, 0.0000, 0.0000, 0.0000, 0.0000, 0.0000, 0.0000, 0.0000,\n",
       "           0.0000, 0.0000, 0.0000, 0.0000],\n",
       "          [0.0000, 0.0000, 0.0000, 0.0000, 0.0000, 0.0000, 0.0000, 0.0000,\n",
       "           0.0000, 0.0000, 0.0000, 0.0000, 0.0000, 0.0000, 0.0000, 0.0000,\n",
       "           0.0000, 0.0000, 0.0000, 0.0000, 0.0000, 0.0000, 0.0000, 0.0000,\n",
       "           0.0000, 0.0000, 0.0000, 0.0000],\n",
       "          [0.0000, 0.0000, 0.0000, 0.0000, 0.0000, 0.0000, 0.0000, 0.0000,\n",
       "           0.0000, 0.0000, 0.0000, 0.0000, 0.0000, 0.0000, 0.0000, 0.0000,\n",
       "           0.0000, 0.0000, 0.0000, 0.0000, 0.0000, 0.0000, 0.0000, 0.0000,\n",
       "           0.0000, 0.0000, 0.0000, 0.0000],\n",
       "          [0.0000, 0.0000, 0.0000, 0.0000, 0.0000, 0.0000, 0.0000, 0.0000,\n",
       "           0.0000, 0.0000, 0.0000, 0.0000, 0.0118, 0.0706, 0.0706, 0.0706,\n",
       "           0.4941, 0.5333, 0.6863, 0.1020, 0.6510, 1.0000, 0.9686, 0.4980,\n",
       "           0.0000, 0.0000, 0.0000, 0.0000],\n",
       "          [0.0000, 0.0000, 0.0000, 0.0000, 0.0000, 0.0000, 0.0000, 0.0000,\n",
       "           0.1176, 0.1412, 0.3686, 0.6039, 0.6667, 0.9922, 0.9922, 0.9922,\n",
       "           0.9922, 0.9922, 0.8824, 0.6745, 0.9922, 0.9490, 0.7647, 0.2510,\n",
       "           0.0000, 0.0000, 0.0000, 0.0000],\n",
       "          [0.0000, 0.0000, 0.0000, 0.0000, 0.0000, 0.0000, 0.0000, 0.1922,\n",
       "           0.9333, 0.9922, 0.9922, 0.9922, 0.9922, 0.9922, 0.9922, 0.9922,\n",
       "           0.9922, 0.9843, 0.3647, 0.3216, 0.3216, 0.2196, 0.1529, 0.0000,\n",
       "           0.0000, 0.0000, 0.0000, 0.0000],\n",
       "          [0.0000, 0.0000, 0.0000, 0.0000, 0.0000, 0.0000, 0.0000, 0.0706,\n",
       "           0.8588, 0.9922, 0.9922, 0.9922, 0.9922, 0.9922, 0.7765, 0.7137,\n",
       "           0.9686, 0.9451, 0.0000, 0.0000, 0.0000, 0.0000, 0.0000, 0.0000,\n",
       "           0.0000, 0.0000, 0.0000, 0.0000],\n",
       "          [0.0000, 0.0000, 0.0000, 0.0000, 0.0000, 0.0000, 0.0000, 0.0000,\n",
       "           0.3137, 0.6118, 0.4196, 0.9922, 0.9922, 0.8039, 0.0431, 0.0000,\n",
       "           0.1686, 0.6039, 0.0000, 0.0000, 0.0000, 0.0000, 0.0000, 0.0000,\n",
       "           0.0000, 0.0000, 0.0000, 0.0000],\n",
       "          [0.0000, 0.0000, 0.0000, 0.0000, 0.0000, 0.0000, 0.0000, 0.0000,\n",
       "           0.0000, 0.0549, 0.0039, 0.6039, 0.9922, 0.3529, 0.0000, 0.0000,\n",
       "           0.0000, 0.0000, 0.0000, 0.0000, 0.0000, 0.0000, 0.0000, 0.0000,\n",
       "           0.0000, 0.0000, 0.0000, 0.0000],\n",
       "          [0.0000, 0.0000, 0.0000, 0.0000, 0.0000, 0.0000, 0.0000, 0.0000,\n",
       "           0.0000, 0.0000, 0.0000, 0.5451, 0.9922, 0.7451, 0.0078, 0.0000,\n",
       "           0.0000, 0.0000, 0.0000, 0.0000, 0.0000, 0.0000, 0.0000, 0.0000,\n",
       "           0.0000, 0.0000, 0.0000, 0.0000],\n",
       "          [0.0000, 0.0000, 0.0000, 0.0000, 0.0000, 0.0000, 0.0000, 0.0000,\n",
       "           0.0000, 0.0000, 0.0000, 0.0431, 0.7451, 0.9922, 0.2745, 0.0000,\n",
       "           0.0000, 0.0000, 0.0000, 0.0000, 0.0000, 0.0000, 0.0000, 0.0000,\n",
       "           0.0000, 0.0000, 0.0000, 0.0000],\n",
       "          [0.0000, 0.0000, 0.0000, 0.0000, 0.0000, 0.0000, 0.0000, 0.0000,\n",
       "           0.0000, 0.0000, 0.0000, 0.0000, 0.1373, 0.9451, 0.8824, 0.6275,\n",
       "           0.4235, 0.0039, 0.0000, 0.0000, 0.0000, 0.0000, 0.0000, 0.0000,\n",
       "           0.0000, 0.0000, 0.0000, 0.0000],\n",
       "          [0.0000, 0.0000, 0.0000, 0.0000, 0.0000, 0.0000, 0.0000, 0.0000,\n",
       "           0.0000, 0.0000, 0.0000, 0.0000, 0.0000, 0.3176, 0.9412, 0.9922,\n",
       "           0.9922, 0.4667, 0.0980, 0.0000, 0.0000, 0.0000, 0.0000, 0.0000,\n",
       "           0.0000, 0.0000, 0.0000, 0.0000],\n",
       "          [0.0000, 0.0000, 0.0000, 0.0000, 0.0000, 0.0000, 0.0000, 0.0000,\n",
       "           0.0000, 0.0000, 0.0000, 0.0000, 0.0000, 0.0000, 0.1765, 0.7294,\n",
       "           0.9922, 0.9922, 0.5882, 0.1059, 0.0000, 0.0000, 0.0000, 0.0000,\n",
       "           0.0000, 0.0000, 0.0000, 0.0000],\n",
       "          [0.0000, 0.0000, 0.0000, 0.0000, 0.0000, 0.0000, 0.0000, 0.0000,\n",
       "           0.0000, 0.0000, 0.0000, 0.0000, 0.0000, 0.0000, 0.0000, 0.0627,\n",
       "           0.3647, 0.9882, 0.9922, 0.7333, 0.0000, 0.0000, 0.0000, 0.0000,\n",
       "           0.0000, 0.0000, 0.0000, 0.0000],\n",
       "          [0.0000, 0.0000, 0.0000, 0.0000, 0.0000, 0.0000, 0.0000, 0.0000,\n",
       "           0.0000, 0.0000, 0.0000, 0.0000, 0.0000, 0.0000, 0.0000, 0.0000,\n",
       "           0.0000, 0.9765, 0.9922, 0.9765, 0.2510, 0.0000, 0.0000, 0.0000,\n",
       "           0.0000, 0.0000, 0.0000, 0.0000],\n",
       "          [0.0000, 0.0000, 0.0000, 0.0000, 0.0000, 0.0000, 0.0000, 0.0000,\n",
       "           0.0000, 0.0000, 0.0000, 0.0000, 0.0000, 0.0000, 0.1804, 0.5098,\n",
       "           0.7176, 0.9922, 0.9922, 0.8118, 0.0078, 0.0000, 0.0000, 0.0000,\n",
       "           0.0000, 0.0000, 0.0000, 0.0000],\n",
       "          [0.0000, 0.0000, 0.0000, 0.0000, 0.0000, 0.0000, 0.0000, 0.0000,\n",
       "           0.0000, 0.0000, 0.0000, 0.0000, 0.1529, 0.5804, 0.8980, 0.9922,\n",
       "           0.9922, 0.9922, 0.9804, 0.7137, 0.0000, 0.0000, 0.0000, 0.0000,\n",
       "           0.0000, 0.0000, 0.0000, 0.0000],\n",
       "          [0.0000, 0.0000, 0.0000, 0.0000, 0.0000, 0.0000, 0.0000, 0.0000,\n",
       "           0.0000, 0.0000, 0.0941, 0.4471, 0.8667, 0.9922, 0.9922, 0.9922,\n",
       "           0.9922, 0.7882, 0.3059, 0.0000, 0.0000, 0.0000, 0.0000, 0.0000,\n",
       "           0.0000, 0.0000, 0.0000, 0.0000],\n",
       "          [0.0000, 0.0000, 0.0000, 0.0000, 0.0000, 0.0000, 0.0000, 0.0000,\n",
       "           0.0902, 0.2588, 0.8353, 0.9922, 0.9922, 0.9922, 0.9922, 0.7765,\n",
       "           0.3176, 0.0078, 0.0000, 0.0000, 0.0000, 0.0000, 0.0000, 0.0000,\n",
       "           0.0000, 0.0000, 0.0000, 0.0000],\n",
       "          [0.0000, 0.0000, 0.0000, 0.0000, 0.0000, 0.0000, 0.0706, 0.6706,\n",
       "           0.8588, 0.9922, 0.9922, 0.9922, 0.9922, 0.7647, 0.3137, 0.0353,\n",
       "           0.0000, 0.0000, 0.0000, 0.0000, 0.0000, 0.0000, 0.0000, 0.0000,\n",
       "           0.0000, 0.0000, 0.0000, 0.0000],\n",
       "          [0.0000, 0.0000, 0.0000, 0.0000, 0.2157, 0.6745, 0.8863, 0.9922,\n",
       "           0.9922, 0.9922, 0.9922, 0.9569, 0.5216, 0.0431, 0.0000, 0.0000,\n",
       "           0.0000, 0.0000, 0.0000, 0.0000, 0.0000, 0.0000, 0.0000, 0.0000,\n",
       "           0.0000, 0.0000, 0.0000, 0.0000],\n",
       "          [0.0000, 0.0000, 0.0000, 0.0000, 0.5333, 0.9922, 0.9922, 0.9922,\n",
       "           0.8314, 0.5294, 0.5176, 0.0627, 0.0000, 0.0000, 0.0000, 0.0000,\n",
       "           0.0000, 0.0000, 0.0000, 0.0000, 0.0000, 0.0000, 0.0000, 0.0000,\n",
       "           0.0000, 0.0000, 0.0000, 0.0000],\n",
       "          [0.0000, 0.0000, 0.0000, 0.0000, 0.0000, 0.0000, 0.0000, 0.0000,\n",
       "           0.0000, 0.0000, 0.0000, 0.0000, 0.0000, 0.0000, 0.0000, 0.0000,\n",
       "           0.0000, 0.0000, 0.0000, 0.0000, 0.0000, 0.0000, 0.0000, 0.0000,\n",
       "           0.0000, 0.0000, 0.0000, 0.0000],\n",
       "          [0.0000, 0.0000, 0.0000, 0.0000, 0.0000, 0.0000, 0.0000, 0.0000,\n",
       "           0.0000, 0.0000, 0.0000, 0.0000, 0.0000, 0.0000, 0.0000, 0.0000,\n",
       "           0.0000, 0.0000, 0.0000, 0.0000, 0.0000, 0.0000, 0.0000, 0.0000,\n",
       "           0.0000, 0.0000, 0.0000, 0.0000],\n",
       "          [0.0000, 0.0000, 0.0000, 0.0000, 0.0000, 0.0000, 0.0000, 0.0000,\n",
       "           0.0000, 0.0000, 0.0000, 0.0000, 0.0000, 0.0000, 0.0000, 0.0000,\n",
       "           0.0000, 0.0000, 0.0000, 0.0000, 0.0000, 0.0000, 0.0000, 0.0000,\n",
       "           0.0000, 0.0000, 0.0000, 0.0000]]]),\n",
       " 5)"
      ]
     },
     "execution_count": 13,
     "metadata": {},
     "output_type": "execute_result"
    }
   ],
   "source": [
    "train_data[0]"
   ]
  },
  {
   "cell_type": "code",
   "execution_count": 14,
   "id": "bd4103ab-e72e-46cb-880d-e08258886070",
   "metadata": {},
   "outputs": [],
   "source": [
    "image, label = train_data[0]"
   ]
  },
  {
   "cell_type": "code",
   "execution_count": 15,
   "id": "a76cf148-9ec7-485e-91bb-b6831ccc1b24",
   "metadata": {},
   "outputs": [
    {
     "data": {
      "text/plain": [
       "tensor([[[0.0000, 0.0000, 0.0000, 0.0000, 0.0000, 0.0000, 0.0000, 0.0000,\n",
       "          0.0000, 0.0000, 0.0000, 0.0000, 0.0000, 0.0000, 0.0000, 0.0000,\n",
       "          0.0000, 0.0000, 0.0000, 0.0000, 0.0000, 0.0000, 0.0000, 0.0000,\n",
       "          0.0000, 0.0000, 0.0000, 0.0000],\n",
       "         [0.0000, 0.0000, 0.0000, 0.0000, 0.0000, 0.0000, 0.0000, 0.0000,\n",
       "          0.0000, 0.0000, 0.0000, 0.0000, 0.0000, 0.0000, 0.0000, 0.0000,\n",
       "          0.0000, 0.0000, 0.0000, 0.0000, 0.0000, 0.0000, 0.0000, 0.0000,\n",
       "          0.0000, 0.0000, 0.0000, 0.0000],\n",
       "         [0.0000, 0.0000, 0.0000, 0.0000, 0.0000, 0.0000, 0.0000, 0.0000,\n",
       "          0.0000, 0.0000, 0.0000, 0.0000, 0.0000, 0.0000, 0.0000, 0.0000,\n",
       "          0.0000, 0.0000, 0.0000, 0.0000, 0.0000, 0.0000, 0.0000, 0.0000,\n",
       "          0.0000, 0.0000, 0.0000, 0.0000],\n",
       "         [0.0000, 0.0000, 0.0000, 0.0000, 0.0000, 0.0000, 0.0000, 0.0000,\n",
       "          0.0000, 0.0000, 0.0000, 0.0000, 0.0000, 0.0000, 0.0000, 0.0000,\n",
       "          0.0000, 0.0000, 0.0000, 0.0000, 0.0000, 0.0000, 0.0000, 0.0000,\n",
       "          0.0000, 0.0000, 0.0000, 0.0000],\n",
       "         [0.0000, 0.0000, 0.0000, 0.0000, 0.0000, 0.0000, 0.0000, 0.0000,\n",
       "          0.0000, 0.0000, 0.0000, 0.0000, 0.0000, 0.0000, 0.0000, 0.0000,\n",
       "          0.0000, 0.0000, 0.0000, 0.0000, 0.0000, 0.0000, 0.0000, 0.0000,\n",
       "          0.0000, 0.0000, 0.0000, 0.0000],\n",
       "         [0.0000, 0.0000, 0.0000, 0.0000, 0.0000, 0.0000, 0.0000, 0.0000,\n",
       "          0.0000, 0.0000, 0.0000, 0.0000, 0.0118, 0.0706, 0.0706, 0.0706,\n",
       "          0.4941, 0.5333, 0.6863, 0.1020, 0.6510, 1.0000, 0.9686, 0.4980,\n",
       "          0.0000, 0.0000, 0.0000, 0.0000],\n",
       "         [0.0000, 0.0000, 0.0000, 0.0000, 0.0000, 0.0000, 0.0000, 0.0000,\n",
       "          0.1176, 0.1412, 0.3686, 0.6039, 0.6667, 0.9922, 0.9922, 0.9922,\n",
       "          0.9922, 0.9922, 0.8824, 0.6745, 0.9922, 0.9490, 0.7647, 0.2510,\n",
       "          0.0000, 0.0000, 0.0000, 0.0000],\n",
       "         [0.0000, 0.0000, 0.0000, 0.0000, 0.0000, 0.0000, 0.0000, 0.1922,\n",
       "          0.9333, 0.9922, 0.9922, 0.9922, 0.9922, 0.9922, 0.9922, 0.9922,\n",
       "          0.9922, 0.9843, 0.3647, 0.3216, 0.3216, 0.2196, 0.1529, 0.0000,\n",
       "          0.0000, 0.0000, 0.0000, 0.0000],\n",
       "         [0.0000, 0.0000, 0.0000, 0.0000, 0.0000, 0.0000, 0.0000, 0.0706,\n",
       "          0.8588, 0.9922, 0.9922, 0.9922, 0.9922, 0.9922, 0.7765, 0.7137,\n",
       "          0.9686, 0.9451, 0.0000, 0.0000, 0.0000, 0.0000, 0.0000, 0.0000,\n",
       "          0.0000, 0.0000, 0.0000, 0.0000],\n",
       "         [0.0000, 0.0000, 0.0000, 0.0000, 0.0000, 0.0000, 0.0000, 0.0000,\n",
       "          0.3137, 0.6118, 0.4196, 0.9922, 0.9922, 0.8039, 0.0431, 0.0000,\n",
       "          0.1686, 0.6039, 0.0000, 0.0000, 0.0000, 0.0000, 0.0000, 0.0000,\n",
       "          0.0000, 0.0000, 0.0000, 0.0000],\n",
       "         [0.0000, 0.0000, 0.0000, 0.0000, 0.0000, 0.0000, 0.0000, 0.0000,\n",
       "          0.0000, 0.0549, 0.0039, 0.6039, 0.9922, 0.3529, 0.0000, 0.0000,\n",
       "          0.0000, 0.0000, 0.0000, 0.0000, 0.0000, 0.0000, 0.0000, 0.0000,\n",
       "          0.0000, 0.0000, 0.0000, 0.0000],\n",
       "         [0.0000, 0.0000, 0.0000, 0.0000, 0.0000, 0.0000, 0.0000, 0.0000,\n",
       "          0.0000, 0.0000, 0.0000, 0.5451, 0.9922, 0.7451, 0.0078, 0.0000,\n",
       "          0.0000, 0.0000, 0.0000, 0.0000, 0.0000, 0.0000, 0.0000, 0.0000,\n",
       "          0.0000, 0.0000, 0.0000, 0.0000],\n",
       "         [0.0000, 0.0000, 0.0000, 0.0000, 0.0000, 0.0000, 0.0000, 0.0000,\n",
       "          0.0000, 0.0000, 0.0000, 0.0431, 0.7451, 0.9922, 0.2745, 0.0000,\n",
       "          0.0000, 0.0000, 0.0000, 0.0000, 0.0000, 0.0000, 0.0000, 0.0000,\n",
       "          0.0000, 0.0000, 0.0000, 0.0000],\n",
       "         [0.0000, 0.0000, 0.0000, 0.0000, 0.0000, 0.0000, 0.0000, 0.0000,\n",
       "          0.0000, 0.0000, 0.0000, 0.0000, 0.1373, 0.9451, 0.8824, 0.6275,\n",
       "          0.4235, 0.0039, 0.0000, 0.0000, 0.0000, 0.0000, 0.0000, 0.0000,\n",
       "          0.0000, 0.0000, 0.0000, 0.0000],\n",
       "         [0.0000, 0.0000, 0.0000, 0.0000, 0.0000, 0.0000, 0.0000, 0.0000,\n",
       "          0.0000, 0.0000, 0.0000, 0.0000, 0.0000, 0.3176, 0.9412, 0.9922,\n",
       "          0.9922, 0.4667, 0.0980, 0.0000, 0.0000, 0.0000, 0.0000, 0.0000,\n",
       "          0.0000, 0.0000, 0.0000, 0.0000],\n",
       "         [0.0000, 0.0000, 0.0000, 0.0000, 0.0000, 0.0000, 0.0000, 0.0000,\n",
       "          0.0000, 0.0000, 0.0000, 0.0000, 0.0000, 0.0000, 0.1765, 0.7294,\n",
       "          0.9922, 0.9922, 0.5882, 0.1059, 0.0000, 0.0000, 0.0000, 0.0000,\n",
       "          0.0000, 0.0000, 0.0000, 0.0000],\n",
       "         [0.0000, 0.0000, 0.0000, 0.0000, 0.0000, 0.0000, 0.0000, 0.0000,\n",
       "          0.0000, 0.0000, 0.0000, 0.0000, 0.0000, 0.0000, 0.0000, 0.0627,\n",
       "          0.3647, 0.9882, 0.9922, 0.7333, 0.0000, 0.0000, 0.0000, 0.0000,\n",
       "          0.0000, 0.0000, 0.0000, 0.0000],\n",
       "         [0.0000, 0.0000, 0.0000, 0.0000, 0.0000, 0.0000, 0.0000, 0.0000,\n",
       "          0.0000, 0.0000, 0.0000, 0.0000, 0.0000, 0.0000, 0.0000, 0.0000,\n",
       "          0.0000, 0.9765, 0.9922, 0.9765, 0.2510, 0.0000, 0.0000, 0.0000,\n",
       "          0.0000, 0.0000, 0.0000, 0.0000],\n",
       "         [0.0000, 0.0000, 0.0000, 0.0000, 0.0000, 0.0000, 0.0000, 0.0000,\n",
       "          0.0000, 0.0000, 0.0000, 0.0000, 0.0000, 0.0000, 0.1804, 0.5098,\n",
       "          0.7176, 0.9922, 0.9922, 0.8118, 0.0078, 0.0000, 0.0000, 0.0000,\n",
       "          0.0000, 0.0000, 0.0000, 0.0000],\n",
       "         [0.0000, 0.0000, 0.0000, 0.0000, 0.0000, 0.0000, 0.0000, 0.0000,\n",
       "          0.0000, 0.0000, 0.0000, 0.0000, 0.1529, 0.5804, 0.8980, 0.9922,\n",
       "          0.9922, 0.9922, 0.9804, 0.7137, 0.0000, 0.0000, 0.0000, 0.0000,\n",
       "          0.0000, 0.0000, 0.0000, 0.0000],\n",
       "         [0.0000, 0.0000, 0.0000, 0.0000, 0.0000, 0.0000, 0.0000, 0.0000,\n",
       "          0.0000, 0.0000, 0.0941, 0.4471, 0.8667, 0.9922, 0.9922, 0.9922,\n",
       "          0.9922, 0.7882, 0.3059, 0.0000, 0.0000, 0.0000, 0.0000, 0.0000,\n",
       "          0.0000, 0.0000, 0.0000, 0.0000],\n",
       "         [0.0000, 0.0000, 0.0000, 0.0000, 0.0000, 0.0000, 0.0000, 0.0000,\n",
       "          0.0902, 0.2588, 0.8353, 0.9922, 0.9922, 0.9922, 0.9922, 0.7765,\n",
       "          0.3176, 0.0078, 0.0000, 0.0000, 0.0000, 0.0000, 0.0000, 0.0000,\n",
       "          0.0000, 0.0000, 0.0000, 0.0000],\n",
       "         [0.0000, 0.0000, 0.0000, 0.0000, 0.0000, 0.0000, 0.0706, 0.6706,\n",
       "          0.8588, 0.9922, 0.9922, 0.9922, 0.9922, 0.7647, 0.3137, 0.0353,\n",
       "          0.0000, 0.0000, 0.0000, 0.0000, 0.0000, 0.0000, 0.0000, 0.0000,\n",
       "          0.0000, 0.0000, 0.0000, 0.0000],\n",
       "         [0.0000, 0.0000, 0.0000, 0.0000, 0.2157, 0.6745, 0.8863, 0.9922,\n",
       "          0.9922, 0.9922, 0.9922, 0.9569, 0.5216, 0.0431, 0.0000, 0.0000,\n",
       "          0.0000, 0.0000, 0.0000, 0.0000, 0.0000, 0.0000, 0.0000, 0.0000,\n",
       "          0.0000, 0.0000, 0.0000, 0.0000],\n",
       "         [0.0000, 0.0000, 0.0000, 0.0000, 0.5333, 0.9922, 0.9922, 0.9922,\n",
       "          0.8314, 0.5294, 0.5176, 0.0627, 0.0000, 0.0000, 0.0000, 0.0000,\n",
       "          0.0000, 0.0000, 0.0000, 0.0000, 0.0000, 0.0000, 0.0000, 0.0000,\n",
       "          0.0000, 0.0000, 0.0000, 0.0000],\n",
       "         [0.0000, 0.0000, 0.0000, 0.0000, 0.0000, 0.0000, 0.0000, 0.0000,\n",
       "          0.0000, 0.0000, 0.0000, 0.0000, 0.0000, 0.0000, 0.0000, 0.0000,\n",
       "          0.0000, 0.0000, 0.0000, 0.0000, 0.0000, 0.0000, 0.0000, 0.0000,\n",
       "          0.0000, 0.0000, 0.0000, 0.0000],\n",
       "         [0.0000, 0.0000, 0.0000, 0.0000, 0.0000, 0.0000, 0.0000, 0.0000,\n",
       "          0.0000, 0.0000, 0.0000, 0.0000, 0.0000, 0.0000, 0.0000, 0.0000,\n",
       "          0.0000, 0.0000, 0.0000, 0.0000, 0.0000, 0.0000, 0.0000, 0.0000,\n",
       "          0.0000, 0.0000, 0.0000, 0.0000],\n",
       "         [0.0000, 0.0000, 0.0000, 0.0000, 0.0000, 0.0000, 0.0000, 0.0000,\n",
       "          0.0000, 0.0000, 0.0000, 0.0000, 0.0000, 0.0000, 0.0000, 0.0000,\n",
       "          0.0000, 0.0000, 0.0000, 0.0000, 0.0000, 0.0000, 0.0000, 0.0000,\n",
       "          0.0000, 0.0000, 0.0000, 0.0000]]])"
      ]
     },
     "execution_count": 15,
     "metadata": {},
     "output_type": "execute_result"
    }
   ],
   "source": [
    "image"
   ]
  },
  {
   "cell_type": "code",
   "execution_count": 17,
   "id": "0b9947ef-e922-4350-b61e-ad3a0e159a91",
   "metadata": {},
   "outputs": [
    {
     "data": {
      "text/plain": [
       "torch.Size([1, 28, 28])"
      ]
     },
     "execution_count": 17,
     "metadata": {},
     "output_type": "execute_result"
    }
   ],
   "source": [
    "image.shape"
   ]
  },
  {
   "cell_type": "code",
   "execution_count": 16,
   "id": "b96db6f0-f4ed-40d0-81c3-e69c8f5ed29d",
   "metadata": {},
   "outputs": [
    {
     "data": {
      "text/plain": [
       "5"
      ]
     },
     "execution_count": 16,
     "metadata": {},
     "output_type": "execute_result"
    }
   ],
   "source": [
    "label"
   ]
  },
  {
   "cell_type": "code",
   "execution_count": 22,
   "id": "56a112d0-dabf-4cb1-87a5-c7a33d34140b",
   "metadata": {},
   "outputs": [
    {
     "data": {
      "text/plain": [
       "<matplotlib.image.AxesImage at 0x1602cb08f90>"
      ]
     },
     "execution_count": 22,
     "metadata": {},
     "output_type": "execute_result"
    },
    {
     "data": {
      "image/png": "[encoded data removed]",
      "text/plain": [
       "<Figure size 640x480 with 1 Axes>"
      ]
     },
     "metadata": {},
     "output_type": "display_data"
    }
   ],
   "source": [
    "plt.imshow(image.reshape((28,28)), cmap='gist_yarg')"
   ]
  },
  {
   "cell_type": "code",
   "execution_count": 23,
   "id": "f04323c7-2205-4994-b2ad-8c57337ca3d5",
   "metadata": {},
   "outputs": [],
   "source": [
    "torch.manual_seed(101)\n",
    "\n",
    "train_loader = DataLoader(train_data, batch_size = 100, shuffle = True)\n",
    "\n",
    "test_loader = DataLoader(test_data, batch_size = 500, shuffle=False)"
   ]
  },
  {
   "cell_type": "code",
   "execution_count": 26,
   "id": "edad5f77-d03c-4a32-a055-e4893e749d5e",
   "metadata": {},
   "outputs": [],
   "source": [
    "from torchvision.utils import make_grid\n",
    "\n",
    "np.set_printoptions(formatter=dict(int=lambda x: f'{x:4}'))"
   ]
  },
  {
   "cell_type": "code",
   "execution_count": 27,
   "id": "376ececf-caf1-428d-ac03-3d8936c006d1",
   "metadata": {},
   "outputs": [],
   "source": [
    "for images, labels in train_loader:\n",
    "    \n",
    "    break"
   ]
  },
  {
   "cell_type": "code",
   "execution_count": 29,
   "id": "4728d3bc-dd92-411d-bc0d-757e513f901e",
   "metadata": {},
   "outputs": [
    {
     "data": {
      "text/plain": [
       "torch.Size([100, 1, 28, 28])"
      ]
     },
     "execution_count": 29,
     "metadata": {},
     "output_type": "execute_result"
    }
   ],
   "source": [
    "images.shape"
   ]
  },
  {
   "cell_type": "code",
   "execution_count": 31,
   "id": "b94614fe-ea92-4ea5-9937-40364e410399",
   "metadata": {},
   "outputs": [
    {
     "data": {
      "text/plain": [
       "tensor([7, 2, 3, 5, 8, 5, 3, 6, 9, 9, 1, 3])"
      ]
     },
     "execution_count": 31,
     "metadata": {},
     "output_type": "execute_result"
    }
   ],
   "source": [
    "labels[:12]"
   ]
  },
  {
   "cell_type": "code",
   "execution_count": 33,
   "id": "1f2ba4b4-1fa4-4efb-b2b2-9b54ef267500",
   "metadata": {},
   "outputs": [
    {
     "name": "stdout",
     "output_type": "stream",
     "text": [
      "Labels [   7    2    3    5    8    5    3    6    9    9    1    3]\n"
     ]
    },
    {
     "data": {
      "text/plain": [
       "<matplotlib.image.AxesImage at 0x1602def8190>"
      ]
     },
     "execution_count": 33,
     "metadata": {},
     "output_type": "execute_result"
    },
    {
     "data": {
      "image/png": "[encoded data removed]",
      "text/plain": [
       "<Figure size 1000x400 with 1 Axes>"
      ]
     },
     "metadata": {},
     "output_type": "display_data"
    }
   ],
   "source": [
    "print('Labels', labels[:12].numpy())\n",
    "\n",
    "im = make_grid(images[:12], nrow=12)\n",
    "plt.figure(figsize=(10,4))\n",
    "\n",
    "plt.imshow(np.transpose(im.numpy(), (1,2,0)))"
   ]
  },
  {
   "cell_type": "markdown",
   "id": "5ef5d5f2-23d3-43aa-8408-82d0654efeaf",
   "metadata": {},
   "source": [
    "## Model Preparation"
   ]
  },
  {
   "cell_type": "code",
   "execution_count": 34,
   "id": "ad11e05c-4507-4a30-9a36-b18ca838a734",
   "metadata": {},
   "outputs": [],
   "source": [
    "class MultilayerPerceptron(nn.Module):\n",
    "    def __init__(self, in_sz = 784, out_sz=10, layers=[120,84]):\n",
    "        super().__init__()\n",
    "        self.fc1 = nn.Linear(in_sz, layers[0])\n",
    "        self.fc2 = nn.Linear(layers[0], layers[1])\n",
    "        self.fc3 = nn.Linear(layers[1], out_sz)\n",
    "\n",
    "    def forward(self,X):\n",
    "        X = F.relu(self.fc1(X))\n",
    "        X = F.relu(self.fc2(X))\n",
    "        X = self.fc3(X)\n",
    "        # Es así por que es un clasificacion multiclase\n",
    "        return F.log_softmax(X, dim = 1)"
   ]
  },
  {
   "cell_type": "code",
   "execution_count": 36,
   "id": "276c95fe-957b-436f-b130-2d7b570e5a8e",
   "metadata": {},
   "outputs": [
    {
     "data": {
      "text/plain": [
       "MultilayerPerceptron(\n",
       "  (fc1): Linear(in_features=784, out_features=120, bias=True)\n",
       "  (fc2): Linear(in_features=120, out_features=84, bias=True)\n",
       "  (fc3): Linear(in_features=84, out_features=10, bias=True)\n",
       ")"
      ]
     },
     "execution_count": 36,
     "metadata": {},
     "output_type": "execute_result"
    }
   ],
   "source": [
    "torch.manual_seed(101)\n",
    "model = MultilayerPerceptron()\n",
    "model"
   ]
  },
  {
   "cell_type": "code",
   "execution_count": 37,
   "id": "61de7194-ede4-4673-8ff1-aa20cf0d2232",
   "metadata": {},
   "outputs": [
    {
     "name": "stdout",
     "output_type": "stream",
     "text": [
      "94080\n",
      "120\n",
      "10080\n",
      "84\n",
      "840\n",
      "10\n"
     ]
    }
   ],
   "source": [
    "for param in model.parameters():\n",
    "    print(param.numel())"
   ]
  },
  {
   "cell_type": "code",
   "execution_count": 38,
   "id": "02c2401d-ce75-4152-95a4-789ddcfba48c",
   "metadata": {},
   "outputs": [],
   "source": [
    "criterion = nn.CrossEntropyLoss()\n",
    "optimzer = torch.optim.Adam(model.parameters(), lr = 0.001)"
   ]
  },
  {
   "cell_type": "code",
   "execution_count": 46,
   "id": "079b1640-b698-40d5-9000-417f2d3b345d",
   "metadata": {},
   "outputs": [
    {
     "data": {
      "text/plain": [
       "torch.Size([100, 784])"
      ]
     },
     "execution_count": 46,
     "metadata": {},
     "output_type": "execute_result"
    }
   ],
   "source": [
    "images.view(100,-1).shape"
   ]
  },
  {
   "cell_type": "markdown",
   "id": "dd896751-6aaa-4e6e-8d37-e3369ccad03e",
   "metadata": {},
   "source": [
    "## Model Training"
   ]
  },
  {
   "cell_type": "code",
   "execution_count": 56,
   "id": "d3f171ec-7c9a-4bd9-9cb2-df49ffb24db4",
   "metadata": {},
   "outputs": [
    {
     "name": "stdout",
     "output_type": "stream",
     "text": [
      "Epoch 1 batch 200 loss 0.052435871213674545 accuracy 96.615\n",
      "Epoch 1 batch 400 loss 0.1412188559770584 accuracy 96.84\n",
      "Epoch 1 batch 600 loss 0.044501304626464844 accuracy 96.95833333333333\n",
      "Epoch 2 batch 200 loss 0.06101962551474571 accuracy 97.72\n",
      "Epoch 2 batch 400 loss 0.14648248255252838 accuracy 97.705\n",
      "Epoch 2 batch 600 loss 0.18885089457035065 accuracy 97.69666666666667\n",
      "Epoch 3 batch 200 loss 0.1477620154619217 accuracy 98.135\n",
      "Epoch 3 batch 400 loss 0.035827163606882095 accuracy 98.1725\n",
      "Epoch 3 batch 600 loss 0.07011963427066803 accuracy 98.16\n",
      "Epoch 4 batch 200 loss 0.04215352609753609 accuracy 98.6\n",
      "Epoch 4 batch 400 loss 0.009303726255893707 accuracy 98.4875\n",
      "Epoch 4 batch 600 loss 0.06453799456357956 accuracy 98.45666666666666\n",
      "Epoch 5 batch 200 loss 0.04552556201815605 accuracy 98.805\n",
      "Epoch 5 batch 400 loss 0.11829545348882675 accuracy 98.705\n",
      "Epoch 5 batch 600 loss 0.025156788527965546 accuracy 98.72833333333334\n",
      "Epoch 6 batch 200 loss 0.012063378468155861 accuracy 99.215\n",
      "Epoch 6 batch 400 loss 0.02996537648141384 accuracy 99.0975\n",
      "Epoch 6 batch 600 loss 0.07433013617992401 accuracy 99.02833333333334\n",
      "Epoch 7 batch 200 loss 0.003335692221298814 accuracy 99.205\n",
      "Epoch 7 batch 400 loss 0.04600473865866661 accuracy 99.1425\n",
      "Epoch 7 batch 600 loss 0.02324768528342247 accuracy 99.09166666666667\n",
      "Epoch 8 batch 200 loss 0.007339094765484333 accuracy 99.355\n",
      "Epoch 8 batch 400 loss 0.009806790389120579 accuracy 99.315\n",
      "Epoch 8 batch 600 loss 0.028725864365696907 accuracy 99.29666666666667\n",
      "Epoch 9 batch 200 loss 0.007146354764699936 accuracy 99.345\n",
      "Epoch 9 batch 400 loss 0.013567413203418255 accuracy 99.325\n",
      "Epoch 9 batch 600 loss 0.015729133039712906 accuracy 99.285\n",
      "Epoch 10 batch 200 loss 0.013192342594265938 accuracy 99.615\n",
      "Epoch 10 batch 400 loss 0.00736305583268404 accuracy 99.55\n",
      "Epoch 10 batch 600 loss 0.03514084219932556 accuracy 99.52\n"
     ]
    }
   ],
   "source": [
    "import time\n",
    "\n",
    "start_time = time.time()\n",
    "\n",
    "epochs = 10\n",
    "train_losses = []\n",
    "test_losses = []\n",
    "train_correct = []\n",
    "test_correct =[]\n",
    "\n",
    "for i in range(epochs):\n",
    "    i += 1\n",
    "    trn_corr =0\n",
    "    tsn_corr = 0\n",
    "\n",
    "    for b, (X_train, y_train) in enumerate(train_loader):\n",
    "        b+=1\n",
    "        y_pred = model.forward(X_train.view(100, -1))\n",
    "        loss = criterion(y_pred, y_train)\n",
    "        predicted = torch.max(y_pred.data, 1)[1]\n",
    "        batch_corr = (predicted == y_train).sum()\n",
    "        trn_corr += batch_corr\n",
    "\n",
    "        optimzer.zero_grad()\n",
    "        loss.backward()\n",
    "        optimzer.step()\n",
    "\n",
    "        if b%200 == 0:\n",
    "            accuary = trn_corr.item()*100/(100*b)\n",
    "            print(f\"Epoch {i} batch {b} loss {loss.item()} accuracy {accuary}\")\n",
    "    train_losses.append(loss)\n",
    "    train_correct.append(trn_corr)\n",
    "\n",
    "    with torch.no_grad():\n",
    "        for b, (X_test, y_test) in enumerate(test_loader):\n",
    "            y_val = model(X_test.view(500, -1))\n",
    "            predicted = torch.max(y_val.data, 1)[1]\n",
    "            tsn_corr += (predicted == y_test).sum()\n",
    "    loss = criterion(y_val, y_test)\n",
    "    test_losses.append(loss)\n",
    "    test_correct.append(tsn_corr)\n",
    "\n",
    "    \n"
   ]
  },
  {
   "cell_type": "code",
   "execution_count": 60,
   "id": "74345244-b497-405d-93bb-3fdc4ff41ae3",
   "metadata": {},
   "outputs": [
    {
     "data": {
      "text/plain": [
       "[<matplotlib.lines.Line2D at 0x160365da210>]"
      ]
     },
     "execution_count": 60,
     "metadata": {},
     "output_type": "execute_result"
    },
    {
     "data": {
      "image/png": "[encoded data removed]",
      "text/plain": [
       "<Figure size 640x480 with 1 Axes>"
      ]
     },
     "metadata": {},
     "output_type": "display_data"
    }
   ],
   "source": [
    "plt.plot([i.item() for i in train_losses])\n",
    "plt.plot([i.item() for i in test_losses])"
   ]
  },
  {
   "cell_type": "markdown",
   "id": "04328c90-e732-47ee-9deb-a09e18eaefa3",
   "metadata": {},
   "source": [
    "# CNN "
   ]
  },
  {
   "cell_type": "code",
   "execution_count": 1,
   "id": "c3dc59a8-9559-49a6-a070-7e2696deab56",
   "metadata": {},
   "outputs": [],
   "source": [
    "import torch\n",
    "import torch.nn as nn\n",
    "import torch.nn.functional as F\n",
    "import numpy as np\n",
    "import pandas as pd"
   ]
  },
  {
   "cell_type": "code",
   "execution_count": 6,
   "id": "c32fac59-5722-46c3-b250-04d527838b04",
   "metadata": {},
   "outputs": [],
   "source": [
    "\n",
    "from torchvision import datasets, transforms\n",
    "from torchvision.utils import make_grid\n",
    "from sklearn.metrics import confusion_matrix\n"
   ]
  },
  {
   "cell_type": "code",
   "execution_count": 8,
   "id": "cb0284a4-7829-464e-8b4a-c2a0ea80b758",
   "metadata": {},
   "outputs": [],
   "source": [
    "from torch.utils.data import DataLoader"
   ]
  },
  {
   "cell_type": "code",
   "execution_count": 9,
   "id": "1141fd90-8b88-42d0-a18a-9960d3679efe",
   "metadata": {},
   "outputs": [],
   "source": [
    "import matplotlib.pyplot as plt\n",
    "%matplotlib inline"
   ]
  },
  {
   "cell_type": "code",
   "execution_count": 10,
   "id": "308c0177-3c2a-4644-ad6b-923b0da3275d",
   "metadata": {},
   "outputs": [],
   "source": [
    "transform = transforms.ToTensor()"
   ]
  },
  {
   "cell_type": "code",
   "execution_count": 11,
   "id": "e16a68cf-11be-49e5-a79e-d8084554efb1",
   "metadata": {},
   "outputs": [],
   "source": [
    "train_data = datasets.MNIST(root='./Data', train = True, download=True, transform=transform)"
   ]
  },
  {
   "cell_type": "code",
   "execution_count": 12,
   "id": "99a954bc-73f3-444c-951f-503708836ef6",
   "metadata": {},
   "outputs": [],
   "source": [
    "test_data = datasets.MNIST(root='./Data', train=False, download=True, transform=transform)"
   ]
  },
  {
   "cell_type": "code",
   "execution_count": 14,
   "id": "915741b0-cc49-4e80-937b-b381f1d716d6",
   "metadata": {},
   "outputs": [],
   "source": [
    "train_loader = DataLoader(train_data, batch_size=10, shuffle=True)"
   ]
  },
  {
   "cell_type": "code",
   "execution_count": 15,
   "id": "ca1466b8-f5c5-48ad-b378-6fccba73a1d1",
   "metadata": {},
   "outputs": [],
   "source": [
    "test_loader = DataLoader(test_data, batch_size=10, shuffle=False)"
   ]
  },
  {
   "cell_type": "markdown",
   "id": "b28b6066-4843-4f84-abe5-bc7033b31290",
   "metadata": {},
   "source": [
    "Ejemplo de Capa Convolouciona"
   ]
  },
  {
   "cell_type": "code",
   "execution_count": 16,
   "id": "62cfc552-da7a-48a4-bfcb-de18b0f7d7d8",
   "metadata": {},
   "outputs": [],
   "source": [
    "conv1 = nn.Conv2d(1, 6, 3,1)"
   ]
  },
  {
   "cell_type": "markdown",
   "id": "85516368-5fda-45c1-9645-46556df8d6e5",
   "metadata": {},
   "source": [
    "- 1 Canal de color\n",
    "- 6 filtros\n",
    "- 3x3 Kernel\n",
    "- Paso de 1"
   ]
  },
  {
   "cell_type": "code",
   "execution_count": 17,
   "id": "d52e7ea7-49b1-461b-b626-27f48dbf3f4e",
   "metadata": {},
   "outputs": [],
   "source": [
    "conv2 = nn.Conv2d(6, 16, 3, 1)"
   ]
  },
  {
   "cell_type": "code",
   "execution_count": 18,
   "id": "df8654d1-33e8-4ab7-b37b-50298d931636",
   "metadata": {},
   "outputs": [],
   "source": [
    "for i, (X_train, y_train) in enumerate(train_data):\n",
    "    break"
   ]
  },
  {
   "cell_type": "code",
   "execution_count": 19,
   "id": "abd98fae-50a7-44e2-9fb4-3fdcbbfdb456",
   "metadata": {},
   "outputs": [
    {
     "data": {
      "text/plain": [
       "tensor([[[0.0000, 0.0000, 0.0000, 0.0000, 0.0000, 0.0000, 0.0000, 0.0000,\n",
       "          0.0000, 0.0000, 0.0000, 0.0000, 0.0000, 0.0000, 0.0000, 0.0000,\n",
       "          0.0000, 0.0000, 0.0000, 0.0000, 0.0000, 0.0000, 0.0000, 0.0000,\n",
       "          0.0000, 0.0000, 0.0000, 0.0000],\n",
       "         [0.0000, 0.0000, 0.0000, 0.0000, 0.0000, 0.0000, 0.0000, 0.0000,\n",
       "          0.0000, 0.0000, 0.0000, 0.0000, 0.0000, 0.0000, 0.0000, 0.0000,\n",
       "          0.0000, 0.0000, 0.0000, 0.0000, 0.0000, 0.0000, 0.0000, 0.0000,\n",
       "          0.0000, 0.0000, 0.0000, 0.0000],\n",
       "         [0.0000, 0.0000, 0.0000, 0.0000, 0.0000, 0.0000, 0.0000, 0.0000,\n",
       "          0.0000, 0.0000, 0.0000, 0.0000, 0.0000, 0.0000, 0.0000, 0.0000,\n",
       "          0.0000, 0.0000, 0.0000, 0.0000, 0.0000, 0.0000, 0.0000, 0.0000,\n",
       "          0.0000, 0.0000, 0.0000, 0.0000],\n",
       "         [0.0000, 0.0000, 0.0000, 0.0000, 0.0000, 0.0000, 0.0000, 0.0000,\n",
       "          0.0000, 0.0000, 0.0000, 0.0000, 0.0000, 0.0000, 0.0000, 0.0000,\n",
       "          0.0000, 0.0000, 0.0000, 0.0000, 0.0000, 0.0000, 0.0000, 0.0000,\n",
       "          0.0000, 0.0000, 0.0000, 0.0000],\n",
       "         [0.0000, 0.0000, 0.0000, 0.0000, 0.0000, 0.0000, 0.0000, 0.0000,\n",
       "          0.0000, 0.0000, 0.0000, 0.0000, 0.0000, 0.0000, 0.0000, 0.0000,\n",
       "          0.0000, 0.0000, 0.0000, 0.0000, 0.0000, 0.0000, 0.0000, 0.0000,\n",
       "          0.0000, 0.0000, 0.0000, 0.0000],\n",
       "         [0.0000, 0.0000, 0.0000, 0.0000, 0.0000, 0.0000, 0.0000, 0.0000,\n",
       "          0.0000, 0.0000, 0.0000, 0.0000, 0.0118, 0.0706, 0.0706, 0.0706,\n",
       "          0.4941, 0.5333, 0.6863, 0.1020, 0.6510, 1.0000, 0.9686, 0.4980,\n",
       "          0.0000, 0.0000, 0.0000, 0.0000],\n",
       "         [0.0000, 0.0000, 0.0000, 0.0000, 0.0000, 0.0000, 0.0000, 0.0000,\n",
       "          0.1176, 0.1412, 0.3686, 0.6039, 0.6667, 0.9922, 0.9922, 0.9922,\n",
       "          0.9922, 0.9922, 0.8824, 0.6745, 0.9922, 0.9490, 0.7647, 0.2510,\n",
       "          0.0000, 0.0000, 0.0000, 0.0000],\n",
       "         [0.0000, 0.0000, 0.0000, 0.0000, 0.0000, 0.0000, 0.0000, 0.1922,\n",
       "          0.9333, 0.9922, 0.9922, 0.9922, 0.9922, 0.9922, 0.9922, 0.9922,\n",
       "          0.9922, 0.9843, 0.3647, 0.3216, 0.3216, 0.2196, 0.1529, 0.0000,\n",
       "          0.0000, 0.0000, 0.0000, 0.0000],\n",
       "         [0.0000, 0.0000, 0.0000, 0.0000, 0.0000, 0.0000, 0.0000, 0.0706,\n",
       "          0.8588, 0.9922, 0.9922, 0.9922, 0.9922, 0.9922, 0.7765, 0.7137,\n",
       "          0.9686, 0.9451, 0.0000, 0.0000, 0.0000, 0.0000, 0.0000, 0.0000,\n",
       "          0.0000, 0.0000, 0.0000, 0.0000],\n",
       "         [0.0000, 0.0000, 0.0000, 0.0000, 0.0000, 0.0000, 0.0000, 0.0000,\n",
       "          0.3137, 0.6118, 0.4196, 0.9922, 0.9922, 0.8039, 0.0431, 0.0000,\n",
       "          0.1686, 0.6039, 0.0000, 0.0000, 0.0000, 0.0000, 0.0000, 0.0000,\n",
       "          0.0000, 0.0000, 0.0000, 0.0000],\n",
       "         [0.0000, 0.0000, 0.0000, 0.0000, 0.0000, 0.0000, 0.0000, 0.0000,\n",
       "          0.0000, 0.0549, 0.0039, 0.6039, 0.9922, 0.3529, 0.0000, 0.0000,\n",
       "          0.0000, 0.0000, 0.0000, 0.0000, 0.0000, 0.0000, 0.0000, 0.0000,\n",
       "          0.0000, 0.0000, 0.0000, 0.0000],\n",
       "         [0.0000, 0.0000, 0.0000, 0.0000, 0.0000, 0.0000, 0.0000, 0.0000,\n",
       "          0.0000, 0.0000, 0.0000, 0.5451, 0.9922, 0.7451, 0.0078, 0.0000,\n",
       "          0.0000, 0.0000, 0.0000, 0.0000, 0.0000, 0.0000, 0.0000, 0.0000,\n",
       "          0.0000, 0.0000, 0.0000, 0.0000],\n",
       "         [0.0000, 0.0000, 0.0000, 0.0000, 0.0000, 0.0000, 0.0000, 0.0000,\n",
       "          0.0000, 0.0000, 0.0000, 0.0431, 0.7451, 0.9922, 0.2745, 0.0000,\n",
       "          0.0000, 0.0000, 0.0000, 0.0000, 0.0000, 0.0000, 0.0000, 0.0000,\n",
       "          0.0000, 0.0000, 0.0000, 0.0000],\n",
       "         [0.0000, 0.0000, 0.0000, 0.0000, 0.0000, 0.0000, 0.0000, 0.0000,\n",
       "          0.0000, 0.0000, 0.0000, 0.0000, 0.1373, 0.9451, 0.8824, 0.6275,\n",
       "          0.4235, 0.0039, 0.0000, 0.0000, 0.0000, 0.0000, 0.0000, 0.0000,\n",
       "          0.0000, 0.0000, 0.0000, 0.0000],\n",
       "         [0.0000, 0.0000, 0.0000, 0.0000, 0.0000, 0.0000, 0.0000, 0.0000,\n",
       "          0.0000, 0.0000, 0.0000, 0.0000, 0.0000, 0.3176, 0.9412, 0.9922,\n",
       "          0.9922, 0.4667, 0.0980, 0.0000, 0.0000, 0.0000, 0.0000, 0.0000,\n",
       "          0.0000, 0.0000, 0.0000, 0.0000],\n",
       "         [0.0000, 0.0000, 0.0000, 0.0000, 0.0000, 0.0000, 0.0000, 0.0000,\n",
       "          0.0000, 0.0000, 0.0000, 0.0000, 0.0000, 0.0000, 0.1765, 0.7294,\n",
       "          0.9922, 0.9922, 0.5882, 0.1059, 0.0000, 0.0000, 0.0000, 0.0000,\n",
       "          0.0000, 0.0000, 0.0000, 0.0000],\n",
       "         [0.0000, 0.0000, 0.0000, 0.0000, 0.0000, 0.0000, 0.0000, 0.0000,\n",
       "          0.0000, 0.0000, 0.0000, 0.0000, 0.0000, 0.0000, 0.0000, 0.0627,\n",
       "          0.3647, 0.9882, 0.9922, 0.7333, 0.0000, 0.0000, 0.0000, 0.0000,\n",
       "          0.0000, 0.0000, 0.0000, 0.0000],\n",
       "         [0.0000, 0.0000, 0.0000, 0.0000, 0.0000, 0.0000, 0.0000, 0.0000,\n",
       "          0.0000, 0.0000, 0.0000, 0.0000, 0.0000, 0.0000, 0.0000, 0.0000,\n",
       "          0.0000, 0.9765, 0.9922, 0.9765, 0.2510, 0.0000, 0.0000, 0.0000,\n",
       "          0.0000, 0.0000, 0.0000, 0.0000],\n",
       "         [0.0000, 0.0000, 0.0000, 0.0000, 0.0000, 0.0000, 0.0000, 0.0000,\n",
       "          0.0000, 0.0000, 0.0000, 0.0000, 0.0000, 0.0000, 0.1804, 0.5098,\n",
       "          0.7176, 0.9922, 0.9922, 0.8118, 0.0078, 0.0000, 0.0000, 0.0000,\n",
       "          0.0000, 0.0000, 0.0000, 0.0000],\n",
       "         [0.0000, 0.0000, 0.0000, 0.0000, 0.0000, 0.0000, 0.0000, 0.0000,\n",
       "          0.0000, 0.0000, 0.0000, 0.0000, 0.1529, 0.5804, 0.8980, 0.9922,\n",
       "          0.9922, 0.9922, 0.9804, 0.7137, 0.0000, 0.0000, 0.0000, 0.0000,\n",
       "          0.0000, 0.0000, 0.0000, 0.0000],\n",
       "         [0.0000, 0.0000, 0.0000, 0.0000, 0.0000, 0.0000, 0.0000, 0.0000,\n",
       "          0.0000, 0.0000, 0.0941, 0.4471, 0.8667, 0.9922, 0.9922, 0.9922,\n",
       "          0.9922, 0.7882, 0.3059, 0.0000, 0.0000, 0.0000, 0.0000, 0.0000,\n",
       "          0.0000, 0.0000, 0.0000, 0.0000],\n",
       "         [0.0000, 0.0000, 0.0000, 0.0000, 0.0000, 0.0000, 0.0000, 0.0000,\n",
       "          0.0902, 0.2588, 0.8353, 0.9922, 0.9922, 0.9922, 0.9922, 0.7765,\n",
       "          0.3176, 0.0078, 0.0000, 0.0000, 0.0000, 0.0000, 0.0000, 0.0000,\n",
       "          0.0000, 0.0000, 0.0000, 0.0000],\n",
       "         [0.0000, 0.0000, 0.0000, 0.0000, 0.0000, 0.0000, 0.0706, 0.6706,\n",
       "          0.8588, 0.9922, 0.9922, 0.9922, 0.9922, 0.7647, 0.3137, 0.0353,\n",
       "          0.0000, 0.0000, 0.0000, 0.0000, 0.0000, 0.0000, 0.0000, 0.0000,\n",
       "          0.0000, 0.0000, 0.0000, 0.0000],\n",
       "         [0.0000, 0.0000, 0.0000, 0.0000, 0.2157, 0.6745, 0.8863, 0.9922,\n",
       "          0.9922, 0.9922, 0.9922, 0.9569, 0.5216, 0.0431, 0.0000, 0.0000,\n",
       "          0.0000, 0.0000, 0.0000, 0.0000, 0.0000, 0.0000, 0.0000, 0.0000,\n",
       "          0.0000, 0.0000, 0.0000, 0.0000],\n",
       "         [0.0000, 0.0000, 0.0000, 0.0000, 0.5333, 0.9922, 0.9922, 0.9922,\n",
       "          0.8314, 0.5294, 0.5176, 0.0627, 0.0000, 0.0000, 0.0000, 0.0000,\n",
       "          0.0000, 0.0000, 0.0000, 0.0000, 0.0000, 0.0000, 0.0000, 0.0000,\n",
       "          0.0000, 0.0000, 0.0000, 0.0000],\n",
       "         [0.0000, 0.0000, 0.0000, 0.0000, 0.0000, 0.0000, 0.0000, 0.0000,\n",
       "          0.0000, 0.0000, 0.0000, 0.0000, 0.0000, 0.0000, 0.0000, 0.0000,\n",
       "          0.0000, 0.0000, 0.0000, 0.0000, 0.0000, 0.0000, 0.0000, 0.0000,\n",
       "          0.0000, 0.0000, 0.0000, 0.0000],\n",
       "         [0.0000, 0.0000, 0.0000, 0.0000, 0.0000, 0.0000, 0.0000, 0.0000,\n",
       "          0.0000, 0.0000, 0.0000, 0.0000, 0.0000, 0.0000, 0.0000, 0.0000,\n",
       "          0.0000, 0.0000, 0.0000, 0.0000, 0.0000, 0.0000, 0.0000, 0.0000,\n",
       "          0.0000, 0.0000, 0.0000, 0.0000],\n",
       "         [0.0000, 0.0000, 0.0000, 0.0000, 0.0000, 0.0000, 0.0000, 0.0000,\n",
       "          0.0000, 0.0000, 0.0000, 0.0000, 0.0000, 0.0000, 0.0000, 0.0000,\n",
       "          0.0000, 0.0000, 0.0000, 0.0000, 0.0000, 0.0000, 0.0000, 0.0000,\n",
       "          0.0000, 0.0000, 0.0000, 0.0000]]])"
      ]
     },
     "execution_count": 19,
     "metadata": {},
     "output_type": "execute_result"
    }
   ],
   "source": [
    "X_train"
   ]
  },
  {
   "cell_type": "code",
   "execution_count": 20,
   "id": "9641519f-9fcf-4a73-833a-81144ac55a84",
   "metadata": {},
   "outputs": [],
   "source": [
    "x = X_train.view(1,1,28,28)"
   ]
  },
  {
   "cell_type": "code",
   "execution_count": 22,
   "id": "8fd031e6-b26a-4b33-9e0a-3aa867e89c3b",
   "metadata": {},
   "outputs": [
    {
     "data": {
      "text/plain": [
       "tensor([[[[0.0000, 0.0000, 0.0000, 0.0000, 0.0000, 0.0000, 0.0000, 0.0000,\n",
       "           0.0000, 0.0000, 0.0000, 0.0000, 0.0000, 0.0000, 0.0000, 0.0000,\n",
       "           0.0000, 0.0000, 0.0000, 0.0000, 0.0000, 0.0000, 0.0000, 0.0000,\n",
       "           0.0000, 0.0000, 0.0000, 0.0000],\n",
       "          [0.0000, 0.0000, 0.0000, 0.0000, 0.0000, 0.0000, 0.0000, 0.0000,\n",
       "           0.0000, 0.0000, 0.0000, 0.0000, 0.0000, 0.0000, 0.0000, 0.0000,\n",
       "           0.0000, 0.0000, 0.0000, 0.0000, 0.0000, 0.0000, 0.0000, 0.0000,\n",
       "           0.0000, 0.0000, 0.0000, 0.0000],\n",
       "          [0.0000, 0.0000, 0.0000, 0.0000, 0.0000, 0.0000, 0.0000, 0.0000,\n",
       "           0.0000, 0.0000, 0.0000, 0.0000, 0.0000, 0.0000, 0.0000, 0.0000,\n",
       "           0.0000, 0.0000, 0.0000, 0.0000, 0.0000, 0.0000, 0.0000, 0.0000,\n",
       "           0.0000, 0.0000, 0.0000, 0.0000],\n",
       "          [0.0000, 0.0000, 0.0000, 0.0000, 0.0000, 0.0000, 0.0000, 0.0000,\n",
       "           0.0000, 0.0000, 0.0000, 0.0000, 0.0000, 0.0000, 0.0000, 0.0000,\n",
       "           0.0000, 0.0000, 0.0000, 0.0000, 0.0000, 0.0000, 0.0000, 0.0000,\n",
       "           0.0000, 0.0000, 0.0000, 0.0000],\n",
       "          [0.0000, 0.0000, 0.0000, 0.0000, 0.0000, 0.0000, 0.0000, 0.0000,\n",
       "           0.0000, 0.0000, 0.0000, 0.0000, 0.0000, 0.0000, 0.0000, 0.0000,\n",
       "           0.0000, 0.0000, 0.0000, 0.0000, 0.0000, 0.0000, 0.0000, 0.0000,\n",
       "           0.0000, 0.0000, 0.0000, 0.0000],\n",
       "          [0.0000, 0.0000, 0.0000, 0.0000, 0.0000, 0.0000, 0.0000, 0.0000,\n",
       "           0.0000, 0.0000, 0.0000, 0.0000, 0.0118, 0.0706, 0.0706, 0.0706,\n",
       "           0.4941, 0.5333, 0.6863, 0.1020, 0.6510, 1.0000, 0.9686, 0.4980,\n",
       "           0.0000, 0.0000, 0.0000, 0.0000],\n",
       "          [0.0000, 0.0000, 0.0000, 0.0000, 0.0000, 0.0000, 0.0000, 0.0000,\n",
       "           0.1176, 0.1412, 0.3686, 0.6039, 0.6667, 0.9922, 0.9922, 0.9922,\n",
       "           0.9922, 0.9922, 0.8824, 0.6745, 0.9922, 0.9490, 0.7647, 0.2510,\n",
       "           0.0000, 0.0000, 0.0000, 0.0000],\n",
       "          [0.0000, 0.0000, 0.0000, 0.0000, 0.0000, 0.0000, 0.0000, 0.1922,\n",
       "           0.9333, 0.9922, 0.9922, 0.9922, 0.9922, 0.9922, 0.9922, 0.9922,\n",
       "           0.9922, 0.9843, 0.3647, 0.3216, 0.3216, 0.2196, 0.1529, 0.0000,\n",
       "           0.0000, 0.0000, 0.0000, 0.0000],\n",
       "          [0.0000, 0.0000, 0.0000, 0.0000, 0.0000, 0.0000, 0.0000, 0.0706,\n",
       "           0.8588, 0.9922, 0.9922, 0.9922, 0.9922, 0.9922, 0.7765, 0.7137,\n",
       "           0.9686, 0.9451, 0.0000, 0.0000, 0.0000, 0.0000, 0.0000, 0.0000,\n",
       "           0.0000, 0.0000, 0.0000, 0.0000],\n",
       "          [0.0000, 0.0000, 0.0000, 0.0000, 0.0000, 0.0000, 0.0000, 0.0000,\n",
       "           0.3137, 0.6118, 0.4196, 0.9922, 0.9922, 0.8039, 0.0431, 0.0000,\n",
       "           0.1686, 0.6039, 0.0000, 0.0000, 0.0000, 0.0000, 0.0000, 0.0000,\n",
       "           0.0000, 0.0000, 0.0000, 0.0000],\n",
       "          [0.0000, 0.0000, 0.0000, 0.0000, 0.0000, 0.0000, 0.0000, 0.0000,\n",
       "           0.0000, 0.0549, 0.0039, 0.6039, 0.9922, 0.3529, 0.0000, 0.0000,\n",
       "           0.0000, 0.0000, 0.0000, 0.0000, 0.0000, 0.0000, 0.0000, 0.0000,\n",
       "           0.0000, 0.0000, 0.0000, 0.0000],\n",
       "          [0.0000, 0.0000, 0.0000, 0.0000, 0.0000, 0.0000, 0.0000, 0.0000,\n",
       "           0.0000, 0.0000, 0.0000, 0.5451, 0.9922, 0.7451, 0.0078, 0.0000,\n",
       "           0.0000, 0.0000, 0.0000, 0.0000, 0.0000, 0.0000, 0.0000, 0.0000,\n",
       "           0.0000, 0.0000, 0.0000, 0.0000],\n",
       "          [0.0000, 0.0000, 0.0000, 0.0000, 0.0000, 0.0000, 0.0000, 0.0000,\n",
       "           0.0000, 0.0000, 0.0000, 0.0431, 0.7451, 0.9922, 0.2745, 0.0000,\n",
       "           0.0000, 0.0000, 0.0000, 0.0000, 0.0000, 0.0000, 0.0000, 0.0000,\n",
       "           0.0000, 0.0000, 0.0000, 0.0000],\n",
       "          [0.0000, 0.0000, 0.0000, 0.0000, 0.0000, 0.0000, 0.0000, 0.0000,\n",
       "           0.0000, 0.0000, 0.0000, 0.0000, 0.1373, 0.9451, 0.8824, 0.6275,\n",
       "           0.4235, 0.0039, 0.0000, 0.0000, 0.0000, 0.0000, 0.0000, 0.0000,\n",
       "           0.0000, 0.0000, 0.0000, 0.0000],\n",
       "          [0.0000, 0.0000, 0.0000, 0.0000, 0.0000, 0.0000, 0.0000, 0.0000,\n",
       "           0.0000, 0.0000, 0.0000, 0.0000, 0.0000, 0.3176, 0.9412, 0.9922,\n",
       "           0.9922, 0.4667, 0.0980, 0.0000, 0.0000, 0.0000, 0.0000, 0.0000,\n",
       "           0.0000, 0.0000, 0.0000, 0.0000],\n",
       "          [0.0000, 0.0000, 0.0000, 0.0000, 0.0000, 0.0000, 0.0000, 0.0000,\n",
       "           0.0000, 0.0000, 0.0000, 0.0000, 0.0000, 0.0000, 0.1765, 0.7294,\n",
       "           0.9922, 0.9922, 0.5882, 0.1059, 0.0000, 0.0000, 0.0000, 0.0000,\n",
       "           0.0000, 0.0000, 0.0000, 0.0000],\n",
       "          [0.0000, 0.0000, 0.0000, 0.0000, 0.0000, 0.0000, 0.0000, 0.0000,\n",
       "           0.0000, 0.0000, 0.0000, 0.0000, 0.0000, 0.0000, 0.0000, 0.0627,\n",
       "           0.3647, 0.9882, 0.9922, 0.7333, 0.0000, 0.0000, 0.0000, 0.0000,\n",
       "           0.0000, 0.0000, 0.0000, 0.0000],\n",
       "          [0.0000, 0.0000, 0.0000, 0.0000, 0.0000, 0.0000, 0.0000, 0.0000,\n",
       "           0.0000, 0.0000, 0.0000, 0.0000, 0.0000, 0.0000, 0.0000, 0.0000,\n",
       "           0.0000, 0.9765, 0.9922, 0.9765, 0.2510, 0.0000, 0.0000, 0.0000,\n",
       "           0.0000, 0.0000, 0.0000, 0.0000],\n",
       "          [0.0000, 0.0000, 0.0000, 0.0000, 0.0000, 0.0000, 0.0000, 0.0000,\n",
       "           0.0000, 0.0000, 0.0000, 0.0000, 0.0000, 0.0000, 0.1804, 0.5098,\n",
       "           0.7176, 0.9922, 0.9922, 0.8118, 0.0078, 0.0000, 0.0000, 0.0000,\n",
       "           0.0000, 0.0000, 0.0000, 0.0000],\n",
       "          [0.0000, 0.0000, 0.0000, 0.0000, 0.0000, 0.0000, 0.0000, 0.0000,\n",
       "           0.0000, 0.0000, 0.0000, 0.0000, 0.1529, 0.5804, 0.8980, 0.9922,\n",
       "           0.9922, 0.9922, 0.9804, 0.7137, 0.0000, 0.0000, 0.0000, 0.0000,\n",
       "           0.0000, 0.0000, 0.0000, 0.0000],\n",
       "          [0.0000, 0.0000, 0.0000, 0.0000, 0.0000, 0.0000, 0.0000, 0.0000,\n",
       "           0.0000, 0.0000, 0.0941, 0.4471, 0.8667, 0.9922, 0.9922, 0.9922,\n",
       "           0.9922, 0.7882, 0.3059, 0.0000, 0.0000, 0.0000, 0.0000, 0.0000,\n",
       "           0.0000, 0.0000, 0.0000, 0.0000],\n",
       "          [0.0000, 0.0000, 0.0000, 0.0000, 0.0000, 0.0000, 0.0000, 0.0000,\n",
       "           0.0902, 0.2588, 0.8353, 0.9922, 0.9922, 0.9922, 0.9922, 0.7765,\n",
       "           0.3176, 0.0078, 0.0000, 0.0000, 0.0000, 0.0000, 0.0000, 0.0000,\n",
       "           0.0000, 0.0000, 0.0000, 0.0000],\n",
       "          [0.0000, 0.0000, 0.0000, 0.0000, 0.0000, 0.0000, 0.0706, 0.6706,\n",
       "           0.8588, 0.9922, 0.9922, 0.9922, 0.9922, 0.7647, 0.3137, 0.0353,\n",
       "           0.0000, 0.0000, 0.0000, 0.0000, 0.0000, 0.0000, 0.0000, 0.0000,\n",
       "           0.0000, 0.0000, 0.0000, 0.0000],\n",
       "          [0.0000, 0.0000, 0.0000, 0.0000, 0.2157, 0.6745, 0.8863, 0.9922,\n",
       "           0.9922, 0.9922, 0.9922, 0.9569, 0.5216, 0.0431, 0.0000, 0.0000,\n",
       "           0.0000, 0.0000, 0.0000, 0.0000, 0.0000, 0.0000, 0.0000, 0.0000,\n",
       "           0.0000, 0.0000, 0.0000, 0.0000],\n",
       "          [0.0000, 0.0000, 0.0000, 0.0000, 0.5333, 0.9922, 0.9922, 0.9922,\n",
       "           0.8314, 0.5294, 0.5176, 0.0627, 0.0000, 0.0000, 0.0000, 0.0000,\n",
       "           0.0000, 0.0000, 0.0000, 0.0000, 0.0000, 0.0000, 0.0000, 0.0000,\n",
       "           0.0000, 0.0000, 0.0000, 0.0000],\n",
       "          [0.0000, 0.0000, 0.0000, 0.0000, 0.0000, 0.0000, 0.0000, 0.0000,\n",
       "           0.0000, 0.0000, 0.0000, 0.0000, 0.0000, 0.0000, 0.0000, 0.0000,\n",
       "           0.0000, 0.0000, 0.0000, 0.0000, 0.0000, 0.0000, 0.0000, 0.0000,\n",
       "           0.0000, 0.0000, 0.0000, 0.0000],\n",
       "          [0.0000, 0.0000, 0.0000, 0.0000, 0.0000, 0.0000, 0.0000, 0.0000,\n",
       "           0.0000, 0.0000, 0.0000, 0.0000, 0.0000, 0.0000, 0.0000, 0.0000,\n",
       "           0.0000, 0.0000, 0.0000, 0.0000, 0.0000, 0.0000, 0.0000, 0.0000,\n",
       "           0.0000, 0.0000, 0.0000, 0.0000],\n",
       "          [0.0000, 0.0000, 0.0000, 0.0000, 0.0000, 0.0000, 0.0000, 0.0000,\n",
       "           0.0000, 0.0000, 0.0000, 0.0000, 0.0000, 0.0000, 0.0000, 0.0000,\n",
       "           0.0000, 0.0000, 0.0000, 0.0000, 0.0000, 0.0000, 0.0000, 0.0000,\n",
       "           0.0000, 0.0000, 0.0000, 0.0000]]]])"
      ]
     },
     "execution_count": 22,
     "metadata": {},
     "output_type": "execute_result"
    }
   ],
   "source": [
    "x\n"
   ]
  },
  {
   "cell_type": "code",
   "execution_count": 23,
   "id": "ada2eb42-2068-49de-81c7-47f6f9699a8f",
   "metadata": {},
   "outputs": [],
   "source": [
    "x = F.relu(conv1(x))"
   ]
  },
  {
   "cell_type": "markdown",
   "id": "def89620-85c6-428b-8fbb-b0b4058f7d35",
   "metadata": {},
   "source": [
    "Como no se le aplico padding pierde pixeles de cada lado"
   ]
  },
  {
   "cell_type": "code",
   "execution_count": 24,
   "id": "d23b40be-5a55-4606-a77f-44cebd9572fd",
   "metadata": {},
   "outputs": [
    {
     "data": {
      "text/plain": [
       "torch.Size([1, 6, 26, 26])"
      ]
     },
     "execution_count": 24,
     "metadata": {},
     "output_type": "execute_result"
    }
   ],
   "source": [
    "x.shape"
   ]
  },
  {
   "cell_type": "code",
   "execution_count": 25,
   "id": "b1b04b29-cd2b-4c57-affe-5fb916d7ccef",
   "metadata": {},
   "outputs": [],
   "source": [
    "x = F.max_pool2d(x, 2, 2)"
   ]
  },
  {
   "cell_type": "code",
   "execution_count": 27,
   "id": "b1aa2e5b-b03f-49d8-b7eb-195683637045",
   "metadata": {},
   "outputs": [
    {
     "data": {
      "text/plain": [
       "torch.Size([1, 6, 13, 13])"
      ]
     },
     "execution_count": 27,
     "metadata": {},
     "output_type": "execute_result"
    }
   ],
   "source": [
    "x.shape"
   ]
  },
  {
   "cell_type": "code",
   "execution_count": 29,
   "id": "ae56f7cf-b885-4367-b90f-d5f2eb123ae8",
   "metadata": {},
   "outputs": [],
   "source": [
    "x = F.relu(conv2(x))"
   ]
  },
  {
   "cell_type": "code",
   "execution_count": 30,
   "id": "05b21bf0-73c9-4941-bb7b-652ecfd6ad31",
   "metadata": {},
   "outputs": [],
   "source": [
    "x = F.max_pool2d(x,2,2)"
   ]
  },
  {
   "cell_type": "code",
   "execution_count": 31,
   "id": "54cca5ef-4c1d-4508-9d22-5bcfe85556bc",
   "metadata": {},
   "outputs": [
    {
     "data": {
      "text/plain": [
       "torch.Size([1, 16, 5, 5])"
      ]
     },
     "execution_count": 31,
     "metadata": {},
     "output_type": "execute_result"
    }
   ],
   "source": [
    "x.shape"
   ]
  },
  {
   "cell_type": "code",
   "execution_count": 28,
   "id": "16dda708-1673-4219-8ed9-0e021bd30aef",
   "metadata": {},
   "outputs": [
    {
     "data": {
      "text/plain": [
       "5.5"
      ]
     },
     "execution_count": 28,
     "metadata": {},
     "output_type": "execute_result"
    }
   ],
   "source": [
    "11/2"
   ]
  },
  {
   "cell_type": "code",
   "execution_count": 32,
   "id": "f251ed0b-0084-4c43-938c-71eaf24dd222",
   "metadata": {},
   "outputs": [
    {
     "data": {
      "text/plain": [
       "torch.Size([1, 400])"
      ]
     },
     "execution_count": 32,
     "metadata": {},
     "output_type": "execute_result"
    }
   ],
   "source": [
    "x.view(-1, 16*5*5).shape"
   ]
  },
  {
   "cell_type": "code",
   "execution_count": 33,
   "id": "6bf87614-4c7a-4dc9-82a7-540992bc8d83",
   "metadata": {},
   "outputs": [],
   "source": [
    "x = x.view(-1, 16*5*5)"
   ]
  },
  {
   "cell_type": "code",
   "execution_count": 35,
   "id": "b426c1c2-ccfb-49ca-856a-f17264c72548",
   "metadata": {},
   "outputs": [
    {
     "data": {
      "text/plain": [
       "torch.Size([1, 400])"
      ]
     },
     "execution_count": 35,
     "metadata": {},
     "output_type": "execute_result"
    }
   ],
   "source": [
    "x.shape"
   ]
  },
  {
   "cell_type": "markdown",
   "id": "6b8db598-ae36-4ede-91c5-1f5a76600c62",
   "metadata": {},
   "source": [
    "## CNN Model "
   ]
  },
  {
   "cell_type": "code",
   "execution_count": 41,
   "id": "f26a5c21-ba01-4c5f-b0a9-8d5588fd67d0",
   "metadata": {},
   "outputs": [],
   "source": [
    "class CNN(nn.Module):\n",
    "    def __init__(self):\n",
    "        super().__init__()\n",
    "        self.conv1 = nn.Conv2d(1, 6, 3, 1)\n",
    "        self.conv2 = nn.Conv2d(6, 16, 3, 1)\n",
    "        self.fc1 = nn.Linear(5*5*16, 120)\n",
    "        self.fc2 = nn.Linear(120, 84)\n",
    "        self.fc3 = nn.Linear(84, 10)\n",
    "\n",
    "    def forward(self, X):\n",
    "        X = F.relu(self.conv1(X))\n",
    "        X = F.max_pool2d(X, 2, 2)\n",
    "        X = F.relu(self.conv2(X))\n",
    "        X = F.max_pool2d(X, 2, 2)\n",
    "        # Ajustar la el batchsize a una sola para que pueda pasar por lo parametros del linear layer\n",
    "        X = X.view(-1, 16*5*5)\n",
    "        X = F.relu(self.fc1(X))\n",
    "        X = F.relu(self.fc2(X))\n",
    "        X = F.log_softmax(self.fc3(X), dim = 1)\n",
    "\n",
    "        return X"
   ]
  },
  {
   "cell_type": "code",
   "execution_count": 42,
   "id": "4b342937-8c5d-401f-a603-1b2a79929660",
   "metadata": {},
   "outputs": [],
   "source": [
    "torch.manual_seed(42)\n",
    "model = CNN()"
   ]
  },
  {
   "cell_type": "code",
   "execution_count": 43,
   "id": "f4c9abf7-ae65-4eeb-94f0-01076e6fde60",
   "metadata": {},
   "outputs": [
    {
     "data": {
      "text/plain": [
       "CNN(\n",
       "  (conv1): Conv2d(1, 6, kernel_size=(3, 3), stride=(1, 1))\n",
       "  (conv2): Conv2d(6, 16, kernel_size=(3, 3), stride=(1, 1))\n",
       "  (fc1): Linear(in_features=400, out_features=120, bias=True)\n",
       "  (fc2): Linear(in_features=120, out_features=84, bias=True)\n",
       "  (fc3): Linear(in_features=84, out_features=10, bias=True)\n",
       ")"
      ]
     },
     "execution_count": 43,
     "metadata": {},
     "output_type": "execute_result"
    }
   ],
   "source": [
    "model"
   ]
  },
  {
   "cell_type": "code",
   "execution_count": 45,
   "id": "c565727e-9eb1-4704-a007-e2a8e60e39ee",
   "metadata": {},
   "outputs": [
    {
     "name": "stdout",
     "output_type": "stream",
     "text": [
      "54\n",
      "6\n",
      "864\n",
      "16\n",
      "48000\n",
      "120\n",
      "10080\n",
      "84\n",
      "840\n",
      "10\n"
     ]
    }
   ],
   "source": [
    "for param in model.parameters():\n",
    "    print(param.numel())"
   ]
  },
  {
   "cell_type": "code",
   "execution_count": 46,
   "id": "ba5747c2-9750-42b0-95f0-dd21b3e27270",
   "metadata": {},
   "outputs": [],
   "source": [
    "criterion = nn.CrossEntropyLoss()\n",
    "optimizer = torch.optim.Adam(model.parameters(), lr = 0.001)\n"
   ]
  },
  {
   "cell_type": "code",
   "execution_count": 47,
   "id": "a11a2813-2305-4ba2-b7d8-a38f096ce8ee",
   "metadata": {},
   "outputs": [
    {
     "data": {
      "text/plain": [
       "Dataset MNIST\n",
       "    Number of datapoints: 60000\n",
       "    Root location: ./Data\n",
       "    Split: Train\n",
       "    StandardTransform\n",
       "Transform: ToTensor()"
      ]
     },
     "execution_count": 47,
     "metadata": {},
     "output_type": "execute_result"
    }
   ],
   "source": [
    "train_data"
   ]
  },
  {
   "cell_type": "code",
   "execution_count": 48,
   "id": "fbb29fed-021f-4cd6-a8d7-aa3879eccb12",
   "metadata": {},
   "outputs": [
    {
     "data": {
      "text/plain": [
       "<torch.utils.data.dataloader.DataLoader at 0x2169fa4f490>"
      ]
     },
     "execution_count": 48,
     "metadata": {},
     "output_type": "execute_result"
    }
   ],
   "source": [
    "test_loader"
   ]
  },
  {
   "cell_type": "code",
   "execution_count": 51,
   "id": "e9a57554-1a5d-4452-be29-0d683edac2e6",
   "metadata": {},
   "outputs": [
    {
     "name": "stdout",
     "output_type": "stream",
     "text": [
      "Epoch 1 Batch 0 loss 2.325000286102295\n",
      "Epoch 1 Batch 600 loss 0.42942118644714355\n",
      "Epoch 1 Batch 1200 loss 0.048130955547094345\n",
      "Epoch 1 Batch 1800 loss 0.3970509469509125\n",
      "Epoch 1 Batch 2400 loss 0.0028033184353262186\n",
      "Epoch 1 Batch 3000 loss 0.0020479224622249603\n",
      "Epoch 1 Batch 3600 loss 0.32303765416145325\n",
      "Epoch 1 Batch 4200 loss 0.07423519343137741\n",
      "Epoch 1 Batch 4800 loss 0.011081328615546227\n",
      "Epoch 1 Batch 5400 loss 0.005290906876325607\n",
      "Epoch 2 Batch 0 loss 0.20350070297718048\n",
      "Epoch 2 Batch 600 loss 0.10589124262332916\n",
      "Epoch 2 Batch 1200 loss 0.014111524447798729\n",
      "Epoch 2 Batch 1800 loss 0.11523667722940445\n",
      "Epoch 2 Batch 2400 loss 0.0012762723490595818\n",
      "Epoch 2 Batch 3000 loss 0.052980225533246994\n",
      "Epoch 2 Batch 3600 loss 0.005517345853149891\n",
      "Epoch 2 Batch 4200 loss 0.0018961693858727813\n",
      "Epoch 2 Batch 4800 loss 0.02048816904425621\n",
      "Epoch 2 Batch 5400 loss 0.005304225254803896\n",
      "Epoch 3 Batch 0 loss 0.005508902948349714\n",
      "Epoch 3 Batch 600 loss 0.02019978128373623\n",
      "Epoch 3 Batch 1200 loss 0.05954026058316231\n",
      "Epoch 3 Batch 1800 loss 0.0011698624584823847\n",
      "Epoch 3 Batch 2400 loss 0.0038387540262192488\n",
      "Epoch 3 Batch 3000 loss 0.0024003128055483103\n",
      "Epoch 3 Batch 3600 loss 0.0004647641908377409\n",
      "Epoch 3 Batch 4200 loss 0.0009692905587144196\n",
      "Epoch 3 Batch 4800 loss 0.0009658975759521127\n",
      "Epoch 3 Batch 5400 loss 0.00027768881409429014\n",
      "Epoch 4 Batch 0 loss 0.0061990050598979\n",
      "Epoch 4 Batch 600 loss 0.003033517627045512\n",
      "Epoch 4 Batch 1200 loss 0.07685993611812592\n",
      "Epoch 4 Batch 1800 loss 0.04358392581343651\n",
      "Epoch 4 Batch 2400 loss 0.14712250232696533\n",
      "Epoch 4 Batch 3000 loss 0.0010157825890928507\n",
      "Epoch 4 Batch 3600 loss 0.009187562391161919\n",
      "Epoch 4 Batch 4200 loss 0.025319144129753113\n",
      "Epoch 4 Batch 4800 loss 8.671306568430737e-05\n",
      "Epoch 4 Batch 5400 loss 0.004211148712784052\n",
      "Epoch 5 Batch 0 loss 0.00010035561717813835\n",
      "Epoch 5 Batch 600 loss 0.009837659075856209\n",
      "Epoch 5 Batch 1200 loss 5.712272832170129e-05\n",
      "Epoch 5 Batch 1800 loss 0.0009701245580799878\n",
      "Epoch 5 Batch 2400 loss 0.0011488846503198147\n",
      "Epoch 5 Batch 3000 loss 6.206608668435365e-05\n",
      "Epoch 5 Batch 3600 loss 0.010267293080687523\n",
      "Epoch 5 Batch 4200 loss 0.0006780397379770875\n",
      "Epoch 5 Batch 4800 loss 0.00020295155991334468\n",
      "Epoch 5 Batch 5400 loss 0.0024997920263558626\n"
     ]
    }
   ],
   "source": [
    "epochs = 5\n",
    "train_losses = []\n",
    "test_losses = []\n",
    "train_correct = []\n",
    "test_correct = []\n",
    "\n",
    "for i in range(epochs):\n",
    "    i+=1\n",
    "\n",
    "    trn_corr = 0\n",
    "    tst_corr = 0\n",
    "    \n",
    "    for b, (X_train, y_train) in enumerate(train_loader):\n",
    "        y_pred = model.forward(X_train)\n",
    "\n",
    "        loss = criterion(y_pred, y_train)\n",
    "        predicted = torch.max(y_pred.data,1)[1]\n",
    "        batch_corr = (predicted == y_train).sum()\n",
    "        trn_corr += batch_corr\n",
    "        optimizer.zero_grad()\n",
    "        loss.backward()\n",
    "        optimizer.step()\n",
    "\n",
    "        if b%600 == 0:\n",
    "            print(f\"Epoch {i} Batch {b} loss {loss.item()}\")\n",
    "    train_losses.append(loss)\n",
    "    train_correct.append(trn_corr)\n",
    "\n",
    "    with torch.no_grad():\n",
    "        for b, (X_test, y_val) in enumerate(test_loader):\n",
    "            y_pred = model.forward(X_test)\n",
    "            predicted = torch.max(y_pred.data,1)[1]\n",
    "            batch_corr = (predicted == y_train).sum()\n",
    "            tst_corr += batch_corr\n",
    "    loss = criterion(y_pred, y_val)\n",
    "    test_losses.append(loss)\n",
    "    test_correct.append(tst_corr)\n",
    "\n",
    "\n",
    "    "
   ]
  },
  {
   "cell_type": "markdown",
   "id": "955addb3-4668-406f-ad71-175b6ba050c9",
   "metadata": {},
   "source": [
    "## Model testing"
   ]
  },
  {
   "cell_type": "code",
   "execution_count": 56,
   "id": "c29cbd20-00dc-427c-baa3-dcad30adf5a4",
   "metadata": {},
   "outputs": [],
   "source": [
    "test_all = DataLoader(test_data, batch_size = 10000, shuffle = False)"
   ]
  },
  {
   "cell_type": "code",
   "execution_count": 60,
   "id": "b394f6d9-8648-4826-909e-8ea5f4f2533a",
   "metadata": {},
   "outputs": [],
   "source": [
    "with torch.no_grad():\n",
    "    correct = 0\n",
    "    for i , (X_test, y_val) in enumerate(test_all):\n",
    "        y_pred = model.forward(X_test)\n",
    "        prediction = torch.max(y_pred, 1)[1]\n",
    "        correct += (prediction == y_val).sum()"
   ]
  },
  {
   "cell_type": "code",
   "execution_count": 61,
   "id": "7d4229dc-44b7-4d9c-a811-346a202677b1",
   "metadata": {},
   "outputs": [
    {
     "data": {
      "text/plain": [
       "0.9865"
      ]
     },
     "execution_count": 61,
     "metadata": {},
     "output_type": "execute_result"
    }
   ],
   "source": [
    "correct.item()/len(test_data)"
   ]
  },
  {
   "cell_type": "code",
   "execution_count": null,
   "id": "d2cfa83d-dadf-4647-9bac-f29201893e50",
   "metadata": {},
   "outputs": [],
   "source": []
  }
 ],
 "metadata": {
  "kernelspec": {
   "display_name": "Python 3 (ipykernel)",
   "language": "python",
   "name": "python3"
  },
  "language_info": {
   "codemirror_mode": {
    "name": "ipython",
    "version": 3
   },
   "file_extension": ".py",
   "mimetype": "text/x-python",
   "name": "python",
   "nbconvert_exporter": "python",
   "pygments_lexer": "ipython3",
   "version": "3.11.8"
  }
 },
 "nbformat": 4,
 "nbformat_minor": 5
}
