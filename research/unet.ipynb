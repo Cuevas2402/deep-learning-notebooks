{
 "cells": [
  {
   "cell_type": "markdown",
   "id": "990d467d-03bb-48fd-a740-94a0e86d5946",
   "metadata": {
    "jp-MarkdownHeadingCollapsed": true
   },
   "source": [
    "## Image processing"
   ]
  },
  {
   "cell_type": "code",
   "execution_count": 2,
   "id": "60816244-2006-4057-8eb5-b002b67da70c",
   "metadata": {},
   "outputs": [],
   "source": [
    "import torch\n",
    "from torchvision import datasets, transforms\n",
    "from torch.utils.data import DataLoader"
   ]
  },
  {
   "cell_type": "code",
   "execution_count": 3,
   "id": "c15612af-db1e-427f-bee5-a3c26fcead50",
   "metadata": {},
   "outputs": [],
   "source": [
    "import numpy as np\n",
    "import pandas as pd\n",
    "import matplotlib.pyplot as plt\n",
    "%matplotlib inline"
   ]
  },
  {
   "cell_type": "code",
   "execution_count": 4,
   "id": "bf4a1495-e0fa-464e-9ac4-34922af614cd",
   "metadata": {},
   "outputs": [],
   "source": [
    "import os"
   ]
  },
  {
   "cell_type": "code",
   "execution_count": 5,
   "id": "ff49e9e5-2cdb-4a15-811c-0c3c7658cac3",
   "metadata": {},
   "outputs": [],
   "source": [
    "transform = transforms.ToTensor()"
   ]
  },
  {
   "cell_type": "code",
   "execution_count": 6,
   "id": "15f51d51-f654-4bef-be6e-7f68e633f5e8",
   "metadata": {},
   "outputs": [],
   "source": [
    "data_dir = './label/'\n",
    "os.makedirs(os.path.join(data_dir, 'class1'), exist_ok=True)"
   ]
  },
  {
   "cell_type": "code",
   "execution_count": 7,
   "id": "ca8d3689-b345-4b54-bd19-7a6b939b489e",
   "metadata": {},
   "outputs": [],
   "source": [
    "dataset = datasets.ImageFolder(root=data_dir, transform=transform)"
   ]
  },
  {
   "cell_type": "code",
   "execution_count": 8,
   "id": "66816929-f145-46b5-b7d5-63bb21b45039",
   "metadata": {},
   "outputs": [
    {
     "data": {
      "text/plain": [
       "(tensor([[[0., 0., 0.,  ..., 0., 0., 0.],\n",
       "          [0., 0., 0.,  ..., 0., 0., 0.],\n",
       "          [0., 0., 0.,  ..., 0., 0., 0.],\n",
       "          ...,\n",
       "          [0., 0., 0.,  ..., 0., 0., 0.],\n",
       "          [0., 0., 0.,  ..., 0., 0., 0.],\n",
       "          [0., 0., 0.,  ..., 0., 0., 0.]],\n",
       " \n",
       "         [[0., 0., 0.,  ..., 0., 0., 0.],\n",
       "          [0., 0., 0.,  ..., 0., 0., 0.],\n",
       "          [0., 0., 0.,  ..., 0., 0., 0.],\n",
       "          ...,\n",
       "          [0., 0., 0.,  ..., 0., 0., 0.],\n",
       "          [0., 0., 0.,  ..., 0., 0., 0.],\n",
       "          [0., 0., 0.,  ..., 0., 0., 0.]],\n",
       " \n",
       "         [[0., 0., 0.,  ..., 0., 0., 0.],\n",
       "          [0., 0., 0.,  ..., 0., 0., 0.],\n",
       "          [0., 0., 0.,  ..., 0., 0., 0.],\n",
       "          ...,\n",
       "          [0., 0., 0.,  ..., 0., 0., 0.],\n",
       "          [0., 0., 0.,  ..., 0., 0., 0.],\n",
       "          [0., 0., 0.,  ..., 0., 0., 0.]]]),\n",
       " 0)"
      ]
     },
     "execution_count": 8,
     "metadata": {},
     "output_type": "execute_result"
    }
   ],
   "source": [
    "dataset[0]"
   ]
  },
  {
   "cell_type": "code",
   "execution_count": 9,
   "id": "0b17191e-3ccc-4b08-92c9-1a9836fd49b1",
   "metadata": {},
   "outputs": [],
   "source": [
    "image, label = dataset[0]"
   ]
  },
  {
   "cell_type": "code",
   "execution_count": 10,
   "id": "0a5ecb03-bfdc-43a9-baa3-165de2eecd0a",
   "metadata": {},
   "outputs": [
    {
     "data": {
      "text/plain": [
       "tensor([[[0., 0., 0.,  ..., 0., 0., 0.],\n",
       "         [0., 0., 0.,  ..., 0., 0., 0.],\n",
       "         [0., 0., 0.,  ..., 0., 0., 0.],\n",
       "         ...,\n",
       "         [0., 0., 0.,  ..., 0., 0., 0.],\n",
       "         [0., 0., 0.,  ..., 0., 0., 0.],\n",
       "         [0., 0., 0.,  ..., 0., 0., 0.]],\n",
       "\n",
       "        [[0., 0., 0.,  ..., 0., 0., 0.],\n",
       "         [0., 0., 0.,  ..., 0., 0., 0.],\n",
       "         [0., 0., 0.,  ..., 0., 0., 0.],\n",
       "         ...,\n",
       "         [0., 0., 0.,  ..., 0., 0., 0.],\n",
       "         [0., 0., 0.,  ..., 0., 0., 0.],\n",
       "         [0., 0., 0.,  ..., 0., 0., 0.]],\n",
       "\n",
       "        [[0., 0., 0.,  ..., 0., 0., 0.],\n",
       "         [0., 0., 0.,  ..., 0., 0., 0.],\n",
       "         [0., 0., 0.,  ..., 0., 0., 0.],\n",
       "         ...,\n",
       "         [0., 0., 0.,  ..., 0., 0., 0.],\n",
       "         [0., 0., 0.,  ..., 0., 0., 0.],\n",
       "         [0., 0., 0.,  ..., 0., 0., 0.]]])"
      ]
     },
     "execution_count": 10,
     "metadata": {},
     "output_type": "execute_result"
    }
   ],
   "source": [
    "image"
   ]
  },
  {
   "cell_type": "markdown",
   "id": "829c0c24-d43b-4bd7-9137-f572152bc5fc",
   "metadata": {},
   "source": [
    "## Image skeletonization"
   ]
  },
  {
   "cell_type": "code",
   "execution_count": 29,
   "id": "06c1dae5-f663-4609-851b-9a76444e9094",
   "metadata": {},
   "outputs": [],
   "source": [
    "from skimage.morphology import skeletonize\n",
    "import matplotlib.pyplot as plt\n",
    "from skimage.util import invert\n",
    "import skimage as ski\n",
    "from skimage.filters import threshold_otsu"
   ]
  },
  {
   "cell_type": "code",
   "execution_count": 15,
   "id": "f5eaa379-dc9b-4ea0-acbf-307c4ca44fcc",
   "metadata": {},
   "outputs": [],
   "source": [
    "files = os.listdir(data_dir+'/class1')"
   ]
  },
  {
   "cell_type": "code",
   "execution_count": 16,
   "id": "339b9fcd-4cc0-47be-b521-cedb7386b0e4",
   "metadata": {},
   "outputs": [
    {
     "data": {
      "text/plain": [
       "['nj_100_1_LCA_RAO.png',\n",
       " 'nj_100_2_LCA_LAO.png',\n",
       " 'nj_101_1_LCA_RAO.png',\n",
       " 'nj_101_2_LCA_RAO.png',\n",
       " 'nj_102_1_LCA_RAO.png',\n",
       " 'nj_102_2_LCA_RAO.png',\n",
       " 'nj_102_3_RCA_LAO.png',\n",
       " 'nj_102_4_RCA_RAO.png',\n",
       " 'nj_103_1_LCA_RAO.png',\n",
       " 'nj_103_2_LCA_LAO.png',\n",
       " 'nj_104_1_LCA_RAO.png',\n",
       " 'nj_104_2_LCA_RAO.png',\n",
       " 'nj_104_3_RCA_LAO.png',\n",
       " 'nj_104_4_RCA_LAO.png',\n",
       " 'nj_105_1_LCA_RAO.png',\n",
       " 'nj_105_2_LCA_LAO.png',\n",
       " 'nj_106_1_LCA_RAO.png',\n",
       " 'nj_106_2_LCA_LAO.png',\n",
       " 'nj_106_3_RCA_LAO.png',\n",
       " 'nj_106_4_RCA_RAO.png',\n",
       " 'nj_107_1_LCA_RAO.png',\n",
       " 'nj_107_2_LCA_RAO.png',\n",
       " 'nj_107_3_RCA_LAO.png',\n",
       " 'nj_107_4_RCA_RAO.png',\n",
       " 'nj_108_1_LCA_RAO.png',\n",
       " 'nj_108_2_LCA_RAO.png',\n",
       " 'nj_109_1_LCA_RAO.png',\n",
       " 'nj_109_2_LCA_LAO.png',\n",
       " 'nj_109_3_RCA_LAO.png',\n",
       " 'nj_109_4_RCA_RAO.png',\n",
       " 'nj_10_LCA_LAO.png',\n",
       " 'nj_10_LCA_RAO.png',\n",
       " 'nj_10_RCA_LAO.png',\n",
       " 'nj_10_RCA_LAO1.png',\n",
       " 'nj_110_1_LCA_LAO.png',\n",
       " 'nj_110_2_LCA_RAO.png',\n",
       " 'nj_111_1_LCA_RAO.png',\n",
       " 'nj_111_2_LCA_LAO.png',\n",
       " 'nj_112_1_LCA_LAO.png',\n",
       " 'nj_112_2_LCA_RAO.png',\n",
       " 'nj_113_1_LCA_RAO.png',\n",
       " 'nj_113_2_LCA_LAO.png',\n",
       " 'nj_114_1_LCA_LAO.png',\n",
       " 'nj_114_2_LCA_RAO.png',\n",
       " 'nj_115_1_LCA_LAO.png',\n",
       " 'nj_115_2_LCA_RAO.png',\n",
       " 'nj_116_1_LCA_RAO.png',\n",
       " 'nj_116_2_LCA_LAO.png',\n",
       " 'nj_116_3_RCA_LAO.png',\n",
       " 'nj_116_4_RCA_RAO.png',\n",
       " 'nj_117_1_LCA_RAO.png',\n",
       " 'nj_117_2_LCA_RAO.png',\n",
       " 'nj_117_3_RCA_LAO.png',\n",
       " 'nj_117_4_RCA_LAO.png',\n",
       " 'nj_118_1_LCA_RAO.png',\n",
       " 'nj_118_2_LCA_LAO.png',\n",
       " 'nj_119_1_LCA_RAO.png',\n",
       " 'nj_119_2_LCA_LAO.png',\n",
       " 'nj_119_3_RCA_LAO.png',\n",
       " 'nj_119_4_RCA_RAO.png',\n",
       " 'nj_11_LCA_LAO.png',\n",
       " 'nj_11_LCA_RAO.png',\n",
       " 'nj_11_RCA_LAO.png',\n",
       " 'nj_120_1_LCA_RAO.png',\n",
       " 'nj_120_2_LCA_LAO.png',\n",
       " 'nj_120_3_RCA_LAO.png',\n",
       " 'nj_120_4_RCA_RAO.png',\n",
       " 'nj_121_1_LCA_RAO.png',\n",
       " 'nj_121_2_LCA_LAO.png',\n",
       " 'nj_122_1_LCA_RAO.png',\n",
       " 'nj_122_2_LCA_LAO.png',\n",
       " 'nj_123_1_LCA_RAO.png',\n",
       " 'nj_123_2_LCA_LAO.png',\n",
       " 'nj_124_1_LCA_LAO.png',\n",
       " 'nj_124_2_LCA_RAO.png',\n",
       " 'nj_124_3_RCA_LAO.png',\n",
       " 'nj_124_4_RCA_LAO.png',\n",
       " 'nj_125_1_LCA_RAO.png',\n",
       " 'nj_125_2_LCA_LAO.png',\n",
       " 'nj_126_1_LCA_RAO.png',\n",
       " 'nj_126_2_LCA_RAO.png',\n",
       " 'nj_126_3_RCA_LAO.png',\n",
       " 'nj_126_4_RCA_RAO.png',\n",
       " 'nj_127_1_LCA_RAO.png',\n",
       " 'nj_127_2_LCA_LAO.png',\n",
       " 'nj_127_3_RCA_LAO.png',\n",
       " 'nj_127_4_RCA_LAO.png',\n",
       " 'nj_128_1_LCA_RAO.png',\n",
       " 'nj_128_2_LCA_RAO.png',\n",
       " 'nj_128_3_RCA_LAO.png',\n",
       " 'nj_128_4_RCA_RAO.png',\n",
       " 'nj_129_1_LCA_LAO.png',\n",
       " 'nj_129_2_LCA_LAO.png',\n",
       " 'nj_12_LCA_LAO.png',\n",
       " 'nj_12_RCA_LAO.png',\n",
       " 'nj_130_1_LCA_RAO.png',\n",
       " 'nj_130_2_LCA_RAO.png',\n",
       " 'nj_131_1_LCA_LAO.png',\n",
       " 'nj_131_2_LCA_RAO.png',\n",
       " 'nj_132_1_LCA_RAO.png',\n",
       " 'nj_132_2_LCA_RAO.png',\n",
       " 'nj_132_3_RCA_LAO.png',\n",
       " 'nj_132_4_RCA_RAO.png',\n",
       " 'nj_133_1_LCA_RAO.png',\n",
       " 'nj_133_2_LCA_LAO.png',\n",
       " 'nj_134_1_LCA_LAO.png',\n",
       " 'nj_134_2_LCA_LAO.png',\n",
       " 'nj_134_3_LCA_LAO.png',\n",
       " 'nj_134_4_LCA_LAO.png',\n",
       " 'nj_135_1_LCA_RAO.png',\n",
       " 'nj_135_2_LCA_RAO.png',\n",
       " 'nj_136_1_LCA_RAO.png',\n",
       " 'nj_136_2_LCA_LAO.png',\n",
       " 'nj_136_3_RCA_LAO.png',\n",
       " 'nj_136_4_RCA_RAO.png',\n",
       " 'nj_137_1_LCA_RAO.png',\n",
       " 'nj_137_2_LCA_RAO.png',\n",
       " 'nj_138_1_LCA_RAO.png',\n",
       " 'nj_138_2_LCA_RAO.png',\n",
       " 'nj_139_1_LCA_RAO.png',\n",
       " 'nj_139_2_LCA_LAO.png',\n",
       " 'nj_139_3_RCA_LAO.png',\n",
       " 'nj_139_4_RCA_LAO.png',\n",
       " 'nj_13_LCA_LAO.png',\n",
       " 'nj_13_LCA_RAO.png',\n",
       " 'nj_13_RCA_LAO.png',\n",
       " 'nj_13_RCA_RAO.png',\n",
       " 'nj_140_1_LCA_RAO.png',\n",
       " 'nj_140_2_LCA_LAO.png',\n",
       " 'nj_141_1_LCA_RAO.png',\n",
       " 'nj_141_2_LCA_RAO.png',\n",
       " 'nj_142_1_LCA_RAO.png',\n",
       " 'nj_142_2_LCA_RAO.png',\n",
       " 'nj_143_1_LCA_RAO.png',\n",
       " 'nj_143_2_LCA_LAO.png',\n",
       " 'nj_144_1_LCA_RAO.png',\n",
       " 'nj_144_2_LCA_LAO.png',\n",
       " 'nj_144_3_RCA_LAO.png',\n",
       " 'nj_144_4_RCA_LAO.png',\n",
       " 'nj_145_1_LCA_RAO.png',\n",
       " 'nj_145_2_LCA_LAO.png',\n",
       " 'nj_145_3_RCA_LAO.png',\n",
       " 'nj_145_4_RCA_RAO.png',\n",
       " 'nj_146_1_LCA_RAO.png',\n",
       " 'nj_146_2_LCA_LAO.png',\n",
       " 'nj_147_1_LCA_RAO.png',\n",
       " 'nj_147_2_LCA_LAO.png',\n",
       " 'nj_147_3_RCA_LAO.png',\n",
       " 'nj_147_4_RCA_LAO.png',\n",
       " 'nj_148_1_LCA_RAO.png',\n",
       " 'nj_148_2_LCA_LAO.png',\n",
       " 'nj_148_3_RCA_LAO.png',\n",
       " 'nj_148_4_RCA_RAO.png',\n",
       " 'nj_149_1_LCA_RAO.png',\n",
       " 'nj_149_2_LCA_RAO.png',\n",
       " 'nj_14_LCA_LAO.png',\n",
       " 'nj_14_LCA_RAO1.png',\n",
       " 'nj_14_LCA_RAO2.png',\n",
       " 'nj_14_RCA_LAO.png',\n",
       " 'nj_14_RCA_LAO1.png',\n",
       " 'nj_150_1_LCA_RAO.png',\n",
       " 'nj_150_2_LCA_LAO.png',\n",
       " 'nj_151_1_LCA_RAO.png',\n",
       " 'nj_151_2_LCA_LAO.png',\n",
       " 'nj_152_1_LCA_RAO.png',\n",
       " 'nj_152_2_LCA_LAO.png',\n",
       " 'nj_152_3_RCA_LAO.png',\n",
       " 'nj_152_4_RCA_RAO.png',\n",
       " 'nj_153_1_LCA_RAO.png',\n",
       " 'nj_153_2_LCA_RAO.png',\n",
       " 'nj_153_3_RCA_LAO.png',\n",
       " 'nj_153_4_RCA_RAO.png',\n",
       " 'nj_154_1_LCA_RAO.png',\n",
       " 'nj_154_2_LCA_LAO.png',\n",
       " 'nj_155_1_LCA_RAO.png',\n",
       " 'nj_155_2_LCA_LAO.png',\n",
       " 'nj_156_1_LCA_RAO.png',\n",
       " 'nj_156_2_LCA_RAO.png',\n",
       " 'nj_157_1_LCA_LAO.png',\n",
       " 'nj_157_2_LCA_RAO.png',\n",
       " 'nj_157_3_RCA_LAO.png',\n",
       " 'nj_157_4_RCA_RAO.png',\n",
       " 'nj_158_1_LCA_RAO.png',\n",
       " 'nj_158_2_LCA_RAO.png',\n",
       " 'nj_159_1_LCA_RAO.png',\n",
       " 'nj_159_2_LCA_LAO.png',\n",
       " 'nj_15_LCA_LAO.png',\n",
       " 'nj_15_LCA_RAO1.png',\n",
       " 'nj_15_LCA_RAO2.png',\n",
       " 'nj_15_RCA_LAO.png',\n",
       " 'nj_160_1_LCA_RAO.png',\n",
       " 'nj_160_2_LCA_RAO.png',\n",
       " 'nj_160_3_RCA_LAO.png',\n",
       " 'nj_160_4_RCA_LAO.png',\n",
       " 'nj_161_1_LCA_RAO.png',\n",
       " 'nj_161_2_LCA_LAO.png',\n",
       " 'nj_162_1_LCA_RAO.png',\n",
       " 'nj_162_3_RCA_LAO.png',\n",
       " 'nj_162_4_RCA_RAO.png',\n",
       " 'nj_163_1_LCA_RAO.png',\n",
       " 'nj_163_2_LCA_LAO.png',\n",
       " 'nj_163_3_RCA_LAO.png',\n",
       " 'nj_163_4_RCA_RAO.png',\n",
       " 'nj_164_1_LCA_RAO.png',\n",
       " 'nj_164_2_LCA_LAO.png',\n",
       " 'nj_164_3_RCA_LAO.png',\n",
       " 'nj_164_4_RCA_RAO.png',\n",
       " 'nj_165_1_LCA_RAO.png',\n",
       " 'nj_165_2_LCA_LAO.png',\n",
       " 'nj_166_1_LCA_RAO.png',\n",
       " 'nj_166_2_LCA_LAO.png',\n",
       " 'nj_166_3_RCA_LAO.png',\n",
       " 'nj_166_4_RCA_RAO.png',\n",
       " 'nj_167_1_LCA_RAO.png',\n",
       " 'nj_167_2_LCA_LAO.png',\n",
       " 'nj_168_1_LCA_RAO.png',\n",
       " 'nj_168_2_LCA_LAO.png',\n",
       " 'nj_168_3_RCA_LAO.png',\n",
       " 'nj_168_4_RCA_LAO.png',\n",
       " 'nj_169_1_LCA_LAO.png',\n",
       " 'nj_169_2_LCA_RAO.png',\n",
       " 'nj_16_LCA_RAO.png',\n",
       " 'nj_16_RCA_LAO.png',\n",
       " 'nj_170_1_LCA_RAO.png',\n",
       " 'nj_170_2_LCA_LAO.png',\n",
       " 'nj_171_1_LCA_RAO.png',\n",
       " 'nj_171_2_LCA_LAO.png',\n",
       " 'nj_172_1_LCA_RAO.png',\n",
       " 'nj_172_2_LCA_RAO.png',\n",
       " 'nj_172_3_RCA_LAO.png',\n",
       " 'nj_172_4_RCA_RAO.png',\n",
       " 'nj_173_1_LCA_RAO.png',\n",
       " 'nj_173_2_LCA_RAO.png',\n",
       " 'nj_174_1_LCA_RAO.png',\n",
       " 'nj_174_2_LCA_RAO.png',\n",
       " 'nj_175_1_LCA_RAO.png',\n",
       " 'nj_175_2_LCA_LAO.png',\n",
       " 'nj_176_1_LCA_RAO.png',\n",
       " 'nj_176_2_LCA_LAO.png',\n",
       " 'nj_176_3_RCA_LAO.png',\n",
       " 'nj_176_4_RCA_RAO.png',\n",
       " 'nj_177_1_LCA_RAO.png',\n",
       " 'nj_177_2_LCA_RAO.png',\n",
       " 'nj_177_3_RCA_LAO.png',\n",
       " 'nj_177_4_RCA_RAO.png',\n",
       " 'nj_178_1_LCA_RAO.png',\n",
       " 'nj_178_2_LCA_RAO.png',\n",
       " 'nj_179_1_RCA_LAO.png',\n",
       " 'nj_179_2_RCA_RAO.png',\n",
       " 'nj_179_3_LCA_LAO.png',\n",
       " 'nj_17_LCA_LAO.png',\n",
       " 'nj_17_LCA_RAO.png',\n",
       " 'nj_17_RCA_LAO.png',\n",
       " 'nj_17_RCA_LAO1.png',\n",
       " 'nj_180_1_LCA_RAO.png',\n",
       " 'nj_180_2_LCA_LAO.png',\n",
       " 'nj_180_3_RCA_LAO.png',\n",
       " 'nj_180_4_RCA_RAO.png',\n",
       " 'nj_181_1_LCA_RAO.png',\n",
       " 'nj_181_2_LCA_RAO.png',\n",
       " 'nj_182_1_LCA_RAO.png',\n",
       " 'nj_182_2_LCA_LAO.png',\n",
       " 'nj_183_1_LCA_RAO.png',\n",
       " 'nj_183_2_LCA_LAO.png',\n",
       " 'nj_183_3_RCA_LAO.png',\n",
       " 'nj_183_4_RCA_RAO.png',\n",
       " 'nj_184_1_LCA_RAO.png',\n",
       " 'nj_184_2_LCA_LAO.png',\n",
       " 'nj_185_1_LCA_RAO.png',\n",
       " 'nj_185_2_LCA_LAO.png',\n",
       " 'nj_186_1_LCA_RAO.png',\n",
       " 'nj_186_2_LCA_LAO.png',\n",
       " 'nj_187_1_LCA_RAO.png',\n",
       " 'nj_187_2_LCA_LAO.png',\n",
       " 'nj_188_1_LCA_RAO.png',\n",
       " 'nj_188_2_LCA_LAO.png',\n",
       " 'nj_189_1_LCA_RAO.png',\n",
       " 'nj_189_2_LCA_LAO.png',\n",
       " 'nj_189_3_RCA_LAO.png',\n",
       " 'nj_189_4_RCA_LAO.png',\n",
       " 'nj_18_LCA_CAU.png',\n",
       " 'nj_18_LCA_RAO.png',\n",
       " 'nj_18_RCA_LAO.png',\n",
       " 'nj_18_RCA_LAO1.png',\n",
       " 'nj_190_1_LCA_RAO.png',\n",
       " 'nj_190_2_LCA_LAO.png',\n",
       " 'nj_190_3_RCA_LAO.png',\n",
       " 'nj_190_4_RCA_LAO.png',\n",
       " 'nj_191_1_LCA_RAO.png',\n",
       " 'nj_191_2_LCA_RAO.png',\n",
       " 'nj_192_1_LCA_RAO.png',\n",
       " 'nj_192_2_LCA_RAO.png',\n",
       " 'nj_193_1_LCA_RAO.png',\n",
       " 'nj_193_2_LCA_LAO.png',\n",
       " 'nj_193_3_RCA_LAO.png',\n",
       " 'nj_193_4_RCA_LAO.png',\n",
       " 'nj_194_1_LCA_RAO.png',\n",
       " 'nj_194_2_LCA_RAO.png',\n",
       " 'nj_194_3_RCA_LAO.png',\n",
       " 'nj_194_4_RCA_LAO.png',\n",
       " 'nj_195_1_LCA_RAO.png',\n",
       " 'nj_195_2_LCA_LAO.png',\n",
       " 'nj_196_1_LCA_RAO.png',\n",
       " 'nj_196_2_LCA_LAO.png',\n",
       " 'nj_197_1_LCA_RAO.png',\n",
       " 'nj_197_2_LCA_LAO.png',\n",
       " 'nj_197_3_RCA_LAO.png',\n",
       " 'nj_197_4_RCA_RAO.png',\n",
       " 'nj_198_1_LCA_RAO.png',\n",
       " 'nj_198_2_LCA_LAO.png',\n",
       " 'nj_199_1_LCA_RAO.png',\n",
       " 'nj_199_2_LCA_LAO.png',\n",
       " 'nj_19_LCA_LAO.png',\n",
       " 'nj_19_LCA_RAO.png',\n",
       " 'nj_19_RCA_LAO.png',\n",
       " 'nj_1_LCA_LAO.png',\n",
       " 'nj_1_LCA_RAO.png',\n",
       " 'nj_1_RCA_LAO.png',\n",
       " 'nj_200_1_LCA_RAO.png',\n",
       " 'nj_200_2_LCA_RAO.png',\n",
       " 'nj_201_1_LCA_RAO.png',\n",
       " 'nj_201_2_LCA_RAO.png',\n",
       " 'nj_202_1_LCA_RAO.png',\n",
       " 'nj_203_1_LCA_RAO.png',\n",
       " 'nj_203_2_LCA_LAO.png',\n",
       " 'nj_204_1_LCA_RAO.png',\n",
       " 'nj_204_2_LCA_LAO.png',\n",
       " 'nj_205_1_LCA_RAO.png',\n",
       " 'nj_205_2_LCA_LAO.png',\n",
       " 'nj_206_1_LCA_RAO.png',\n",
       " 'nj_206_2_LCA_LAO.png',\n",
       " 'nj_207_2_LCA_RAO.png',\n",
       " 'nj_207_3_RCA_LAO.png',\n",
       " 'nj_207_4_RCA_RAO.png',\n",
       " 'nj_208_1_LCA_LAO.png',\n",
       " 'nj_208_2_LCA_RAO.png',\n",
       " 'nj_208_3_RCA_LAO.png',\n",
       " 'nj_208_4_RCA_RAO.png',\n",
       " 'nj_209_1_LCA_RAO.png',\n",
       " 'nj_209_2_LCA_LAO.png',\n",
       " 'nj_20_LCA_LAO.png',\n",
       " 'nj_20_LCA_RAO.png',\n",
       " 'nj_20_RCA_LAO.png',\n",
       " 'nj_20_RCA_LAO1.png',\n",
       " 'nj_21_LCA_LAO.png',\n",
       " 'nj_21_LCA_RAO1.png',\n",
       " 'nj_21_LCA_RAO2.png',\n",
       " 'nj_21_RCA_LAO.png',\n",
       " 'nj_22_LCA_LAO.png',\n",
       " 'nj_22_LCA_RAO.png',\n",
       " 'nj_22_RCA_LAO.png',\n",
       " 'nj_22_RCA_LAO1.png',\n",
       " 'nj_23_LCA_LAO.png',\n",
       " 'nj_23_LCA_RAO1.png',\n",
       " 'nj_23_LCA_RAO2.png',\n",
       " 'nj_23_RCA_LAO.png',\n",
       " 'nj_23_RCA_RAO.png',\n",
       " 'nj_24_LCA_LAO.png',\n",
       " 'nj_24_LCA_RAO.png',\n",
       " 'nj_25_LCA_LAO.png',\n",
       " 'nj_25_LCA_RAO.png',\n",
       " 'nj_25_RCA_LAO.png',\n",
       " 'nj_25_RCA_RAO.png',\n",
       " 'nj_26_LCA_LAO.png',\n",
       " 'nj_26_LCA_RAO.png',\n",
       " 'nj_26_RCA_LAO.png',\n",
       " 'nj_26_RCA_LAO1.png',\n",
       " 'nj_27_LCA_CRA.png',\n",
       " 'nj_27_LCA_RAO.png',\n",
       " 'nj_27_RCA_LAO.png',\n",
       " 'nj_28_LCA_LAO.png',\n",
       " 'nj_28_LCA_RAO.png',\n",
       " 'nj_28_RCA_LAO.png',\n",
       " 'nj_28_RCA_LAO1.png',\n",
       " 'nj_29_LCA_LAO.png',\n",
       " 'nj_29_LCA_RAO1.png',\n",
       " 'nj_29_LCA_RAO2.png',\n",
       " 'nj_29_RCA_LAO.png',\n",
       " 'nj_29_RCA_LAO1.png',\n",
       " 'nj_2_LCA_LAO.png',\n",
       " 'nj_2_LCA_RAO.png',\n",
       " 'nj_2_RCA_LAO.png',\n",
       " 'nj_30_LCA_LAO.png',\n",
       " 'nj_30_LCA_RAO.png',\n",
       " 'nj_30_RCA_LAO.png',\n",
       " 'nj_31_LCA_LAO.png',\n",
       " 'nj_31_LCA_RAO.png',\n",
       " 'nj_31_RCA_LAO.png',\n",
       " 'nj_31_RCA_LAO1.png',\n",
       " 'nj_31_RCA_RAO.png',\n",
       " 'nj_32_LCA_LAO.png',\n",
       " 'nj_32_LCA_RAO.png',\n",
       " 'nj_32_RCA_LAO.png',\n",
       " 'nj_32_RCA_RAO.png',\n",
       " 'nj_33_LCA_LAO.png',\n",
       " 'nj_33_LCA_RAO.png',\n",
       " 'nj_33_RCA_LAO.png',\n",
       " 'nj_34_LCA_RAO.png',\n",
       " 'nj_34_RCA_LAO.png',\n",
       " 'nj_34_RCA_LAO1.png',\n",
       " 'nj_35_LCA_LAO.png',\n",
       " 'nj_35_LCA_RAO1.png',\n",
       " 'nj_35_LCA_RAO2.png',\n",
       " 'nj_35_RCA_LAO.png',\n",
       " 'nj_35_RCA_LAO1.png',\n",
       " 'nj_36_LCA_LAO.png',\n",
       " 'nj_36_LCA_RAO.png',\n",
       " 'nj_36_RCA_LAO.png',\n",
       " 'nj_37_LCA_LAO.png',\n",
       " 'nj_37_LCA_RAO.png',\n",
       " 'nj_37_RCA_LAO.png',\n",
       " 'nj_38_LCA_LAO.png',\n",
       " 'nj_38_LCA_RAO.png',\n",
       " 'nj_38_RCA_LAO.png',\n",
       " 'nj_39_LCA_RAO.png',\n",
       " 'nj_39_RCA_LAO.png',\n",
       " 'nj_3_LCA_LAO.png',\n",
       " 'nj_40_LCA_RAO.png',\n",
       " 'nj_40_RCA_LAO.png',\n",
       " 'nj_41_LCA_LAO.png',\n",
       " 'nj_41_LCA_RAO.png',\n",
       " 'nj_41_RCA_LAO.png',\n",
       " 'nj_41_RCA_RAO.png',\n",
       " 'nj_42_LCA_RAO.png',\n",
       " 'nj_42_RCA_LAO.png',\n",
       " 'nj_42_RCA_RAO.png',\n",
       " 'nj_43_LCA_RAO.png',\n",
       " 'nj_43_RCA_LAO.png',\n",
       " 'nj_44_LCA_LAO.png',\n",
       " 'nj_44_LCA_RAO.png',\n",
       " 'nj_44_RCA_LAO.png',\n",
       " 'nj_45_LCA_LAO.png',\n",
       " 'nj_45_LCA_RAO.png',\n",
       " 'nj_45_RCA_LAO.png',\n",
       " 'nj_45_RCA_RAO.png',\n",
       " 'nj_46_LCA_RAO.png',\n",
       " 'nj_46_RCA_LAO.png',\n",
       " 'nj_47_LCA_LAO.png',\n",
       " 'nj_47_LCA_RAO.png',\n",
       " 'nj_47_RCA_LAO.png',\n",
       " 'nj_48_LCA_LAO.png',\n",
       " 'nj_48_LCA_RAO.png',\n",
       " 'nj_48_RCA_LAO.png',\n",
       " 'nj_48_RCA_RAO.png',\n",
       " 'nj_49_LCA_LAO.png',\n",
       " 'nj_49_LCA_RAO.png',\n",
       " 'nj_49_RCA_LAO.png',\n",
       " 'nj_4_LCA_LAO1.png',\n",
       " 'nj_4_LCA_LAO2.png',\n",
       " 'nj_4_LCA_RAO.png',\n",
       " 'nj_4_RCA_LAO.png',\n",
       " 'nj_50_LCA_LAO.png',\n",
       " 'nj_50_LCA_RAO.png',\n",
       " 'nj_50_RCA_LAO.png',\n",
       " 'nj_51_LCA_LAO.png',\n",
       " 'nj_51_LCA_RAO.png',\n",
       " 'nj_51_RCA_LAO.png',\n",
       " 'nj_52_LCA_LAO.png',\n",
       " 'nj_52_LCA_RAO.png',\n",
       " 'nj_52_RCA_LAO.png',\n",
       " 'nj_53_RCA_LAO.png',\n",
       " 'nj_54_LCA_LAO.png',\n",
       " 'nj_54_LCA_RAO.png',\n",
       " 'nj_54_RCA_LAO.png',\n",
       " 'nj_54_RCA_RAO.png',\n",
       " 'nj_55_LCA_LAO.png',\n",
       " 'nj_55_LCA_RAO.png',\n",
       " 'nj_55_RCA_LAO.png',\n",
       " 'nj_56_LCA_LAO.png',\n",
       " 'nj_56_LCA_RAO.png',\n",
       " 'nj_56_RCA_LAO.png',\n",
       " 'nj_57_LCA_LAO.png',\n",
       " 'nj_58_LCA_LAO.png',\n",
       " 'nj_58_LCA_RAO.png',\n",
       " 'nj_58_RCA_LAO.png',\n",
       " 'nj_59_LCA_LAO.png',\n",
       " 'nj_59_LCA_RAO.png',\n",
       " 'nj_59_RCA_LAO.png',\n",
       " 'nj_59_RCA_RAO.png',\n",
       " 'nj_5_LCA_LAO.png',\n",
       " 'nj_5_LCA_RAO.png',\n",
       " 'nj_5_RCA_LAO.png',\n",
       " 'nj_60_LCA_LAO.png',\n",
       " 'nj_60_RCA_LAO.png',\n",
       " 'nj_61_LCA_LAO.png',\n",
       " 'nj_61_LCA_RAO.png',\n",
       " 'nj_61_RCA_LAO.png',\n",
       " 'nj_62_LCA_LAO.png',\n",
       " 'nj_62_RCA_LAO.png',\n",
       " 'nj_63_LCA_LAO.png',\n",
       " 'nj_63_LCA_RAO.png',\n",
       " 'nj_63_RCA_LAO.png',\n",
       " 'nj_64_LCA_RAO.png',\n",
       " 'nj_65_LCA_LAO.png',\n",
       " 'nj_65_LCA_RAO.png',\n",
       " 'nj_65_RCA_LAO.png',\n",
       " 'nj_66_LCA_LAO.png',\n",
       " 'nj_66_LCA_RAO.png',\n",
       " 'nj_66_RCA_LAO.png',\n",
       " 'nj_67_LCA_LAO.png',\n",
       " 'nj_67_LCA_RAO.png',\n",
       " 'nj_67_RCA_LAO.png',\n",
       " 'nj_68_LCA_LAO.png',\n",
       " 'nj_68_LCA_RAO.png',\n",
       " 'nj_68_RCA_LAO.png',\n",
       " 'nj_68_RCA_RAO.png',\n",
       " 'nj_69_LCA_LAO.png',\n",
       " 'nj_69_LCA_RAO.png',\n",
       " 'nj_69_RCA_LAO.png',\n",
       " 'nj_6_LCA_LAO.png',\n",
       " 'nj_6_LCA_RAO.png',\n",
       " 'nj_6_RCA_RAO.png',\n",
       " 'nj_70_LCA_LAO.png',\n",
       " 'nj_70_LCA_RAO.png',\n",
       " 'nj_70_RCA_LAO.png',\n",
       " 'nj_71_LCA_LAO.png',\n",
       " 'nj_71_LCA_RAO.png',\n",
       " 'nj_71_RCA_LAO.png',\n",
       " 'nj_71_RCA_RAO.png',\n",
       " 'nj_72_LCA_LAO.png',\n",
       " 'nj_72_LCA_RAO.png',\n",
       " 'nj_72_RCA_LAO.png',\n",
       " 'nj_73_LCA_RAO.png',\n",
       " 'nj_73_RCA_LAO.png',\n",
       " 'nj_74_LCA_LAO.png',\n",
       " 'nj_74_LCA_RAO.png',\n",
       " 'nj_74_RCA_LAO.png',\n",
       " 'nj_75_LCA_LAO.png',\n",
       " 'nj_75_LCA_RAO.png',\n",
       " 'nj_75_RCA_LAO.png',\n",
       " 'nj_76_LCA_LAO.png',\n",
       " 'nj_76_LCA_RAO.png',\n",
       " 'nj_76_RCA_LAO.png',\n",
       " 'nj_77_LCA_LAO.png',\n",
       " 'nj_77_LCA_RAO.png',\n",
       " 'nj_77_RCA_LAO.png',\n",
       " 'nj_78_LCA_LAO.png',\n",
       " 'nj_78_LCA_RAO.png',\n",
       " 'nj_78_RCA_LAO.png',\n",
       " 'nj_79_LCA_LAO.png',\n",
       " 'nj_79_LCA_RAO.png',\n",
       " 'nj_79_RCA_LAO.png',\n",
       " 'nj_7_LCA_LAO.png',\n",
       " 'nj_7_LCA_RAO.png',\n",
       " 'nj_7_RCA_LAO.png',\n",
       " 'nj_80_LCA_LAO.png',\n",
       " 'nj_80_LCA_RAO.png',\n",
       " 'nj_80_RCA_LAO.png',\n",
       " 'nj_80_RCA_RAO.png',\n",
       " 'nj_81_LCA_LAO.png',\n",
       " 'nj_81_LCA_RAO.png',\n",
       " 'nj_81_RCA_LAO.png',\n",
       " 'nj_82_LCA_LAO.png',\n",
       " 'nj_82_LCA_RAO.png',\n",
       " 'nj_82_RCA_LAO.png',\n",
       " 'nj_82_RCA_RAO.png',\n",
       " 'nj_83_LCA_LAO.png',\n",
       " 'nj_83_LCA_RAO.png',\n",
       " 'nj_83_RCA_LAO.png',\n",
       " 'nj_84_LCA_LAO.png',\n",
       " 'nj_84_LCA_RAO.png',\n",
       " 'nj_84_RCA_LAO.png',\n",
       " 'nj_85_LCA_LAO.png',\n",
       " 'nj_85_LCA_RAO.png',\n",
       " 'nj_85_RCA_LAO.png',\n",
       " 'nj_85_RCA_RAO.png',\n",
       " 'nj_86_LCA_LAO.png',\n",
       " 'nj_86_LCA_RAO.png',\n",
       " 'nj_86_RCA_LAO.png',\n",
       " 'nj_87_LCA_LAO.png',\n",
       " 'nj_87_LCA_RAO.png',\n",
       " 'nj_87_RCA_LAO.png',\n",
       " 'nj_88_LCA_LAO.png',\n",
       " 'nj_88_LCA_RAO.png',\n",
       " 'nj_88_RCA_LAO.png',\n",
       " 'nj_89_LCA_LAO.png',\n",
       " 'nj_89_LCA_RAO.png',\n",
       " 'nj_89_RCA_LAO.png',\n",
       " 'nj_8_LCA_RAO1.png',\n",
       " 'nj_8_LCA_RAO2.png',\n",
       " 'nj_8_RCA_LAO.png',\n",
       " 'nj_8_RCA_LAO1.png',\n",
       " 'nj_90_LCA_LAO.png',\n",
       " 'nj_90_LCA_RAO.png',\n",
       " 'nj_90_RCA_LAO.png',\n",
       " 'nj_91_LCA_LAO.png',\n",
       " 'nj_91_LCA_RAO.png',\n",
       " 'nj_91_RCA_LAO.png',\n",
       " 'nj_92_LCA_LAO.png',\n",
       " 'nj_92_LCA_RAO.png',\n",
       " 'nj_92_RCA_LAO.png',\n",
       " 'nj_93_LCA_RAO.png',\n",
       " 'nj_93_RCA_LAO.png',\n",
       " 'nj_94_LCA_LAO.png',\n",
       " 'nj_94_LCA_RAO.png',\n",
       " 'nj_94_RCA_LAO.png',\n",
       " 'nj_95_LCA_LAO.png',\n",
       " 'nj_95_LCA_RAO.png',\n",
       " 'nj_95_RCA_LAO.png',\n",
       " 'nj_95_RCA_RAO.png',\n",
       " 'nj_96_LCA_LAO.png',\n",
       " 'nj_96_LCA_RAO.png',\n",
       " 'nj_96_RCA_LAO.png',\n",
       " 'nj_97_LCA_LAO.png',\n",
       " 'nj_97_LCA_RAO.png',\n",
       " 'nj_97_RCA_LAO.png',\n",
       " 'nj_98_LCA_RAO.png',\n",
       " 'nj_98_RCA_LAO.png',\n",
       " 'nj_99_LCA_LAO.png',\n",
       " 'nj_99_LCA_RAO.png',\n",
       " 'nj_99_RCA_LAO.png',\n",
       " 'nj_99_RCA_RAO.png',\n",
       " 'nj_9_LCA_RAO1.png',\n",
       " 'nj_9_LCA_RAO2.png',\n",
       " 'nj_9_RCA_LAO.png',\n",
       " 'nj_9_RCA_LAO1.png']"
      ]
     },
     "execution_count": 16,
     "metadata": {},
     "output_type": "execute_result"
    }
   ],
   "source": [
    "files"
   ]
  },
  {
   "cell_type": "code",
   "execution_count": 18,
   "id": "a1078da7-7c3c-4dd9-88df-68fc868d1e01",
   "metadata": {},
   "outputs": [],
   "source": [
    "images_list = []"
   ]
  },
  {
   "cell_type": "code",
   "execution_count": 20,
   "id": "31c91ba8-d0b2-4867-a849-80e0e3e605d9",
   "metadata": {},
   "outputs": [],
   "source": [
    "for i in files:\n",
    "    images_list.append(ski.io.imread(data_dir+'/class1/'+i))"
   ]
  },
  {
   "cell_type": "code",
   "execution_count": 41,
   "id": "114d016e-01d8-48c8-b083-a98e85b574fc",
   "metadata": {},
   "outputs": [
    {
     "data": {
      "text/plain": [
       "array([[0, 0, 0],\n",
       "       [0, 0, 0],\n",
       "       [0, 0, 0],\n",
       "       ...,\n",
       "       [0, 0, 0],\n",
       "       [0, 0, 0],\n",
       "       [0, 0, 0]], dtype=uint8)"
      ]
     },
     "execution_count": 41,
     "metadata": {},
     "output_type": "execute_result"
    }
   ],
   "source": [
    "images_list[0][0]"
   ]
  },
  {
   "cell_type": "code",
   "execution_count": 25,
   "id": "d775e895-d805-4e1e-8c63-9495353c029a",
   "metadata": {},
   "outputs": [],
   "source": [
    "skeleton = skeletonize(images_list[0])"
   ]
  },
  {
   "cell_type": "code",
   "execution_count": 27,
   "id": "387a3948-fd3a-49a8-8033-7bc59aca17b2",
   "metadata": {},
   "outputs": [
    {
     "data": {
      "text/plain": [
       "array([[[False, False, False],\n",
       "        [False, False, False],\n",
       "        [False, False, False],\n",
       "        ...,\n",
       "        [False, False, False],\n",
       "        [False, False, False],\n",
       "        [False, False, False]],\n",
       "\n",
       "       [[False, False, False],\n",
       "        [False, False, False],\n",
       "        [False, False, False],\n",
       "        ...,\n",
       "        [False, False, False],\n",
       "        [False, False, False],\n",
       "        [False, False, False]],\n",
       "\n",
       "       [[False, False, False],\n",
       "        [False, False, False],\n",
       "        [False, False, False],\n",
       "        ...,\n",
       "        [False, False, False],\n",
       "        [False, False, False],\n",
       "        [False, False, False]],\n",
       "\n",
       "       ...,\n",
       "\n",
       "       [[False, False, False],\n",
       "        [False, False, False],\n",
       "        [False, False, False],\n",
       "        ...,\n",
       "        [False, False, False],\n",
       "        [False, False, False],\n",
       "        [False, False, False]],\n",
       "\n",
       "       [[False, False, False],\n",
       "        [False, False, False],\n",
       "        [False, False, False],\n",
       "        ...,\n",
       "        [False, False, False],\n",
       "        [False, False, False],\n",
       "        [False, False, False]],\n",
       "\n",
       "       [[False, False, False],\n",
       "        [False, False, False],\n",
       "        [False, False, False],\n",
       "        ...,\n",
       "        [False, False, False],\n",
       "        [False, False, False],\n",
       "        [False, False, False]]])"
      ]
     },
     "execution_count": 27,
     "metadata": {},
     "output_type": "execute_result"
    }
   ],
   "source": [
    "skeleton"
   ]
  },
  {
   "cell_type": "code",
   "execution_count": 32,
   "id": "ddb92e78-e803-424e-b5ec-4ac28cf381d4",
   "metadata": {},
   "outputs": [],
   "source": [
    "gray_image = ski.color.rgb2gray(images_list[0])"
   ]
  },
  {
   "cell_type": "code",
   "execution_count": 37,
   "id": "aa5e1d2c-add0-4d5b-b8e0-c7945ea54b07",
   "metadata": {},
   "outputs": [
    {
     "data": {
      "text/plain": [
       "array([[0., 0., 0., ..., 0., 0., 0.],\n",
       "       [0., 0., 0., ..., 0., 0., 0.],\n",
       "       [0., 0., 0., ..., 0., 0., 0.],\n",
       "       ...,\n",
       "       [0., 0., 0., ..., 0., 0., 0.],\n",
       "       [0., 0., 0., ..., 0., 0., 0.],\n",
       "       [0., 0., 0., ..., 0., 0., 0.]])"
      ]
     },
     "execution_count": 37,
     "metadata": {},
     "output_type": "execute_result"
    }
   ],
   "source": [
    "gray_image"
   ]
  },
  {
   "cell_type": "code",
   "execution_count": 36,
   "id": "ea68ea58-d7d7-4c32-8bed-9925be790ac6",
   "metadata": {},
   "outputs": [],
   "source": [
    "thresh = threshold_otsu(gray_image)\n",
    "binary_image = gray_image > thresh\n",
    "binary_image = binary_image.astype(np.float32)"
   ]
  },
  {
   "cell_type": "code",
   "execution_count": 38,
   "id": "ed966104-e20f-4153-8f85-e3a83573349a",
   "metadata": {},
   "outputs": [
    {
     "data": {
      "text/plain": [
       "array([[0., 0., 0., ..., 0., 0., 0.],\n",
       "       [0., 0., 0., ..., 0., 0., 0.],\n",
       "       [0., 0., 0., ..., 0., 0., 0.],\n",
       "       ...,\n",
       "       [0., 0., 0., ..., 0., 0., 0.],\n",
       "       [0., 0., 0., ..., 0., 0., 0.],\n",
       "       [0., 0., 0., ..., 0., 0., 0.]], dtype=float32)"
      ]
     },
     "execution_count": 38,
     "metadata": {},
     "output_type": "execute_result"
    }
   ],
   "source": [
    "binary_image"
   ]
  },
  {
   "cell_type": "code",
   "execution_count": 34,
   "id": "3d058c0a-85f5-43e8-8a89-d3962bbc3d67",
   "metadata": {},
   "outputs": [],
   "source": [
    "skeleton = skeletonize(binary_image)"
   ]
  },
  {
   "cell_type": "code",
   "execution_count": 35,
   "id": "056f27c0-5cf3-497b-bc62-86b259fb5185",
   "metadata": {},
   "outputs": [
    {
     "data": {
      "image/png": "[encoded data removed]",
      "text/plain": [
       "<Figure size 800x400 with 2 Axes>"
      ]
     },
     "metadata": {},
     "output_type": "display_data"
    }
   ],
   "source": [
    "fig, axes = plt.subplots(nrows=1, ncols=2, figsize=(8, 4), sharex=True, sharey=True)\n",
    "\n",
    "ax = axes.ravel()\n",
    "\n",
    "ax[0].imshow(images_list[0], cmap=plt.cm.gray)\n",
    "ax[0].axis('off')\n",
    "ax[0].set_title('original', fontsize=20)\n",
    "\n",
    "ax[1].imshow(skeleton, cmap=plt.cm.gray)\n",
    "ax[1].axis('off')\n",
    "ax[1].set_title('original', fontsize=20)\n",
    "\n",
    "fig.tight_layout()\n",
    "plt.show()"
   ]
  },
  {
   "cell_type": "markdown",
   "id": "2085b86a-b453-48f9-82bb-63e5c4ac978c",
   "metadata": {},
   "source": [
    "## Model Architecture"
   ]
  },
  {
   "cell_type": "code",
   "execution_count": null,
   "id": "84f49830-00ad-468b-a16c-2c77d79effe4",
   "metadata": {},
   "outputs": [],
   "source": [
    "class Unet(nn.Module():\n",
    "    def __init__(self):\n",
    "        super().__init__()\n",
    "        self.down = nn.Secuential([\n",
    "            \n",
    "        ])"
   ]
  },
  {
   "cell_type": "markdown",
   "id": "bd2a7315-d8dd-48dc-b6f7-960222dafd38",
   "metadata": {},
   "source": [
    "## Loss Function"
   ]
  },
  {
   "cell_type": "code",
   "execution_count": 63,
   "id": "1560d608-8dcb-4041-a82f-0b5d73d94dee",
   "metadata": {},
   "outputs": [],
   "source": [
    "def ce(y, y_i):\n",
    "    ep = 1e-8\n",
    "    part1 = y_i * np.log(y+ep)\n",
    "    part2 = (1 - y_i)*np.log(1-y+ep)\n",
    "    return np.mean(-(part1+part2))"
   ]
  },
  {
   "cell_type": "code",
   "execution_count": 64,
   "id": "4eec7f3c-b687-4ed7-b189-306575c0ae7a",
   "metadata": {},
   "outputs": [],
   "source": [
    "y = np.linspace(0,1, 10)\n",
    "y_i = np.zeros(10)\n",
    "y_i2 = np.ones(10)\n",
    "\n",
    "r1 = ce(y, y_i)\n",
    "r2 = ce(y, y_i2)"
   ]
  },
  {
   "cell_type": "code",
   "execution_count": 68,
   "id": "bfe45e26-b2a5-4751-99bc-65f582327329",
   "metadata": {},
   "outputs": [],
   "source": [
    "x = np.linspace(0,1,9).reshape(3,3)"
   ]
  },
  {
   "cell_type": "code",
   "execution_count": 69,
   "id": "60417f74-fcf3-405b-a754-465b93a44362",
   "metadata": {},
   "outputs": [
    {
     "data": {
      "text/plain": [
       "array([[0.   , 0.125, 0.25 ],\n",
       "       [0.375, 0.5  , 0.625],\n",
       "       [0.75 , 0.875, 1.   ]])"
      ]
     },
     "execution_count": 69,
     "metadata": {},
     "output_type": "execute_result"
    }
   ],
   "source": [
    "x"
   ]
  },
  {
   "cell_type": "code",
   "execution_count": 72,
   "id": "e44779f9-76b0-42d9-a443-8a9734dfbb02",
   "metadata": {},
   "outputs": [],
   "source": [
    "y_1 = np.ones(9).reshape(3,3)"
   ]
  },
  {
   "cell_type": "code",
   "execution_count": 73,
   "id": "a2e38f1f-9f97-4290-ac23-9fdb25ba0d78",
   "metadata": {},
   "outputs": [],
   "source": [
    "y_0 = np.zeros(9).reshape(3,3)"
   ]
  },
  {
   "cell_type": "code",
   "execution_count": 74,
   "id": "912f4c12-4952-42ba-83c5-9a42dce15b57",
   "metadata": {},
   "outputs": [
    {
     "data": {
      "text/plain": [
       "2.7168455508019154"
      ]
     },
     "execution_count": 74,
     "metadata": {},
     "output_type": "execute_result"
    }
   ],
   "source": [
    "ce(x, y_1)"
   ]
  },
  {
   "cell_type": "code",
   "execution_count": 65,
   "id": "428af3df-a74a-4bb5-8ac5-7e47ea82b34d",
   "metadata": {},
   "outputs": [
    {
     "data": {
      "text/plain": [
       "2.5393874205289735"
      ]
     },
     "execution_count": 65,
     "metadata": {},
     "output_type": "execute_result"
    }
   ],
   "source": [
    "r1"
   ]
  },
  {
   "cell_type": "code",
   "execution_count": 66,
   "id": "f5c32105-3dbc-4d4c-bf30-59a841c14554",
   "metadata": {},
   "outputs": [
    {
     "data": {
      "text/plain": [
       "2.539387420528974"
      ]
     },
     "execution_count": 66,
     "metadata": {},
     "output_type": "execute_result"
    }
   ],
   "source": [
    "r2"
   ]
  },
  {
   "cell_type": "code",
   "execution_count": 52,
   "id": "881ffd63-5951-490b-ba5a-6e2b1fba4356",
   "metadata": {},
   "outputs": [
    {
     "data": {
      "text/plain": [
       "array([       nan, 0.11778304, 0.25131443, 0.40546511, 0.58778666,\n",
       "       0.81093022, 1.09861229, 1.5040774 , 2.19722458,        inf])"
      ]
     },
     "execution_count": 52,
     "metadata": {},
     "output_type": "execute_result"
    }
   ],
   "source": [
    "r1"
   ]
  },
  {
   "cell_type": "code",
   "execution_count": 53,
   "id": "9eeb1fa3-b403-4cb8-9047-1391203eed83",
   "metadata": {},
   "outputs": [
    {
     "data": {
      "text/plain": [
       "array([       inf, 2.19722458, 1.5040774 , 1.09861229, 0.81093022,\n",
       "       0.58778666, 0.40546511, 0.25131443, 0.11778304,        nan])"
      ]
     },
     "execution_count": 53,
     "metadata": {},
     "output_type": "execute_result"
    }
   ],
   "source": [
    "r2"
   ]
  },
  {
   "cell_type": "code",
   "execution_count": 54,
   "id": "72a15132-80d8-4553-87b4-043c11a643fe",
   "metadata": {},
   "outputs": [
    {
     "data": {
      "text/plain": [
       "[<matplotlib.lines.Line2D at 0x204ddb9e890>]"
      ]
     },
     "execution_count": 54,
     "metadata": {},
     "output_type": "execute_result"
    },
    {
     "data": {
      "image/png": "[encoded data removed]",
      "text/plain": [
       "<Figure size 640x480 with 1 Axes>"
      ]
     },
     "metadata": {},
     "output_type": "display_data"
    }
   ],
   "source": [
    "plt.plot(y, r1)"
   ]
  },
  {
   "cell_type": "code",
   "execution_count": 55,
   "id": "fa36276e-61c9-4f93-9a1f-b5bc93e0b8b4",
   "metadata": {},
   "outputs": [
    {
     "data": {
      "text/plain": [
       "[<matplotlib.lines.Line2D at 0x204ddeb9890>]"
      ]
     },
     "execution_count": 55,
     "metadata": {},
     "output_type": "execute_result"
    },
    {
     "data": {
      "image/png": "[encoded data removed]",
      "text/plain": [
       "<Figure size 640x480 with 1 Axes>"
      ]
     },
     "metadata": {},
     "output_type": "display_data"
    }
   ],
   "source": [
    "plt.plot(y, r2)"
   ]
  }
 ],
 "metadata": {
  "kernelspec": {
   "display_name": "Python 3 (ipykernel)",
   "language": "python",
   "name": "python3"
  }
 },
 "nbformat": 4,
 "nbformat_minor": 5
}
