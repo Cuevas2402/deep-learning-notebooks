{
 "cells": [
  {
   "cell_type": "markdown",
   "id": "06280bad-5767-4265-b02d-e55f5d92994c",
   "metadata": {},
   "source": [
    "# Imports"
   ]
  },
  {
   "cell_type": "code",
   "execution_count": 2,
   "id": "49752ff2-4b92-4266-9cad-c7f9a00a1b1d",
   "metadata": {},
   "outputs": [],
   "source": [
    "import torch.nn as nn\n",
    "import torchvision.transforms.functional as TF"
   ]
  },
  {
   "cell_type": "code",
   "execution_count": 3,
   "id": "60816244-2006-4057-8eb5-b002b67da70c",
   "metadata": {},
   "outputs": [],
   "source": [
    "import torch\n",
    "from torchvision import datasets, transforms\n",
    "from torch.utils.data import DataLoader"
   ]
  },
  {
   "cell_type": "code",
   "execution_count": 4,
   "id": "c79a485c-5ea0-40ac-bb3a-40edcd686bd5",
   "metadata": {},
   "outputs": [],
   "source": [
    "from torchvision.io import read_image\n",
    "from torch.utils.data import Dataset\n",
    "from torchvision.transforms import ToTensor"
   ]
  },
  {
   "cell_type": "code",
   "execution_count": 5,
   "id": "c15612af-db1e-427f-bee5-a3c26fcead50",
   "metadata": {},
   "outputs": [],
   "source": [
    "import numpy as np\n",
    "import pandas as pd\n",
    "import matplotlib.pyplot as plt\n",
    "%matplotlib inline"
   ]
  },
  {
   "cell_type": "code",
   "execution_count": 6,
   "id": "06c1dae5-f663-4609-851b-9a76444e9094",
   "metadata": {},
   "outputs": [],
   "source": [
    "from skimage.morphology import skeletonize\n",
    "import matplotlib.pyplot as plt\n",
    "from skimage.util import invert\n",
    "import skimage as ski\n",
    "from skimage.filters import threshold_otsu"
   ]
  },
  {
   "cell_type": "code",
   "execution_count": 7,
   "id": "545a0eb4-2872-44c2-94fa-4602dfb0d61f",
   "metadata": {},
   "outputs": [],
   "source": [
    "import albumentations as A\n",
    "from albumentations.pytorch import ToTensorV2"
   ]
  },
  {
   "cell_type": "code",
   "execution_count": 8,
   "id": "b25b94ab-6dd3-4383-9704-043fe609e653",
   "metadata": {},
   "outputs": [],
   "source": [
    "from sklearn.metrics import f1_score, recall_score, accuracy_score, precision_score"
   ]
  },
  {
   "cell_type": "code",
   "execution_count": 9,
   "id": "b37ddcdf-57b2-4b38-aef1-1be9bdb5d50e",
   "metadata": {},
   "outputs": [],
   "source": [
    "from sklearn.model_selection import train_test_split"
   ]
  },
  {
   "cell_type": "code",
   "execution_count": 10,
   "id": "0454d5b8-9a16-4e73-a7c6-a79be005a0df",
   "metadata": {},
   "outputs": [],
   "source": [
    "from PIL import Image"
   ]
  },
  {
   "cell_type": "code",
   "execution_count": 11,
   "id": "bf4a1495-e0fa-464e-9ac4-34922af614cd",
   "metadata": {},
   "outputs": [],
   "source": [
    "import os"
   ]
  },
  {
   "cell_type": "code",
   "execution_count": 56,
   "id": "8493519c-d73a-40ba-9525-0ac2d1927867",
   "metadata": {},
   "outputs": [],
   "source": [
    "from torchsummary import summary"
   ]
  },
  {
   "cell_type": "markdown",
   "id": "78764963-2f76-4adf-b764-6d6a254659ff",
   "metadata": {},
   "source": [
    "# Model Architecture"
   ]
  },
  {
   "cell_type": "code",
   "execution_count": 12,
   "id": "270d64df-fedf-4b77-bf39-2cb425a08844",
   "metadata": {},
   "outputs": [],
   "source": [
    "class DoubleConv(nn.Module):\n",
    "    def __init__ (self, in_channels, out_channels):\n",
    "        super().__init__()\n",
    "        self.conv = nn.Sequential(\n",
    "            nn.Conv2d(in_channels, out_channels, 3, 1, 1, bias=False),\n",
    "            nn.BatchNorm2d(out_channels),\n",
    "            nn.ReLU(inplace=True),\n",
    "            nn.Conv2d(out_channels, out_channels, 3, 1, 1, bias=False),\n",
    "            nn.BatchNorm2d(out_channels),\n",
    "            nn.ReLU(inplace=True)\n",
    "        )\n",
    "\n",
    "    def forward(self, x):\n",
    "        return self.conv(x)\n",
    "        "
   ]
  },
  {
   "cell_type": "code",
   "execution_count": 70,
   "id": "84f49830-00ad-468b-a16c-2c77d79effe4",
   "metadata": {},
   "outputs": [],
   "source": [
    "class Unet(nn.Module):\n",
    "    def __init__(self, in_channels = 3, out_channels = 2, features = [64, 128, 256, 512]):\n",
    "        super().__init__()\n",
    "        self.downs = nn.ModuleList()\n",
    "        self.ups = nn.ModuleList()\n",
    "        self.pool = nn.MaxPool2d(kernel_size = 2, stride = 2)\n",
    "\n",
    "        for feature in features:\n",
    "            self.downs.append(DoubleConv(in_channels, feature))\n",
    "            in_channels = feature\n",
    "\n",
    "        for feature in reversed(features):\n",
    "            self.ups.append(nn.ConvTranspose2d(feature*2, feature, kernel_size=2, stride = 2))\n",
    "            self.ups.append(DoubleConv(feature*2, feature))\n",
    "            \n",
    "        \n",
    "        self.bottom = DoubleConv(features[-1], features[-1]*2)\n",
    "        self.last = nn.Conv2d(features[0], out_channels, 1)\n",
    "\n",
    "    def forward(self, x):\n",
    "        sc = []\n",
    "\n",
    "        for down in self.downs:\n",
    "            x = down(x)\n",
    "            sc.append(x)\n",
    "            x = self.pool(x)\n",
    "\n",
    "        x = self.bottom(x)\n",
    "        sc = sc[::-1]\n",
    "\n",
    "        for idx in range(0, len(self.ups), 2):\n",
    "            x = self.ups[idx](x)\n",
    "            skip_connection = sc[idx // 2]\n",
    "\n",
    "            if x.shape != skip_connection.shape:\n",
    "                x = TF.resize(x, size=skip_connection.shape[2:])\n",
    "\n",
    "            concat_skip = torch.cat((skip_connection, x), dim=1)\n",
    "            x = self.ups[idx + 1](concat_skip)\n",
    "\n",
    "        return self.last(x)\n",
    "            \n",
    "        "
   ]
  },
  {
   "cell_type": "markdown",
   "id": "07b144c1-d85f-415d-91b4-2f98964bc523",
   "metadata": {},
   "source": [
    "### Model test"
   ]
  },
  {
   "cell_type": "code",
   "execution_count": 49,
   "id": "c5dafe20-6880-4a88-9f6b-be5806cf4325",
   "metadata": {},
   "outputs": [
    {
     "name": "stdout",
     "output_type": "stream",
     "text": [
      "torch.Size([3, 1, 512, 512])\n",
      "torch.Size([3, 1, 512, 512])\n"
     ]
    }
   ],
   "source": [
    "x = torch.rand((3,1,512,512))\n",
    "model = Unet(in_channels=1, out_channels=1)\n",
    "preds = model(x)\n",
    "print(preds.shape)\n",
    "print(x.shape)"
   ]
  },
  {
   "cell_type": "code",
   "execution_count": 30,
   "id": "ed239bae-45aa-42f5-a81c-442030dd4e34",
   "metadata": {},
   "outputs": [
    {
     "data": {
      "image/png": "[encoded data removed]",
      "text/plain": [
       "<Figure size 640x480 with 2 Axes>"
      ]
     },
     "metadata": {},
     "output_type": "display_data"
    }
   ],
   "source": [
    "plt.subplot(1, 2, 1)\n",
    "plt.title('Imagen')\n",
    "plt.imshow(img1.squeeze().permute(1, 2, 0))\n",
    "plt.axis('off')\n",
    "\n",
    "plt.subplot(1, 2, 2)\n",
    "plt.title('Etiqueta')\n",
    "plt.imshow(label1.squeeze() , cmap=\"gray\")  \n",
    "plt.axis('off')\n",
    "\n",
    "plt.show()"
   ]
  },
  {
   "cell_type": "code",
   "execution_count": 15,
   "id": "eec23d83-892f-4fac-9a30-b5143ced1426",
   "metadata": {},
   "outputs": [],
   "source": [
    "X_train, X_test, y_train, y_test = train_test_split(X, y, test_size=0.1)"
   ]
  },
  {
   "cell_type": "code",
   "execution_count": 16,
   "id": "0a56e2be-b5b2-4595-997c-5cd9b98a8d81",
   "metadata": {},
   "outputs": [],
   "source": [
    "X_train, X_val, y_train, y_val = train_test_split(X_train, y_train, test_size=len(X_test))"
   ]
  },
  {
   "cell_type": "code",
   "execution_count": 17,
   "id": "6aa6657e-5543-4638-8c8e-8493685f125b",
   "metadata": {},
   "outputs": [
    {
     "name": "stdout",
     "output_type": "stream",
     "text": [
      "492 62 62\n"
     ]
    }
   ],
   "source": [
    "print(f\"{len(X_train)} {len(X_test)} {len(X_val)}\")"
   ]
  },
  {
   "cell_type": "markdown",
   "id": "3ee7cf49-947b-46ef-b819-8f41509a2d6e",
   "metadata": {},
   "source": [
    "# Data processing"
   ]
  },
  {
   "cell_type": "code",
   "execution_count": 14,
   "id": "15f51d51-f654-4bef-be6e-7f68e633f5e8",
   "metadata": {},
   "outputs": [],
   "source": [
    "data_dir = './db'\n",
    "# os.makedirs(os.path.join(data_dir, 'class1'), exist_ok=True)"
   ]
  },
  {
   "cell_type": "markdown",
   "id": "829c0c24-d43b-4bd7-9137-f572152bc5fc",
   "metadata": {},
   "source": [
    "## Skeletonization test"
   ]
  },
  {
   "cell_type": "code",
   "execution_count": 12,
   "id": "f5eaa379-dc9b-4ea0-acbf-307c4ca44fcc",
   "metadata": {},
   "outputs": [],
   "source": [
    "files = os.listdir(data_dir+'/unet_1/img')"
   ]
  },
  {
   "cell_type": "code",
   "execution_count": 24,
   "id": "9a9cf0f0-58be-48e8-8192-37f120f99a47",
   "metadata": {},
   "outputs": [
    {
     "data": {
      "text/plain": [
       "'nj_124_2_LCA_RAO.png'"
      ]
     },
     "execution_count": 24,
     "metadata": {},
     "output_type": "execute_result"
    }
   ],
   "source": [
    "files[0]"
   ]
  },
  {
   "cell_type": "code",
   "execution_count": 10,
   "id": "0f47c9bd-67c1-4195-9d14-940bf8788ab8",
   "metadata": {},
   "outputs": [],
   "source": [
    "def readImages(dir):\n",
    "    img_file = os.listdir(data_dir+'/unet_1/img')\n",
    "    label_file = os.listdir(data_dir+'/unet_1/label')\n",
    "    list = [ [], [] ]\n",
    "    for img, label in zip(img_file, label_file):\n",
    "        list[0].append(ski.io.imread(dir+'/unet_1/img/'+img))\n",
    "        list[1].append(ski.io.imread(dir+'/unet_1/label/'+label))\n",
    "    return list[0], list[1]"
   ]
  },
  {
   "cell_type": "code",
   "execution_count": 11,
   "id": "db062f0c-87bb-41ee-ab12-d3a07f0f8085",
   "metadata": {},
   "outputs": [],
   "source": [
    "img, label = readImages(data_dir)"
   ]
  },
  {
   "cell_type": "code",
   "execution_count": 12,
   "id": "ddb92e78-e803-424e-b5ec-4ac28cf381d4",
   "metadata": {},
   "outputs": [],
   "source": [
    "gray_image = ski.color.rgb2gray(label[0])"
   ]
  },
  {
   "cell_type": "code",
   "execution_count": 13,
   "id": "aa5e1d2c-add0-4d5b-b8e0-c7945ea54b07",
   "metadata": {},
   "outputs": [
    {
     "data": {
      "text/plain": [
       "array([[0., 0., 0., ..., 0., 0., 0.],\n",
       "       [0., 0., 0., ..., 0., 0., 0.],\n",
       "       [0., 0., 0., ..., 0., 0., 0.],\n",
       "       ...,\n",
       "       [0., 0., 0., ..., 0., 0., 0.],\n",
       "       [0., 0., 0., ..., 0., 0., 0.],\n",
       "       [0., 0., 0., ..., 0., 0., 0.]])"
      ]
     },
     "execution_count": 13,
     "metadata": {},
     "output_type": "execute_result"
    }
   ],
   "source": [
    "gray_image"
   ]
  },
  {
   "cell_type": "code",
   "execution_count": 14,
   "id": "ef96a6c7-30a4-4249-813e-06e0ff3fcc07",
   "metadata": {},
   "outputs": [
    {
     "data": {
      "text/plain": [
       "(512, 512)"
      ]
     },
     "execution_count": 14,
     "metadata": {},
     "output_type": "execute_result"
    }
   ],
   "source": [
    "gray_image.shape"
   ]
  },
  {
   "cell_type": "code",
   "execution_count": 15,
   "id": "3d058c0a-85f5-43e8-8a89-d3962bbc3d67",
   "metadata": {},
   "outputs": [],
   "source": [
    "skeleton = skeletonize(gray_image)"
   ]
  },
  {
   "cell_type": "code",
   "execution_count": 16,
   "id": "0189e188-241c-431d-98ed-9eb58ff2a31a",
   "metadata": {},
   "outputs": [
    {
     "data": {
      "image/png": "[encoded data removed]",
      "text/plain": [
       "<Figure size 800x400 with 2 Axes>"
      ]
     },
     "metadata": {},
     "output_type": "display_data"
    }
   ],
   "source": [
    "fig, axes = plt.subplots(nrows=1, ncols=2, figsize=(8, 4), sharex=True, sharey=True)\n",
    "\n",
    "ax = axes.ravel()\n",
    "\n",
    "ax[0].imshow(label[0], cmap=plt.cm.gray)\n",
    "ax[0].axis('off')\n",
    "ax[0].set_title('original', fontsize=20)\n",
    "\n",
    "ax[1].imshow(skeleton, cmap=plt.cm.gray)\n",
    "ax[1].axis('off')\n",
    "ax[1].set_title('original', fontsize=20)\n",
    "\n",
    "fig.tight_layout()\n",
    "plt.show()"
   ]
  },
  {
   "cell_type": "markdown",
   "id": "7a12c32b-51d9-4be8-9168-01d67c0f3ba9",
   "metadata": {},
   "source": [
    "## Label skeletonization"
   ]
  },
  {
   "cell_type": "code",
   "execution_count": 33,
   "id": "137f4501-932c-464d-b803-147a624e47a6",
   "metadata": {},
   "outputs": [],
   "source": [
    "input_dir = os.path.join(data_dir, 'unet_1', 'label')\n",
    "output_dir = os.path.join(data_dir, 'unet_1', 'label_skeleton')"
   ]
  },
  {
   "cell_type": "code",
   "execution_count": 18,
   "id": "59137aa1-8c25-4f53-8c8a-dd8793f5d6d3",
   "metadata": {},
   "outputs": [],
   "source": [
    "labels = os.listdir(input_dir)"
   ]
  },
  {
   "cell_type": "code",
   "execution_count": 28,
   "id": "80d332f6-bfef-4763-b58b-e61b3f9b6e81",
   "metadata": {},
   "outputs": [],
   "source": [
    "os.makedirs(output_dir, exist_ok=True)"
   ]
  },
  {
   "cell_type": "code",
   "execution_count": 30,
   "id": "96121356-90be-4a52-a567-d4c44766e0c6",
   "metadata": {},
   "outputs": [
    {
     "name": "stderr",
     "output_type": "stream",
     "text": [
      "/var/folders/j2/4gt7_tx57772t1zrdf4g5gm40000gn/T/ipykernel_24057/3240581223.py:13: UserWarning: ./db/unet_1/label_skeleton/nj_20_LCA_LAO.png is a low contrast image\n",
      "  ski.io.imsave(output_image_path, image)\n",
      "/var/folders/j2/4gt7_tx57772t1zrdf4g5gm40000gn/T/ipykernel_24057/3240581223.py:13: UserWarning: ./db/unet_1/label_skeleton/nj_71_RCA_RAO.png is a low contrast image\n",
      "  ski.io.imsave(output_image_path, image)\n",
      "/var/folders/j2/4gt7_tx57772t1zrdf4g5gm40000gn/T/ipykernel_24057/3240581223.py:13: UserWarning: ./db/unet_1/label_skeleton/nj_25_RCA_LAO.png is a low contrast image\n",
      "  ski.io.imsave(output_image_path, image)\n",
      "/var/folders/j2/4gt7_tx57772t1zrdf4g5gm40000gn/T/ipykernel_24057/3240581223.py:13: UserWarning: ./db/unet_1/label_skeleton/nj_1_RCA_LAO.png is a low contrast image\n",
      "  ski.io.imsave(output_image_path, image)\n",
      "/var/folders/j2/4gt7_tx57772t1zrdf4g5gm40000gn/T/ipykernel_24057/3240581223.py:13: UserWarning: ./db/unet_1/label_skeleton/nj_55_RCA_LAO.png is a low contrast image\n",
      "  ski.io.imsave(output_image_path, image)\n",
      "/var/folders/j2/4gt7_tx57772t1zrdf4g5gm40000gn/T/ipykernel_24057/3240581223.py:13: UserWarning: ./db/unet_1/label_skeleton/nj_18_LCA_RAO.png is a low contrast image\n",
      "  ski.io.imsave(output_image_path, image)\n",
      "/var/folders/j2/4gt7_tx57772t1zrdf4g5gm40000gn/T/ipykernel_24057/3240581223.py:13: UserWarning: ./db/unet_1/label_skeleton/nj_21_LCA_RAO1.png is a low contrast image\n",
      "  ski.io.imsave(output_image_path, image)\n",
      "/var/folders/j2/4gt7_tx57772t1zrdf4g5gm40000gn/T/ipykernel_24057/3240581223.py:13: UserWarning: ./db/unet_1/label_skeleton/nj_67_RCA_LAO.png is a low contrast image\n",
      "  ski.io.imsave(output_image_path, image)\n",
      "/var/folders/j2/4gt7_tx57772t1zrdf4g5gm40000gn/T/ipykernel_24057/3240581223.py:13: UserWarning: ./db/unet_1/label_skeleton/nj_17_RCA_LAO.png is a low contrast image\n",
      "  ski.io.imsave(output_image_path, image)\n",
      "/var/folders/j2/4gt7_tx57772t1zrdf4g5gm40000gn/T/ipykernel_24057/3240581223.py:13: UserWarning: ./db/unet_1/label_skeleton/nj_46_LCA_RAO.png is a low contrast image\n",
      "  ski.io.imsave(output_image_path, image)\n",
      "/var/folders/j2/4gt7_tx57772t1zrdf4g5gm40000gn/T/ipykernel_24057/3240581223.py:13: UserWarning: ./db/unet_1/label_skeleton/nj_72_RCA_LAO.png is a low contrast image\n",
      "  ski.io.imsave(output_image_path, image)\n",
      "/var/folders/j2/4gt7_tx57772t1zrdf4g5gm40000gn/T/ipykernel_24057/3240581223.py:13: UserWarning: ./db/unet_1/label_skeleton/nj_85_RCA_RAO.png is a low contrast image\n",
      "  ski.io.imsave(output_image_path, image)\n",
      "/var/folders/j2/4gt7_tx57772t1zrdf4g5gm40000gn/T/ipykernel_24057/3240581223.py:13: UserWarning: ./db/unet_1/label_skeleton/nj_8_RCA_LAO.png is a low contrast image\n",
      "  ski.io.imsave(output_image_path, image)\n",
      "/var/folders/j2/4gt7_tx57772t1zrdf4g5gm40000gn/T/ipykernel_24057/3240581223.py:13: UserWarning: ./db/unet_1/label_skeleton/nj_30_RCA_LAO.png is a low contrast image\n",
      "  ski.io.imsave(output_image_path, image)\n",
      "/var/folders/j2/4gt7_tx57772t1zrdf4g5gm40000gn/T/ipykernel_24057/3240581223.py:13: UserWarning: ./db/unet_1/label_skeleton/nj_21_LCA_RAO2.png is a low contrast image\n",
      "  ski.io.imsave(output_image_path, image)\n",
      "/var/folders/j2/4gt7_tx57772t1zrdf4g5gm40000gn/T/ipykernel_24057/3240581223.py:13: UserWarning: ./db/unet_1/label_skeleton/nj_45_LCA_LAO.png is a low contrast image\n",
      "  ski.io.imsave(output_image_path, image)\n",
      "/var/folders/j2/4gt7_tx57772t1zrdf4g5gm40000gn/T/ipykernel_24057/3240581223.py:13: UserWarning: ./db/unet_1/label_skeleton/nj_23_RCA_RAO.png is a low contrast image\n",
      "  ski.io.imsave(output_image_path, image)\n",
      "/var/folders/j2/4gt7_tx57772t1zrdf4g5gm40000gn/T/ipykernel_24057/3240581223.py:13: UserWarning: ./db/unet_1/label_skeleton/nj_85_LCA_RAO.png is a low contrast image\n",
      "  ski.io.imsave(output_image_path, image)\n",
      "/var/folders/j2/4gt7_tx57772t1zrdf4g5gm40000gn/T/ipykernel_24057/3240581223.py:13: UserWarning: ./db/unet_1/label_skeleton/nj_29_RCA_LAO.png is a low contrast image\n",
      "  ski.io.imsave(output_image_path, image)\n",
      "/var/folders/j2/4gt7_tx57772t1zrdf4g5gm40000gn/T/ipykernel_24057/3240581223.py:13: UserWarning: ./db/unet_1/label_skeleton/nj_59_RCA_LAO.png is a low contrast image\n",
      "  ski.io.imsave(output_image_path, image)\n",
      "/var/folders/j2/4gt7_tx57772t1zrdf4g5gm40000gn/T/ipykernel_24057/3240581223.py:13: UserWarning: ./db/unet_1/label_skeleton/nj_80_RCA_RAO.png is a low contrast image\n",
      "  ski.io.imsave(output_image_path, image)\n",
      "/var/folders/j2/4gt7_tx57772t1zrdf4g5gm40000gn/T/ipykernel_24057/3240581223.py:13: UserWarning: ./db/unet_1/label_skeleton/nj_26_LCA_RAO.png is a low contrast image\n",
      "  ski.io.imsave(output_image_path, image)\n",
      "/var/folders/j2/4gt7_tx57772t1zrdf4g5gm40000gn/T/ipykernel_24057/3240581223.py:13: UserWarning: ./db/unet_1/label_skeleton/nj_30_LCA_LAO.png is a low contrast image\n",
      "  ski.io.imsave(output_image_path, image)\n",
      "/var/folders/j2/4gt7_tx57772t1zrdf4g5gm40000gn/T/ipykernel_24057/3240581223.py:13: UserWarning: ./db/unet_1/label_skeleton/nj_18_LCA_CAU.png is a low contrast image\n",
      "  ski.io.imsave(output_image_path, image)\n",
      "/var/folders/j2/4gt7_tx57772t1zrdf4g5gm40000gn/T/ipykernel_24057/3240581223.py:13: UserWarning: ./db/unet_1/label_skeleton/nj_64_LCA_RAO.png is a low contrast image\n",
      "  ski.io.imsave(output_image_path, image)\n",
      "/var/folders/j2/4gt7_tx57772t1zrdf4g5gm40000gn/T/ipykernel_24057/3240581223.py:13: UserWarning: ./db/unet_1/label_skeleton/nj_35_RCA_LAO.png is a low contrast image\n",
      "  ski.io.imsave(output_image_path, image)\n",
      "/var/folders/j2/4gt7_tx57772t1zrdf4g5gm40000gn/T/ipykernel_24057/3240581223.py:13: UserWarning: ./db/unet_1/label_skeleton/nj_71_LCA_RAO.png is a low contrast image\n",
      "  ski.io.imsave(output_image_path, image)\n",
      "/var/folders/j2/4gt7_tx57772t1zrdf4g5gm40000gn/T/ipykernel_24057/3240581223.py:13: UserWarning: ./db/unet_1/label_skeleton/nj_4_RCA_LAO.png is a low contrast image\n",
      "  ski.io.imsave(output_image_path, image)\n",
      "/var/folders/j2/4gt7_tx57772t1zrdf4g5gm40000gn/T/ipykernel_24057/3240581223.py:13: UserWarning: ./db/unet_1/label_skeleton/nj_20_RCA_LAO.png is a low contrast image\n",
      "  ski.io.imsave(output_image_path, image)\n",
      "/var/folders/j2/4gt7_tx57772t1zrdf4g5gm40000gn/T/ipykernel_24057/3240581223.py:13: UserWarning: ./db/unet_1/label_skeleton/nj_86_LCA_LAO.png is a low contrast image\n",
      "  ski.io.imsave(output_image_path, image)\n",
      "/var/folders/j2/4gt7_tx57772t1zrdf4g5gm40000gn/T/ipykernel_24057/3240581223.py:13: UserWarning: ./db/unet_1/label_skeleton/nj_83_RCA_LAO.png is a low contrast image\n",
      "  ski.io.imsave(output_image_path, image)\n",
      "/var/folders/j2/4gt7_tx57772t1zrdf4g5gm40000gn/T/ipykernel_24057/3240581223.py:13: UserWarning: ./db/unet_1/label_skeleton/nj_55_LCA_LAO.png is a low contrast image\n",
      "  ski.io.imsave(output_image_path, image)\n",
      "/var/folders/j2/4gt7_tx57772t1zrdf4g5gm40000gn/T/ipykernel_24057/3240581223.py:13: UserWarning: ./db/unet_1/label_skeleton/nj_43_LCA_RAO.png is a low contrast image\n",
      "  ski.io.imsave(output_image_path, image)\n",
      "/var/folders/j2/4gt7_tx57772t1zrdf4g5gm40000gn/T/ipykernel_24057/3240581223.py:13: UserWarning: ./db/unet_1/label_skeleton/nj_12_RCA_LAO.png is a low contrast image\n",
      "  ski.io.imsave(output_image_path, image)\n",
      "/var/folders/j2/4gt7_tx57772t1zrdf4g5gm40000gn/T/ipykernel_24057/3240581223.py:13: UserWarning: ./db/unet_1/label_skeleton/nj_95_RCA_RAO.png is a low contrast image\n",
      "  ski.io.imsave(output_image_path, image)\n",
      "/var/folders/j2/4gt7_tx57772t1zrdf4g5gm40000gn/T/ipykernel_24057/3240581223.py:13: UserWarning: ./db/unet_1/label_skeleton/nj_62_RCA_LAO.png is a low contrast image\n",
      "  ski.io.imsave(output_image_path, image)\n",
      "/var/folders/j2/4gt7_tx57772t1zrdf4g5gm40000gn/T/ipykernel_24057/3240581223.py:13: UserWarning: ./db/unet_1/label_skeleton/nj_68_RCA_RAO.png is a low contrast image\n",
      "  ski.io.imsave(output_image_path, image)\n",
      "/var/folders/j2/4gt7_tx57772t1zrdf4g5gm40000gn/T/ipykernel_24057/3240581223.py:13: UserWarning: ./db/unet_1/label_skeleton/nj_45_RCA_RAO.png is a low contrast image\n",
      "  ski.io.imsave(output_image_path, image)\n",
      "/var/folders/j2/4gt7_tx57772t1zrdf4g5gm40000gn/T/ipykernel_24057/3240581223.py:13: UserWarning: ./db/unet_1/label_skeleton/nj_11_RCA_LAO.png is a low contrast image\n",
      "  ski.io.imsave(output_image_path, image)\n",
      "/var/folders/j2/4gt7_tx57772t1zrdf4g5gm40000gn/T/ipykernel_24057/3240581223.py:13: UserWarning: ./db/unet_1/label_skeleton/nj_61_RCA_LAO.png is a low contrast image\n",
      "  ski.io.imsave(output_image_path, image)\n",
      "/var/folders/j2/4gt7_tx57772t1zrdf4g5gm40000gn/T/ipykernel_24057/3240581223.py:13: UserWarning: ./db/unet_1/label_skeleton/nj_30_LCA_RAO.png is a low contrast image\n",
      "  ski.io.imsave(output_image_path, image)\n",
      "/var/folders/j2/4gt7_tx57772t1zrdf4g5gm40000gn/T/ipykernel_24057/3240581223.py:13: UserWarning: ./db/unet_1/label_skeleton/nj_26_LCA_LAO.png is a low contrast image\n",
      "  ski.io.imsave(output_image_path, image)\n",
      "/var/folders/j2/4gt7_tx57772t1zrdf4g5gm40000gn/T/ipykernel_24057/3240581223.py:13: UserWarning: ./db/unet_1/label_skeleton/nj_17_RCA_LAO1.png is a low contrast image\n",
      "  ski.io.imsave(output_image_path, image)\n",
      "/var/folders/j2/4gt7_tx57772t1zrdf4g5gm40000gn/T/ipykernel_24057/3240581223.py:13: UserWarning: ./db/unet_1/label_skeleton/nj_10_RCA_LAO1.png is a low contrast image\n",
      "  ski.io.imsave(output_image_path, image)\n",
      "/var/folders/j2/4gt7_tx57772t1zrdf4g5gm40000gn/T/ipykernel_24057/3240581223.py:13: UserWarning: ./db/unet_1/label_skeleton/nj_59_RCA_RAO.png is a low contrast image\n",
      "  ski.io.imsave(output_image_path, image)\n",
      "/var/folders/j2/4gt7_tx57772t1zrdf4g5gm40000gn/T/ipykernel_24057/3240581223.py:13: UserWarning: ./db/unet_1/label_skeleton/nj_53_RCA_LAO.png is a low contrast image\n",
      "  ski.io.imsave(output_image_path, image)\n",
      "/var/folders/j2/4gt7_tx57772t1zrdf4g5gm40000gn/T/ipykernel_24057/3240581223.py:13: UserWarning: ./db/unet_1/label_skeleton/nj_85_LCA_LAO.png is a low contrast image\n",
      "  ski.io.imsave(output_image_path, image)\n",
      "/var/folders/j2/4gt7_tx57772t1zrdf4g5gm40000gn/T/ipykernel_24057/3240581223.py:13: UserWarning: ./db/unet_1/label_skeleton/nj_23_RCA_LAO.png is a low contrast image\n",
      "  ski.io.imsave(output_image_path, image)\n",
      "/var/folders/j2/4gt7_tx57772t1zrdf4g5gm40000gn/T/ipykernel_24057/3240581223.py:13: UserWarning: ./db/unet_1/label_skeleton/nj_7_RCA_LAO.png is a low contrast image\n",
      "  ski.io.imsave(output_image_path, image)\n",
      "/var/folders/j2/4gt7_tx57772t1zrdf4g5gm40000gn/T/ipykernel_24057/3240581223.py:13: UserWarning: ./db/unet_1/label_skeleton/nj_26_RCA_LAO1.png is a low contrast image\n",
      "  ski.io.imsave(output_image_path, image)\n",
      "/var/folders/j2/4gt7_tx57772t1zrdf4g5gm40000gn/T/ipykernel_24057/3240581223.py:13: UserWarning: ./db/unet_1/label_skeleton/nj_46_RCA_LAO.png is a low contrast image\n",
      "  ski.io.imsave(output_image_path, image)\n",
      "/var/folders/j2/4gt7_tx57772t1zrdf4g5gm40000gn/T/ipykernel_24057/3240581223.py:13: UserWarning: ./db/unet_1/label_skeleton/nj_33_LCA_LAO.png is a low contrast image\n",
      "  ski.io.imsave(output_image_path, image)\n",
      "/var/folders/j2/4gt7_tx57772t1zrdf4g5gm40000gn/T/ipykernel_24057/3240581223.py:13: UserWarning: ./db/unet_1/label_skeleton/nj_95_RCA_LAO.png is a low contrast image\n",
      "  ski.io.imsave(output_image_path, image)\n",
      "/var/folders/j2/4gt7_tx57772t1zrdf4g5gm40000gn/T/ipykernel_24057/3240581223.py:13: UserWarning: ./db/unet_1/label_skeleton/nj_68_RCA_LAO.png is a low contrast image\n",
      "  ski.io.imsave(output_image_path, image)\n",
      "/var/folders/j2/4gt7_tx57772t1zrdf4g5gm40000gn/T/ipykernel_24057/3240581223.py:13: UserWarning: ./db/unet_1/label_skeleton/nj_18_RCA_LAO.png is a low contrast image\n",
      "  ski.io.imsave(output_image_path, image)\n",
      "/var/folders/j2/4gt7_tx57772t1zrdf4g5gm40000gn/T/ipykernel_24057/3240581223.py:13: UserWarning: ./db/unet_1/label_skeleton/nj_34_RCA_LAO1.png is a low contrast image\n",
      "  ski.io.imsave(output_image_path, image)\n",
      "/var/folders/j2/4gt7_tx57772t1zrdf4g5gm40000gn/T/ipykernel_24057/3240581223.py:13: UserWarning: ./db/unet_1/label_skeleton/nj_55_LCA_RAO.png is a low contrast image\n",
      "  ski.io.imsave(output_image_path, image)\n",
      "/var/folders/j2/4gt7_tx57772t1zrdf4g5gm40000gn/T/ipykernel_24057/3240581223.py:13: UserWarning: ./db/unet_1/label_skeleton/nj_1_LCA_RAO.png is a low contrast image\n",
      "  ski.io.imsave(output_image_path, image)\n",
      "/var/folders/j2/4gt7_tx57772t1zrdf4g5gm40000gn/T/ipykernel_24057/3240581223.py:13: UserWarning: ./db/unet_1/label_skeleton/nj_71_LCA_LAO.png is a low contrast image\n",
      "  ski.io.imsave(output_image_path, image)\n",
      "/var/folders/j2/4gt7_tx57772t1zrdf4g5gm40000gn/T/ipykernel_24057/3240581223.py:13: UserWarning: ./db/unet_1/label_skeleton/nj_68_LCA_LAO.png is a low contrast image\n",
      "  ski.io.imsave(output_image_path, image)\n",
      "/var/folders/j2/4gt7_tx57772t1zrdf4g5gm40000gn/T/ipykernel_24057/3240581223.py:13: UserWarning: ./db/unet_1/label_skeleton/nj_33_RCA_LAO.png is a low contrast image\n",
      "  ski.io.imsave(output_image_path, image)\n",
      "/var/folders/j2/4gt7_tx57772t1zrdf4g5gm40000gn/T/ipykernel_24057/3240581223.py:13: UserWarning: ./db/unet_1/label_skeleton/nj_89_LCA_LAO.png is a low contrast image\n",
      "  ski.io.imsave(output_image_path, image)\n",
      "/var/folders/j2/4gt7_tx57772t1zrdf4g5gm40000gn/T/ipykernel_24057/3240581223.py:13: UserWarning: ./db/unet_1/label_skeleton/nj_25_RCA_RAO.png is a low contrast image\n",
      "  ski.io.imsave(output_image_path, image)\n",
      "/var/folders/j2/4gt7_tx57772t1zrdf4g5gm40000gn/T/ipykernel_24057/3240581223.py:13: UserWarning: ./db/unet_1/label_skeleton/nj_20_LCA_RAO.png is a low contrast image\n",
      "  ski.io.imsave(output_image_path, image)\n",
      "/var/folders/j2/4gt7_tx57772t1zrdf4g5gm40000gn/T/ipykernel_24057/3240581223.py:13: UserWarning: ./db/unet_1/label_skeleton/nj_99_RCA_LAO.png is a low contrast image\n",
      "  ski.io.imsave(output_image_path, image)\n",
      "/var/folders/j2/4gt7_tx57772t1zrdf4g5gm40000gn/T/ipykernel_24057/3240581223.py:13: UserWarning: ./db/unet_1/label_skeleton/nj_35_RCA_LAO1.png is a low contrast image\n",
      "  ski.io.imsave(output_image_path, image)\n",
      "/var/folders/j2/4gt7_tx57772t1zrdf4g5gm40000gn/T/ipykernel_24057/3240581223.py:13: UserWarning: ./db/unet_1/label_skeleton/nj_14_RCA_LAO.png is a low contrast image\n",
      "  ski.io.imsave(output_image_path, image)\n",
      "/var/folders/j2/4gt7_tx57772t1zrdf4g5gm40000gn/T/ipykernel_24057/3240581223.py:13: UserWarning: ./db/unet_1/label_skeleton/nj_11_LCA_LAO.png is a low contrast image\n",
      "  ski.io.imsave(output_image_path, image)\n",
      "/var/folders/j2/4gt7_tx57772t1zrdf4g5gm40000gn/T/ipykernel_24057/3240581223.py:13: UserWarning: ./db/unet_1/label_skeleton/nj_96_LCA_RAO.png is a low contrast image\n",
      "  ski.io.imsave(output_image_path, image)\n",
      "/var/folders/j2/4gt7_tx57772t1zrdf4g5gm40000gn/T/ipykernel_24057/3240581223.py:13: UserWarning: ./db/unet_1/label_skeleton/nj_61_LCA_LAO.png is a low contrast image\n",
      "  ski.io.imsave(output_image_path, image)\n",
      "/var/folders/j2/4gt7_tx57772t1zrdf4g5gm40000gn/T/ipykernel_24057/3240581223.py:13: UserWarning: ./db/unet_1/label_skeleton/nj_2_RCA_LAO.png is a low contrast image\n",
      "  ski.io.imsave(output_image_path, image)\n",
      "/var/folders/j2/4gt7_tx57772t1zrdf4g5gm40000gn/T/ipykernel_24057/3240581223.py:13: UserWarning: ./db/unet_1/label_skeleton/nj_80_LCA_LAO.png is a low contrast image\n",
      "  ski.io.imsave(output_image_path, image)\n",
      "/var/folders/j2/4gt7_tx57772t1zrdf4g5gm40000gn/T/ipykernel_24057/3240581223.py:13: UserWarning: ./db/unet_1/label_skeleton/nj_26_RCA_LAO.png is a low contrast image\n",
      "  ski.io.imsave(output_image_path, image)\n",
      "/var/folders/j2/4gt7_tx57772t1zrdf4g5gm40000gn/T/ipykernel_24057/3240581223.py:13: UserWarning: ./db/unet_1/label_skeleton/nj_20_RCA_LAO1.png is a low contrast image\n",
      "  ski.io.imsave(output_image_path, image)\n",
      "/var/folders/j2/4gt7_tx57772t1zrdf4g5gm40000gn/T/ipykernel_24057/3240581223.py:13: UserWarning: ./db/unet_1/label_skeleton/nj_78_RCA_LAO.png is a low contrast image\n",
      "  ski.io.imsave(output_image_path, image)\n",
      "/var/folders/j2/4gt7_tx57772t1zrdf4g5gm40000gn/T/ipykernel_24057/3240581223.py:13: UserWarning: ./db/unet_1/label_skeleton/nj_7_LCA_LAO.png is a low contrast image\n",
      "  ski.io.imsave(output_image_path, image)\n",
      "/var/folders/j2/4gt7_tx57772t1zrdf4g5gm40000gn/T/ipykernel_24057/3240581223.py:13: UserWarning: ./db/unet_1/label_skeleton/nj_23_LCA_LAO.png is a low contrast image\n",
      "  ski.io.imsave(output_image_path, image)\n",
      "/var/folders/j2/4gt7_tx57772t1zrdf4g5gm40000gn/T/ipykernel_24057/3240581223.py:13: UserWarning: ./db/unet_1/label_skeleton/nj_13_RCA_LAO.png is a low contrast image\n",
      "  ski.io.imsave(output_image_path, image)\n",
      "/var/folders/j2/4gt7_tx57772t1zrdf4g5gm40000gn/T/ipykernel_24057/3240581223.py:13: UserWarning: ./db/unet_1/label_skeleton/nj_48_LCA_LAO.png is a low contrast image\n",
      "  ski.io.imsave(output_image_path, image)\n",
      "/var/folders/j2/4gt7_tx57772t1zrdf4g5gm40000gn/T/ipykernel_24057/3240581223.py:13: UserWarning: ./db/unet_1/label_skeleton/nj_14_RCA_LAO1.png is a low contrast image\n",
      "  ski.io.imsave(output_image_path, image)\n",
      "/var/folders/j2/4gt7_tx57772t1zrdf4g5gm40000gn/T/ipykernel_24057/3240581223.py:13: UserWarning: ./db/unet_1/label_skeleton/nj_66_LCA_LAO.png is a low contrast image\n",
      "  ski.io.imsave(output_image_path, image)\n",
      "/var/folders/j2/4gt7_tx57772t1zrdf4g5gm40000gn/T/ipykernel_24057/3240581223.py:13: UserWarning: ./db/unet_1/label_skeleton/nj_91_LCA_RAO.png is a low contrast image\n",
      "  ski.io.imsave(output_image_path, image)\n",
      "/var/folders/j2/4gt7_tx57772t1zrdf4g5gm40000gn/T/ipykernel_24057/3240581223.py:13: UserWarning: ./db/unet_1/label_skeleton/nj_87_LCA_LAO.png is a low contrast image\n",
      "  ski.io.imsave(output_image_path, image)\n",
      "/var/folders/j2/4gt7_tx57772t1zrdf4g5gm40000gn/T/ipykernel_24057/3240581223.py:13: UserWarning: ./db/unet_1/label_skeleton/nj_21_RCA_LAO.png is a low contrast image\n",
      "  ski.io.imsave(output_image_path, image)\n",
      "/var/folders/j2/4gt7_tx57772t1zrdf4g5gm40000gn/T/ipykernel_24057/3240581223.py:13: UserWarning: ./db/unet_1/label_skeleton/nj_5_RCA_LAO.png is a low contrast image\n",
      "  ski.io.imsave(output_image_path, image)\n",
      "/var/folders/j2/4gt7_tx57772t1zrdf4g5gm40000gn/T/ipykernel_24057/3240581223.py:13: UserWarning: ./db/unet_1/label_skeleton/nj_24_LCA_LAO.png is a low contrast image\n",
      "  ski.io.imsave(output_image_path, image)\n",
      "/var/folders/j2/4gt7_tx57772t1zrdf4g5gm40000gn/T/ipykernel_24057/3240581223.py:13: UserWarning: ./db/unet_1/label_skeleton/nj_8_RCA_LAO1.png is a low contrast image\n",
      "  ski.io.imsave(output_image_path, image)\n",
      "/var/folders/j2/4gt7_tx57772t1zrdf4g5gm40000gn/T/ipykernel_24057/3240581223.py:13: UserWarning: ./db/unet_1/label_skeleton/nj_92_LCA_LAO.png is a low contrast image\n",
      "  ski.io.imsave(output_image_path, image)\n",
      "/var/folders/j2/4gt7_tx57772t1zrdf4g5gm40000gn/T/ipykernel_24057/3240581223.py:13: UserWarning: ./db/unet_1/label_skeleton/nj_34_RCA_LAO.png is a low contrast image\n",
      "  ski.io.imsave(output_image_path, image)\n",
      "/var/folders/j2/4gt7_tx57772t1zrdf4g5gm40000gn/T/ipykernel_24057/3240581223.py:13: UserWarning: ./db/unet_1/label_skeleton/nj_98_LCA_RAO.png is a low contrast image\n",
      "  ski.io.imsave(output_image_path, image)\n",
      "/var/folders/j2/4gt7_tx57772t1zrdf4g5gm40000gn/T/ipykernel_24057/3240581223.py:13: UserWarning: ./db/unet_1/label_skeleton/nj_58_RCA_LAO.png is a low contrast image\n",
      "  ski.io.imsave(output_image_path, image)\n",
      "/var/folders/j2/4gt7_tx57772t1zrdf4g5gm40000gn/T/ipykernel_24057/3240581223.py:13: UserWarning: ./db/unet_1/label_skeleton/nj_6_RCA_RAO.png is a low contrast image\n",
      "  ski.io.imsave(output_image_path, image)\n",
      "/var/folders/j2/4gt7_tx57772t1zrdf4g5gm40000gn/T/ipykernel_24057/3240581223.py:13: UserWarning: ./db/unet_1/label_skeleton/nj_79_LCA_RAO.png is a low contrast image\n",
      "  ski.io.imsave(output_image_path, image)\n",
      "/var/folders/j2/4gt7_tx57772t1zrdf4g5gm40000gn/T/ipykernel_24057/3240581223.py:13: UserWarning: ./db/unet_1/label_skeleton/nj_28_RCA_LAO.png is a low contrast image\n",
      "  ski.io.imsave(output_image_path, image)\n",
      "/var/folders/j2/4gt7_tx57772t1zrdf4g5gm40000gn/T/ipykernel_24057/3240581223.py:13: UserWarning: ./db/unet_1/label_skeleton/nj_27_LCA_RAO.png is a low contrast image\n",
      "  ski.io.imsave(output_image_path, image)\n",
      "/var/folders/j2/4gt7_tx57772t1zrdf4g5gm40000gn/T/ipykernel_24057/3240581223.py:13: UserWarning: ./db/unet_1/label_skeleton/nj_22_RCA_LAO1.png is a low contrast image\n",
      "  ski.io.imsave(output_image_path, image)\n",
      "/var/folders/j2/4gt7_tx57772t1zrdf4g5gm40000gn/T/ipykernel_24057/3240581223.py:13: UserWarning: ./db/unet_1/label_skeleton/nj_31_RCA_LAO.png is a low contrast image\n",
      "  ski.io.imsave(output_image_path, image)\n",
      "/var/folders/j2/4gt7_tx57772t1zrdf4g5gm40000gn/T/ipykernel_24057/3240581223.py:13: UserWarning: ./db/unet_1/label_skeleton/nj_52_LCA_RAO.png is a low contrast image\n",
      "  ski.io.imsave(output_image_path, image)\n",
      "/var/folders/j2/4gt7_tx57772t1zrdf4g5gm40000gn/T/ipykernel_24057/3240581223.py:13: UserWarning: ./db/unet_1/label_skeleton/nj_28_LCA_LAO.png is a low contrast image\n",
      "  ski.io.imsave(output_image_path, image)\n",
      "/var/folders/j2/4gt7_tx57772t1zrdf4g5gm40000gn/T/ipykernel_24057/3240581223.py:13: UserWarning: ./db/unet_1/label_skeleton/nj_73_RCA_LAO.png is a low contrast image\n",
      "  ski.io.imsave(output_image_path, image)\n",
      "/var/folders/j2/4gt7_tx57772t1zrdf4g5gm40000gn/T/ipykernel_24057/3240581223.py:13: UserWarning: ./db/unet_1/label_skeleton/nj_6_LCA_RAO.png is a low contrast image\n",
      "  ski.io.imsave(output_image_path, image)\n",
      "/var/folders/j2/4gt7_tx57772t1zrdf4g5gm40000gn/T/ipykernel_24057/3240581223.py:13: UserWarning: ./db/unet_1/label_skeleton/nj_9_RCA_LAO.png is a low contrast image\n",
      "  ski.io.imsave(output_image_path, image)\n",
      "/var/folders/j2/4gt7_tx57772t1zrdf4g5gm40000gn/T/ipykernel_24057/3240581223.py:13: UserWarning: ./db/unet_1/label_skeleton/nj_42_RCA_RAO.png is a low contrast image\n",
      "  ski.io.imsave(output_image_path, image)\n",
      "/var/folders/j2/4gt7_tx57772t1zrdf4g5gm40000gn/T/ipykernel_24057/3240581223.py:13: UserWarning: ./db/unet_1/label_skeleton/nj_13_LCA_LAO.png is a low contrast image\n",
      "  ski.io.imsave(output_image_path, image)\n",
      "/var/folders/j2/4gt7_tx57772t1zrdf4g5gm40000gn/T/ipykernel_24057/3240581223.py:13: UserWarning: ./db/unet_1/label_skeleton/nj_16_RCA_LAO.png is a low contrast image\n",
      "  ski.io.imsave(output_image_path, image)\n",
      "/var/folders/j2/4gt7_tx57772t1zrdf4g5gm40000gn/T/ipykernel_24057/3240581223.py:13: UserWarning: ./db/unet_1/label_skeleton/nj_9_RCA_LAO1.png is a low contrast image\n",
      "  ski.io.imsave(output_image_path, image)\n",
      "/var/folders/j2/4gt7_tx57772t1zrdf4g5gm40000gn/T/ipykernel_24057/3240581223.py:13: UserWarning: ./db/unet_1/label_skeleton/nj_5_LCA_LAO.png is a low contrast image\n",
      "  ski.io.imsave(output_image_path, image)\n",
      "/var/folders/j2/4gt7_tx57772t1zrdf4g5gm40000gn/T/ipykernel_24057/3240581223.py:13: UserWarning: ./db/unet_1/label_skeleton/nj_21_LCA_LAO.png is a low contrast image\n",
      "  ski.io.imsave(output_image_path, image)\n",
      "/var/folders/j2/4gt7_tx57772t1zrdf4g5gm40000gn/T/ipykernel_24057/3240581223.py:13: UserWarning: ./db/unet_1/label_skeleton/nj_87_RCA_LAO.png is a low contrast image\n",
      "  ski.io.imsave(output_image_path, image)\n",
      "/var/folders/j2/4gt7_tx57772t1zrdf4g5gm40000gn/T/ipykernel_24057/3240581223.py:13: UserWarning: ./db/unet_1/label_skeleton/nj_31_RCA_LAO1.png is a low contrast image\n",
      "  ski.io.imsave(output_image_path, image)\n",
      "/var/folders/j2/4gt7_tx57772t1zrdf4g5gm40000gn/T/ipykernel_24057/3240581223.py:13: UserWarning: ./db/unet_1/label_skeleton/nj_54_RCA_LAO.png is a low contrast image\n",
      "  ski.io.imsave(output_image_path, image)\n",
      "/var/folders/j2/4gt7_tx57772t1zrdf4g5gm40000gn/T/ipykernel_24057/3240581223.py:13: UserWarning: ./db/unet_1/label_skeleton/nj_82_LCA_LAO.png is a low contrast image\n",
      "  ski.io.imsave(output_image_path, image)\n",
      "/var/folders/j2/4gt7_tx57772t1zrdf4g5gm40000gn/T/ipykernel_24057/3240581223.py:13: UserWarning: ./db/unet_1/label_skeleton/nj_88_LCA_RAO.png is a low contrast image\n",
      "  ski.io.imsave(output_image_path, image)\n",
      "/var/folders/j2/4gt7_tx57772t1zrdf4g5gm40000gn/T/ipykernel_24057/3240581223.py:13: UserWarning: ./db/unet_1/label_skeleton/nj_27_RCA_LAO.png is a low contrast image\n",
      "  ski.io.imsave(output_image_path, image)\n",
      "/var/folders/j2/4gt7_tx57772t1zrdf4g5gm40000gn/T/ipykernel_24057/3240581223.py:13: UserWarning: ./db/unet_1/label_skeleton/nj_81_LCA_LAO.png is a low contrast image\n",
      "  ski.io.imsave(output_image_path, image)\n",
      "/var/folders/j2/4gt7_tx57772t1zrdf4g5gm40000gn/T/ipykernel_24057/3240581223.py:13: UserWarning: ./db/unet_1/label_skeleton/nj_28_LCA_RAO.png is a low contrast image\n",
      "  ski.io.imsave(output_image_path, image)\n",
      "/var/folders/j2/4gt7_tx57772t1zrdf4g5gm40000gn/T/ipykernel_24057/3240581223.py:13: UserWarning: ./db/unet_1/label_skeleton/nj_22_LCA_LAO.png is a low contrast image\n",
      "  ski.io.imsave(output_image_path, image)\n",
      "/var/folders/j2/4gt7_tx57772t1zrdf4g5gm40000gn/T/ipykernel_24057/3240581223.py:13: UserWarning: ./db/unet_1/label_skeleton/nj_6_LCA_LAO.png is a low contrast image\n",
      "  ski.io.imsave(output_image_path, image)\n",
      "/var/folders/j2/4gt7_tx57772t1zrdf4g5gm40000gn/T/ipykernel_24057/3240581223.py:13: UserWarning: ./db/unet_1/label_skeleton/nj_52_LCA_LAO.png is a low contrast image\n",
      "  ski.io.imsave(output_image_path, image)\n",
      "/var/folders/j2/4gt7_tx57772t1zrdf4g5gm40000gn/T/ipykernel_24057/3240581223.py:13: UserWarning: ./db/unet_1/label_skeleton/nj_15_RCA_LAO.png is a low contrast image\n",
      "  ski.io.imsave(output_image_path, image)\n",
      "/var/folders/j2/4gt7_tx57772t1zrdf4g5gm40000gn/T/ipykernel_24057/3240581223.py:13: UserWarning: ./db/unet_1/label_skeleton/nj_60_LCA_LAO.png is a low contrast image\n",
      "  ski.io.imsave(output_image_path, image)\n",
      "/var/folders/j2/4gt7_tx57772t1zrdf4g5gm40000gn/T/ipykernel_24057/3240581223.py:13: UserWarning: ./db/unet_1/label_skeleton/nj_31_RCA_RAO.png is a low contrast image\n",
      "  ski.io.imsave(output_image_path, image)\n",
      "/var/folders/j2/4gt7_tx57772t1zrdf4g5gm40000gn/T/ipykernel_24057/3240581223.py:13: UserWarning: ./db/unet_1/label_skeleton/nj_29_RCA_LAO1.png is a low contrast image\n",
      "  ski.io.imsave(output_image_path, image)\n",
      "/var/folders/j2/4gt7_tx57772t1zrdf4g5gm40000gn/T/ipykernel_24057/3240581223.py:13: UserWarning: ./db/unet_1/label_skeleton/nj_14_LCA_RAO2.png is a low contrast image\n",
      "  ski.io.imsave(output_image_path, image)\n",
      "/var/folders/j2/4gt7_tx57772t1zrdf4g5gm40000gn/T/ipykernel_24057/3240581223.py:13: UserWarning: ./db/unet_1/label_skeleton/nj_41_RCA_RAO.png is a low contrast image\n",
      "  ski.io.imsave(output_image_path, image)\n",
      "/var/folders/j2/4gt7_tx57772t1zrdf4g5gm40000gn/T/ipykernel_24057/3240581223.py:13: UserWarning: ./db/unet_1/label_skeleton/nj_88_LCA_LAO.png is a low contrast image\n",
      "  ski.io.imsave(output_image_path, image)\n",
      "/var/folders/j2/4gt7_tx57772t1zrdf4g5gm40000gn/T/ipykernel_24057/3240581223.py:13: UserWarning: ./db/unet_1/label_skeleton/nj_54_RCA_RAO.png is a low contrast image\n",
      "  ski.io.imsave(output_image_path, image)\n",
      "/var/folders/j2/4gt7_tx57772t1zrdf4g5gm40000gn/T/ipykernel_24057/3240581223.py:13: UserWarning: ./db/unet_1/label_skeleton/nj_70_RCA_LAO.png is a low contrast image\n",
      "  ski.io.imsave(output_image_path, image)\n",
      "/var/folders/j2/4gt7_tx57772t1zrdf4g5gm40000gn/T/ipykernel_24057/3240581223.py:13: UserWarning: ./db/unet_1/label_skeleton/nj_18_RCA_LAO1.png is a low contrast image\n",
      "  ski.io.imsave(output_image_path, image)\n",
      "/var/folders/j2/4gt7_tx57772t1zrdf4g5gm40000gn/T/ipykernel_24057/3240581223.py:13: UserWarning: ./db/unet_1/label_skeleton/nj_47_LCA_LAO.png is a low contrast image\n",
      "  ski.io.imsave(output_image_path, image)\n",
      "/var/folders/j2/4gt7_tx57772t1zrdf4g5gm40000gn/T/ipykernel_24057/3240581223.py:13: UserWarning: ./db/unet_1/label_skeleton/nj_48_RCA_RAO.png is a low contrast image\n",
      "  ski.io.imsave(output_image_path, image)\n",
      "/var/folders/j2/4gt7_tx57772t1zrdf4g5gm40000gn/T/ipykernel_24057/3240581223.py:13: UserWarning: ./db/unet_1/label_skeleton/nj_19_LCA_LAO.png is a low contrast image\n",
      "  ski.io.imsave(output_image_path, image)\n",
      "/var/folders/j2/4gt7_tx57772t1zrdf4g5gm40000gn/T/ipykernel_24057/3240581223.py:13: UserWarning: ./db/unet_1/label_skeleton/nj_4_LCA_LAO2.png is a low contrast image\n",
      "  ski.io.imsave(output_image_path, image)\n",
      "/var/folders/j2/4gt7_tx57772t1zrdf4g5gm40000gn/T/ipykernel_24057/3240581223.py:13: UserWarning: ./db/unet_1/label_skeleton/nj_32_RCA_LAO.png is a low contrast image\n",
      "  ski.io.imsave(output_image_path, image)\n",
      "/var/folders/j2/4gt7_tx57772t1zrdf4g5gm40000gn/T/ipykernel_24057/3240581223.py:13: UserWarning: ./db/unet_1/label_skeleton/nj_69_LCA_LAO.png is a low contrast image\n",
      "  ski.io.imsave(output_image_path, image)\n",
      "/var/folders/j2/4gt7_tx57772t1zrdf4g5gm40000gn/T/ipykernel_24057/3240581223.py:13: UserWarning: ./db/unet_1/label_skeleton/nj_82_RCA_RAO.png is a low contrast image\n",
      "  ski.io.imsave(output_image_path, image)\n",
      "/var/folders/j2/4gt7_tx57772t1zrdf4g5gm40000gn/T/ipykernel_24057/3240581223.py:13: UserWarning: ./db/unet_1/label_skeleton/nj_24_LCA_RAO.png is a low contrast image\n",
      "  ski.io.imsave(output_image_path, image)\n",
      "/var/folders/j2/4gt7_tx57772t1zrdf4g5gm40000gn/T/ipykernel_24057/3240581223.py:13: UserWarning: ./db/unet_1/label_skeleton/nj_88_RCA_LAO.png is a low contrast image\n",
      "  ski.io.imsave(output_image_path, image)\n",
      "/var/folders/j2/4gt7_tx57772t1zrdf4g5gm40000gn/T/ipykernel_24057/3240581223.py:13: UserWarning: ./db/unet_1/label_skeleton/nj_28_RCA_LAO1.png is a low contrast image\n",
      "  ski.io.imsave(output_image_path, image)\n",
      "/var/folders/j2/4gt7_tx57772t1zrdf4g5gm40000gn/T/ipykernel_24057/3240581223.py:13: UserWarning: ./db/unet_1/label_skeleton/nj_70_LCA_LAO.png is a low contrast image\n",
      "  ski.io.imsave(output_image_path, image)\n",
      "/var/folders/j2/4gt7_tx57772t1zrdf4g5gm40000gn/T/ipykernel_24057/3240581223.py:13: UserWarning: ./db/unet_1/label_skeleton/nj_91_LCA_LAO.png is a low contrast image\n",
      "  ski.io.imsave(output_image_path, image)\n",
      "/var/folders/j2/4gt7_tx57772t1zrdf4g5gm40000gn/T/ipykernel_24057/3240581223.py:13: UserWarning: ./db/unet_1/label_skeleton/nj_16_LCA_RAO.png is a low contrast image\n",
      "  ski.io.imsave(output_image_path, image)\n",
      "/var/folders/j2/4gt7_tx57772t1zrdf4g5gm40000gn/T/ipykernel_24057/3240581223.py:13: UserWarning: ./db/unet_1/label_skeleton/nj_47_RCA_LAO.png is a low contrast image\n",
      "  ski.io.imsave(output_image_path, image)\n",
      "/var/folders/j2/4gt7_tx57772t1zrdf4g5gm40000gn/T/ipykernel_24057/3240581223.py:13: UserWarning: ./db/unet_1/label_skeleton/nj_13_RCA_RAO.png is a low contrast image\n",
      "  ski.io.imsave(output_image_path, image)\n",
      "/var/folders/j2/4gt7_tx57772t1zrdf4g5gm40000gn/T/ipykernel_24057/3240581223.py:13: UserWarning: ./db/unet_1/label_skeleton/nj_19_RCA_LAO.png is a low contrast image\n",
      "  ski.io.imsave(output_image_path, image)\n",
      "/var/folders/j2/4gt7_tx57772t1zrdf4g5gm40000gn/T/ipykernel_24057/3240581223.py:13: UserWarning: ./db/unet_1/label_skeleton/nj_69_RCA_LAO.png is a low contrast image\n",
      "  ski.io.imsave(output_image_path, image)\n",
      "/var/folders/j2/4gt7_tx57772t1zrdf4g5gm40000gn/T/ipykernel_24057/3240581223.py:13: UserWarning: ./db/unet_1/label_skeleton/nj_23_LCA_RAO1.png is a low contrast image\n",
      "  ski.io.imsave(output_image_path, image)\n",
      "/var/folders/j2/4gt7_tx57772t1zrdf4g5gm40000gn/T/ipykernel_24057/3240581223.py:13: UserWarning: ./db/unet_1/label_skeleton/nj_32_LCA_LAO.png is a low contrast image\n",
      "  ski.io.imsave(output_image_path, image)\n",
      "/var/folders/j2/4gt7_tx57772t1zrdf4g5gm40000gn/T/ipykernel_24057/3240581223.py:13: UserWarning: ./db/unet_1/label_skeleton/nj_81_RCA_LAO.png is a low contrast image\n",
      "  ski.io.imsave(output_image_path, image)\n",
      "/var/folders/j2/4gt7_tx57772t1zrdf4g5gm40000gn/T/ipykernel_24057/3240581223.py:13: UserWarning: ./db/unet_1/label_skeleton/nj_79_LCA_LAO.png is a low contrast image\n",
      "  ski.io.imsave(output_image_path, image)\n",
      "/var/folders/j2/4gt7_tx57772t1zrdf4g5gm40000gn/T/ipykernel_24057/3240581223.py:13: UserWarning: ./db/unet_1/label_skeleton/nj_73_LCA_RAO.png is a low contrast image\n",
      "  ski.io.imsave(output_image_path, image)\n",
      "/var/folders/j2/4gt7_tx57772t1zrdf4g5gm40000gn/T/ipykernel_24057/3240581223.py:13: UserWarning: ./db/unet_1/label_skeleton/nj_22_RCA_LAO.png is a low contrast image\n",
      "  ski.io.imsave(output_image_path, image)\n",
      "/var/folders/j2/4gt7_tx57772t1zrdf4g5gm40000gn/T/ipykernel_24057/3240581223.py:13: UserWarning: ./db/unet_1/label_skeleton/nj_84_LCA_LAO.png is a low contrast image\n",
      "  ski.io.imsave(output_image_path, image)\n",
      "/var/folders/j2/4gt7_tx57772t1zrdf4g5gm40000gn/T/ipykernel_24057/3240581223.py:13: UserWarning: ./db/unet_1/label_skeleton/nj_52_RCA_LAO.png is a low contrast image\n",
      "  ski.io.imsave(output_image_path, image)\n",
      "/var/folders/j2/4gt7_tx57772t1zrdf4g5gm40000gn/T/ipykernel_24057/3240581223.py:13: UserWarning: ./db/unet_1/label_skeleton/nj_27_LCA_CRA.png is a low contrast image\n",
      "  ski.io.imsave(output_image_path, image)\n",
      "/var/folders/j2/4gt7_tx57772t1zrdf4g5gm40000gn/T/ipykernel_24057/3240581223.py:13: UserWarning: ./db/unet_1/label_skeleton/nj_15_LCA_LAO.png is a low contrast image\n",
      "  ski.io.imsave(output_image_path, image)\n",
      "/var/folders/j2/4gt7_tx57772t1zrdf4g5gm40000gn/T/ipykernel_24057/3240581223.py:13: UserWarning: ./db/unet_1/label_skeleton/nj_65_LCA_LAO.png is a low contrast image\n",
      "  ski.io.imsave(output_image_path, image)\n",
      "/var/folders/j2/4gt7_tx57772t1zrdf4g5gm40000gn/T/ipykernel_24057/3240581223.py:13: UserWarning: ./db/unet_1/label_skeleton/nj_41_LCA_RAO.png is a low contrast image\n",
      "  ski.io.imsave(output_image_path, image)\n",
      "/var/folders/j2/4gt7_tx57772t1zrdf4g5gm40000gn/T/ipykernel_24057/3240581223.py:13: UserWarning: ./db/unet_1/label_skeleton/nj_10_RCA_LAO.png is a low contrast image\n",
      "  ski.io.imsave(output_image_path, image)\n",
      "/var/folders/j2/4gt7_tx57772t1zrdf4g5gm40000gn/T/ipykernel_24057/3240581223.py:13: UserWarning: ./db/unet_1/label_skeleton/nj_23_LCA_RAO2.png is a low contrast image\n",
      "  ski.io.imsave(output_image_path, image)\n"
     ]
    }
   ],
   "source": [
    "for label in labels:\n",
    "    input_image_path = os.path.join(input_dir, label)\n",
    "    output_image_path = os.path.join(output_dir, label)\n",
    "    image = ski.io.imread(input_image_path)\n",
    "\n",
    "    if image.dtype == 'bool':\n",
    "        image = img_as_ubyte(image)\n",
    "        \n",
    "    if image.ndim == 3 and image.shape[2] == 3:\n",
    "        image = ski.color.rgb2gray(image)\n",
    "\n",
    "    image = skeletonize(image)\n",
    "\n",
    "    image = ski.img_as_ubyte(image)\n",
    "\n",
    "    ski.io.imsave(output_image_path, image)"
   ]
  },
  {
   "cell_type": "code",
   "execution_count": 37,
   "id": "0df0d2d8-52cd-43c4-9511-2d631f256cd3",
   "metadata": {
    "scrolled": true
   },
   "outputs": [
    {
     "name": "stdout",
     "output_type": "stream",
     "text": [
      "85.55194805194806\n",
      "527\n",
      "616\n"
     ]
    }
   ],
   "source": [
    "total = len(labels)\n",
    "final = len(os.listdir(output_dir))\n",
    "print(100 * (final/total))\n",
    "print(final)\n",
    "print(total)"
   ]
  },
  {
   "cell_type": "markdown",
   "id": "5e6b17c3-ed79-4b53-bbe3-4c142feaf0c2",
   "metadata": {},
   "source": [
    "# Data loading"
   ]
  },
  {
   "cell_type": "markdown",
   "id": "359b9566-27a4-465d-b233-cc7a878a0cfc",
   "metadata": {},
   "source": [
    "## Dataset class"
   ]
  },
  {
   "cell_type": "code",
   "execution_count": 34,
   "id": "9cfa44c0-3168-4bf4-adaa-267bea91a602",
   "metadata": {},
   "outputs": [],
   "source": [
    "class UnetDataset(Dataset):\n",
    "    \n",
    "    def __init__(self, img_dir, label_dir, names , transform=None):\n",
    "        super().__init__()\n",
    "        self.img_dir = img_dir\n",
    "        self.label_dir = label_dir\n",
    "        self.names = names\n",
    "        self.transform = transform\n",
    "        \n",
    "    def __len__(self):\n",
    "        return len(self.names)\n",
    "\n",
    "    def __getitem__(self, idx):\n",
    "        img_path = os.path.join(self.img_dir, self.names[idx])\n",
    "        label_path = os.path.join(self.label_dir, self.names[idx])\n",
    "        image = np.array(Image.open(img_path).convert(\"RGB\"))\n",
    "        label = np.array(Image.open(label_path).convert(\"L\"), dtype=np.float32)\n",
    "        label[label == 255.0] = 1.0\n",
    "        \n",
    "        \n",
    "        if self.transform:\n",
    "            image = self.transform(image)\n",
    "            label = self.transform(label)\n",
    "\n",
    "        \n",
    "        return image, label"
   ]
  },
  {
   "cell_type": "markdown",
   "id": "108c237f-ee57-4001-b4d4-ac29aeb0348d",
   "metadata": {},
   "source": [
    "## Data split"
   ]
  },
  {
   "cell_type": "code",
   "execution_count": 71,
   "id": "9dbe317f-1927-4907-8437-9f8437127821",
   "metadata": {},
   "outputs": [],
   "source": [
    "names = os.listdir(data_dir+'/unet_1/label_skeleton')"
   ]
  },
  {
   "cell_type": "code",
   "execution_count": 72,
   "id": "44a2f278-4fa2-47ab-9d33-a5ec0c278228",
   "metadata": {},
   "outputs": [],
   "source": [
    "img_dir = \"./db/unet_1/img\"\n",
    "label_dir = \"./db/unet_1/label_skeleton\""
   ]
  },
  {
   "cell_type": "code",
   "execution_count": 73,
   "id": "8058c54a-2248-4c4d-95e7-9cfdd5db0c0b",
   "metadata": {},
   "outputs": [],
   "source": [
    "train_dataset = UnetDataset(img_dir, label_dir, names, transform = ToTensor())\n",
    "test_dataset = UnetDataset(img_dir, label_dir, names, transform = ToTensor())\n",
    "val_dataset = UnetDataset(img_dir, label_dir, names, transform = ToTensor())"
   ]
  },
  {
   "cell_type": "code",
   "execution_count": 74,
   "id": "b9757fcb-e0c0-4c45-99c4-9add75ad7f1f",
   "metadata": {},
   "outputs": [],
   "source": [
    "train_loader = DataLoader(train_dataset, batch_size=4, shuffle=True)\n",
    "test_loader = DataLoader(test_dataset, batch_size=4, shuffle=False)\n",
    "val_loader = DataLoader(val_dataset, batch_size=4, shuffle=False)"
   ]
  },
  {
   "cell_type": "code",
   "execution_count": 75,
   "id": "f31efc0d-2733-4feb-b272-36420ce7ecce",
   "metadata": {
    "scrolled": true
   },
   "outputs": [],
   "source": [
    "img1, label1 = train_dataset[0]"
   ]
  },
  {
   "cell_type": "code",
   "execution_count": 76,
   "id": "85002134-bc9d-42f2-9509-7f7001e7f99e",
   "metadata": {},
   "outputs": [
    {
     "data": {
      "text/plain": [
       "tensor([[[0.2745, 0.3020, 0.3216,  ..., 0.5294, 0.4824, 0.4510],\n",
       "         [0.2902, 0.3098, 0.3333,  ..., 0.5647, 0.5333, 0.5098],\n",
       "         [0.2980, 0.3255, 0.3451,  ..., 0.5804, 0.5529, 0.5412],\n",
       "         ...,\n",
       "         [0.1647, 0.1686, 0.1686,  ..., 0.2275, 0.2275, 0.2392],\n",
       "         [0.1608, 0.1686, 0.1647,  ..., 0.2314, 0.2196, 0.2314],\n",
       "         [0.1569, 0.1725, 0.1608,  ..., 0.2275, 0.2157, 0.2196]],\n",
       "\n",
       "        [[0.2745, 0.3020, 0.3216,  ..., 0.5294, 0.4824, 0.4510],\n",
       "         [0.2902, 0.3098, 0.3333,  ..., 0.5647, 0.5333, 0.5098],\n",
       "         [0.2980, 0.3255, 0.3451,  ..., 0.5804, 0.5529, 0.5412],\n",
       "         ...,\n",
       "         [0.1647, 0.1686, 0.1686,  ..., 0.2275, 0.2275, 0.2392],\n",
       "         [0.1608, 0.1686, 0.1647,  ..., 0.2314, 0.2196, 0.2314],\n",
       "         [0.1569, 0.1725, 0.1608,  ..., 0.2275, 0.2157, 0.2196]],\n",
       "\n",
       "        [[0.2745, 0.3020, 0.3216,  ..., 0.5294, 0.4824, 0.4510],\n",
       "         [0.2902, 0.3098, 0.3333,  ..., 0.5647, 0.5333, 0.5098],\n",
       "         [0.2980, 0.3255, 0.3451,  ..., 0.5804, 0.5529, 0.5412],\n",
       "         ...,\n",
       "         [0.1647, 0.1686, 0.1686,  ..., 0.2275, 0.2275, 0.2392],\n",
       "         [0.1608, 0.1686, 0.1647,  ..., 0.2314, 0.2196, 0.2314],\n",
       "         [0.1569, 0.1725, 0.1608,  ..., 0.2275, 0.2157, 0.2196]]])"
      ]
     },
     "execution_count": 76,
     "metadata": {},
     "output_type": "execute_result"
    }
   ],
   "source": [
    "img1"
   ]
  },
  {
   "cell_type": "code",
   "execution_count": 77,
   "id": "5d0857c0-a4de-4a5e-b4e1-b9964d10ceb3",
   "metadata": {},
   "outputs": [
    {
     "data": {
      "text/plain": [
       "torch.Size([3, 512, 512])"
      ]
     },
     "execution_count": 77,
     "metadata": {},
     "output_type": "execute_result"
    }
   ],
   "source": [
    "img1.shape"
   ]
  },
  {
   "cell_type": "code",
   "execution_count": 78,
   "id": "f03b4f87-84a8-4548-98a2-255d0820100d",
   "metadata": {},
   "outputs": [
    {
     "data": {
      "text/plain": [
       "tensor([[[0., 0., 0.,  ..., 0., 0., 0.],\n",
       "         [0., 0., 0.,  ..., 0., 0., 0.],\n",
       "         [0., 0., 0.,  ..., 0., 0., 0.],\n",
       "         ...,\n",
       "         [0., 0., 0.,  ..., 0., 0., 0.],\n",
       "         [0., 0., 0.,  ..., 0., 0., 0.],\n",
       "         [0., 0., 0.,  ..., 0., 0., 0.]]])"
      ]
     },
     "execution_count": 78,
     "metadata": {},
     "output_type": "execute_result"
    }
   ],
   "source": [
    "label1"
   ]
  },
  {
   "cell_type": "code",
   "execution_count": 79,
   "id": "660fefaa-abe6-43c3-aada-612162dee121",
   "metadata": {},
   "outputs": [
    {
     "data": {
      "text/plain": [
       "torch.Size([1, 512, 512])"
      ]
     },
     "execution_count": 79,
     "metadata": {},
     "output_type": "execute_result"
    }
   ],
   "source": [
    "label1.shape"
   ]
  },
  {
   "cell_type": "markdown",
   "id": "ff4a0b04-9088-4ba5-9be0-eae166165b07",
   "metadata": {},
   "source": [
    "# Model Training"
   ]
  },
  {
   "cell_type": "markdown",
   "id": "7f25565e-e0bd-4efd-8bed-869494cc21b1",
   "metadata": {},
   "source": [
    "- Accuracy\n",
    "- F1 score\n",
    "- Coeficinete dice\n",
    "- Recall\n",
    "- Especificidad\n",
    "- Presición"
   ]
  },
  {
   "cell_type": "code",
   "execution_count": null,
   "id": "5e6d3524-8646-4c76-99f0-c98f4fde8525",
   "metadata": {},
   "outputs": [],
   "source": [
    "device = torch.device(\"cuda\" if torch.cuda.is_available() else \"cpu\")\n",
    "device"
   ]
  },
  {
   "cell_type": "code",
   "execution_count": 80,
   "id": "965d7ee7-5414-4dc5-8479-98888ec46bf0",
   "metadata": {},
   "outputs": [],
   "source": [
    "model = Unet(in_channels=3, out_channels=1).to(device)"
   ]
  },
  {
   "cell_type": "code",
   "execution_count": 81,
   "id": "1bb6c0ae-90bb-459d-b1f5-a25c7e2323a1",
   "metadata": {},
   "outputs": [],
   "source": [
    "criterion = nn.BCEWithLogitsLoss()\n",
    "optimizer = torch.optim.Adam(model.parameters(), lr = 0.01)"
   ]
  },
  {
   "cell_type": "code",
   "execution_count": 82,
   "id": "fec54517-d63a-494a-a9d6-2332942e4724",
   "metadata": {},
   "outputs": [],
   "source": [
    "epochs = 5\n",
    "train_losses = []\n",
    "test_losses = []\n",
    "val_losses = []"
   ]
  },
  {
   "cell_type": "code",
   "execution_count": null,
   "id": "740c15f8-4cd8-4af0-ad15-9743fd89b083",
   "metadata": {
    "scrolled": true
   },
   "outputs": [
    {
     "name": "stdout",
     "output_type": "stream",
     "text": [
      "Batch 0\n",
      "Batch 1\n",
      "Batch 2\n",
      "Batch 3\n",
      "Batch 4\n",
      "Batch 5\n",
      "Batch 6\n",
      "Batch 7\n",
      "Batch 8\n"
     ]
    }
   ],
   "source": [
    "for epoch in range(epochs):\n",
    "    model.train()\n",
    "    train_loss = 0\n",
    "    \n",
    "    for b, (X_train, y_train) in enumerate(train_loader):\n",
    "        X_train = X_train.float().to(device)\n",
    "        y_train = y_train.float().to(device)\n",
    "        \n",
    "        # Forward pass\n",
    "        y_pred = model(X_train)\n",
    "        loss = criterion(y_pred, y_train)\n",
    "        \n",
    "        optimizer.zero_grad()\n",
    "        loss.backward()\n",
    "        optimizer.step()\n",
    "        \n",
    "        train_loss += loss.item()\n",
    "    \n",
    "    t_len = len(train_loader)\n",
    "    train_losses.append(train_loss / t_len)\n",
    "    \n",
    "    model.eval()\n",
    "    val_loss = 0\n",
    "    \n",
    "    with torch.no_grad():\n",
    "        for b, (X_val, y_val) in enumerate(val_loader):\n",
    "\n",
    "            X_val = X_val.float().to(device)\n",
    "            y_val = y_val.float().to(device)\n",
    "            \n",
    "            # Forward pass\n",
    "            y_pred = model(X_val)\n",
    "            loss = criterion(y_pred, y_val)\n",
    "            val_loss += loss.item()\n",
    "    \n",
    "    v_len = len(val_loader)\n",
    "    val_losses.append(val_loss / v_len)\n",
    "\n",
    "    print(f\"Epoch {epoch+1} \"\n",
    "          f\"Train Loss: {train_losses[-1]:.4f}, Val Loss: {val_losses[-1]:.4f}, \")"
   ]
  },
  {
   "cell_type": "code",
   "execution_count": null,
   "id": "16df2438-106d-4c55-8c3e-e1bf2ee47186",
   "metadata": {},
   "outputs": [],
   "source": [
    "model.eval()\n",
    "with torch.no_grad():\n",
    "    test_loss = 0\n",
    "    f1_test = 0\n",
    "    recall_test = 0\n",
    "    acc_test = 0\n",
    "    precision_test = 0\n",
    "    \n",
    "    for b, (X_test, y_test) in enumerate(test_loader):\n",
    "        X_test, y_test = X_test.to(device), y_test.to(device)\n",
    "        \n",
    "        y_pred = model(X_test)\n",
    "        loss = criterion(y_pred, y_test)\n",
    "        test_loss += loss.item()\n",
    "        \n",
    "        y_pred_np = torch.argmax(y_pred, dim=1).cpu().numpy()\n",
    "        y_test_np = y_test.cpu().numpy()\n",
    "\n",
    "    t_len = len(test_loader)\n",
    "    test_loss /= t_len\n",
    "\n",
    "    \n",
    "    print(f\"Test Loss: {test_loss:.4f}\")"
   ]
  },
  {
   "cell_type": "markdown",
   "id": "7bbe45c1-bbc9-4345-ba45-607ad9155196",
   "metadata": {},
   "source": [
    "# Evaluation"
   ]
  },
  {
   "cell_type": "markdown",
   "id": "a89ecc2f-9f98-4186-bc04-6ee6e95bd18f",
   "metadata": {},
   "source": [
    "### Train"
   ]
  },
  {
   "cell_type": "code",
   "execution_count": null,
   "id": "ddb50bfc-04d6-4661-8c0a-f3404d794c50",
   "metadata": {},
   "outputs": [],
   "source": [
    "plt.figure()\n",
    "plt.plot(np.array(train_losses))\n",
    "plt.title('Perdida en entrenamiento')\n",
    "plt.xlabel('epoch')\n",
    "plt.ylabel('train loss')\n",
    "plt.show()"
   ]
  },
  {
   "cell_type": "markdown",
   "id": "9008a865-34da-4e84-bcde-246d96c523f4",
   "metadata": {},
   "source": [
    "### Validation"
   ]
  },
  {
   "cell_type": "code",
   "execution_count": null,
   "id": "39f1f9f9-3370-4284-82d1-b0caf29217fb",
   "metadata": {},
   "outputs": [],
   "source": [
    "plt.figure()\n",
    "plt.plot(np.array(val_losses))\n",
    "plt.title('Perdida en validacion')\n",
    "plt.xlabel('epoch')\n",
    "plt.ylabel('validation loss')\n",
    "plt.show()"
   ]
  },
  {
   "cell_type": "markdown",
   "id": "7e6600db-4e78-4fe9-b89a-7cae5c783d97",
   "metadata": {},
   "source": [
    "### Test"
   ]
  },
  {
   "cell_type": "code",
   "execution_count": null,
   "id": "ff5b7ded-591a-4b8f-8ccb-10d2cbb98afb",
   "metadata": {},
   "outputs": [],
   "source": [
    "plt.figure()\n",
    "plt.plot(np.array(test_losses))\n",
    "plt.title('Perdida en pruebas')\n",
    "plt.xlabel('sample')\n",
    "plt.ylabel('test loss')\n",
    "plt.show()"
   ]
  },
  {
   "cell_type": "markdown",
   "id": "bd2a7315-d8dd-48dc-b6f7-960222dafd38",
   "metadata": {},
   "source": [
    "## Loss Function"
   ]
  },
  {
   "cell_type": "markdown",
   "id": "955a18e8-81a3-4675-ab9a-66b369d088ad",
   "metadata": {},
   "source": [
    "- Binary cross entropy loss function"
   ]
  },
  {
   "cell_type": "code",
   "execution_count": 63,
   "id": "1560d608-8dcb-4041-a82f-0b5d73d94dee",
   "metadata": {},
   "outputs": [],
   "source": [
    "def ce(y, y_i):\n",
    "    ep = 1e-8\n",
    "    part1 = y_i * np.log(y+ep)\n",
    "    part2 = (1 - y_i)*np.log(1-y+ep)\n",
    "    return np.mean(-(part1+part2))"
   ]
  },
  {
   "cell_type": "code",
   "execution_count": 64,
   "id": "4eec7f3c-b687-4ed7-b189-306575c0ae7a",
   "metadata": {},
   "outputs": [],
   "source": [
    "y = np.linspace(0,1, 10)\n",
    "y_i = np.zeros(10)\n",
    "y_i2 = np.ones(10)\n",
    "\n",
    "r1 = ce(y, y_i)\n",
    "r2 = ce(y, y_i2)"
   ]
  },
  {
   "cell_type": "code",
   "execution_count": 68,
   "id": "bfe45e26-b2a5-4751-99bc-65f582327329",
   "metadata": {},
   "outputs": [],
   "source": [
    "x = np.linspace(0,1,9).reshape(3,3)"
   ]
  },
  {
   "cell_type": "code",
   "execution_count": 69,
   "id": "60417f74-fcf3-405b-a754-465b93a44362",
   "metadata": {},
   "outputs": [
    {
     "data": {
      "text/plain": [
       "array([[0.   , 0.125, 0.25 ],\n",
       "       [0.375, 0.5  , 0.625],\n",
       "       [0.75 , 0.875, 1.   ]])"
      ]
     },
     "execution_count": 69,
     "metadata": {},
     "output_type": "execute_result"
    }
   ],
   "source": [
    "x"
   ]
  },
  {
   "cell_type": "code",
   "execution_count": 72,
   "id": "e44779f9-76b0-42d9-a443-8a9734dfbb02",
   "metadata": {},
   "outputs": [],
   "source": [
    "y_1 = np.ones(9).reshape(3,3)"
   ]
  },
  {
   "cell_type": "code",
   "execution_count": 73,
   "id": "a2e38f1f-9f97-4290-ac23-9fdb25ba0d78",
   "metadata": {},
   "outputs": [],
   "source": [
    "y_0 = np.zeros(9).reshape(3,3)"
   ]
  },
  {
   "cell_type": "code",
   "execution_count": 74,
   "id": "912f4c12-4952-42ba-83c5-9a42dce15b57",
   "metadata": {},
   "outputs": [
    {
     "data": {
      "text/plain": [
       "2.7168455508019154"
      ]
     },
     "execution_count": 74,
     "metadata": {},
     "output_type": "execute_result"
    }
   ],
   "source": [
    "ce(x, y_1)"
   ]
  },
  {
   "cell_type": "code",
   "execution_count": 65,
   "id": "428af3df-a74a-4bb5-8ac5-7e47ea82b34d",
   "metadata": {},
   "outputs": [
    {
     "data": {
      "text/plain": [
       "2.5393874205289735"
      ]
     },
     "execution_count": 65,
     "metadata": {},
     "output_type": "execute_result"
    }
   ],
   "source": [
    "r1"
   ]
  },
  {
   "cell_type": "code",
   "execution_count": 66,
   "id": "f5c32105-3dbc-4d4c-bf30-59a841c14554",
   "metadata": {},
   "outputs": [
    {
     "data": {
      "text/plain": [
       "2.539387420528974"
      ]
     },
     "execution_count": 66,
     "metadata": {},
     "output_type": "execute_result"
    }
   ],
   "source": [
    "r2"
   ]
  },
  {
   "cell_type": "code",
   "execution_count": 52,
   "id": "881ffd63-5951-490b-ba5a-6e2b1fba4356",
   "metadata": {},
   "outputs": [
    {
     "data": {
      "text/plain": [
       "array([       nan, 0.11778304, 0.25131443, 0.40546511, 0.58778666,\n",
       "       0.81093022, 1.09861229, 1.5040774 , 2.19722458,        inf])"
      ]
     },
     "execution_count": 52,
     "metadata": {},
     "output_type": "execute_result"
    }
   ],
   "source": [
    "r1"
   ]
  },
  {
   "cell_type": "code",
   "execution_count": 53,
   "id": "9eeb1fa3-b403-4cb8-9047-1391203eed83",
   "metadata": {},
   "outputs": [
    {
     "data": {
      "text/plain": [
       "array([       inf, 2.19722458, 1.5040774 , 1.09861229, 0.81093022,\n",
       "       0.58778666, 0.40546511, 0.25131443, 0.11778304,        nan])"
      ]
     },
     "execution_count": 53,
     "metadata": {},
     "output_type": "execute_result"
    }
   ],
   "source": [
    "r2"
   ]
  },
  {
   "cell_type": "code",
   "execution_count": 54,
   "id": "72a15132-80d8-4553-87b4-043c11a643fe",
   "metadata": {},
   "outputs": [
    {
     "data": {
      "text/plain": [
       "[<matplotlib.lines.Line2D at 0x204ddb9e890>]"
      ]
     },
     "execution_count": 54,
     "metadata": {},
     "output_type": "execute_result"
    },
    {
     "data": {
      "image/png": "[encoded data removed]",
      "text/plain": [
       "<Figure size 640x480 with 1 Axes>"
      ]
     },
     "metadata": {},
     "output_type": "display_data"
    }
   ],
   "source": [
    "plt.plot(y, r1)"
   ]
  },
  {
   "cell_type": "code",
   "execution_count": 55,
   "id": "fa36276e-61c9-4f93-9a1f-b5bc93e0b8b4",
   "metadata": {},
   "outputs": [
    {
     "data": {
      "text/plain": [
       "[<matplotlib.lines.Line2D at 0x204ddeb9890>]"
      ]
     },
     "execution_count": 55,
     "metadata": {},
     "output_type": "execute_result"
    },
    {
     "data": {
      "image/png": "[encoded data removed]",
      "text/plain": [
       "<Figure size 640x480 with 1 Axes>"
      ]
     },
     "metadata": {},
     "output_type": "display_data"
    }
   ],
   "source": [
    "plt.plot(y, r2)"
   ]
  },
  {
   "cell_type": "code",
   "execution_count": null,
   "id": "c11103ba-aa46-4011-a969-6aac90fe23bf",
   "metadata": {},
   "outputs": [],
   "source": [
    "loss = nn.BCELoss()"
   ]
  }
 ],
 "metadata": {
  "kernelspec": {
   "display_name": "Python 3 (ipykernel)",
   "language": "python",
   "name": "python3"
  },
  "language_info": {
   "codemirror_mode": {
    "name": "ipython",
    "version": 3
   },
   "file_extension": ".py",
   "mimetype": "text/x-python",
   "name": "python",
   "nbconvert_exporter": "python",
   "pygments_lexer": "ipython3",
   "version": "3.11.8"
  }
 },
 "nbformat": 4,
 "nbformat_minor": 5
}
