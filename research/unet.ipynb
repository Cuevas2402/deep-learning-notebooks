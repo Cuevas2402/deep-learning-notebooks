{
 "cells": [
  {
   "cell_type": "markdown",
   "id": "06280bad-5767-4265-b02d-e55f5d92994c",
   "metadata": {
    "id": "06280bad-5767-4265-b02d-e55f5d92994c"
   },
   "source": [
    "# Imports"
   ]
  },
  {
   "cell_type": "code",
   "execution_count": 1,
   "id": "49752ff2-4b92-4266-9cad-c7f9a00a1b1d",
   "metadata": {
    "id": "49752ff2-4b92-4266-9cad-c7f9a00a1b1d"
   },
   "outputs": [],
   "source": [
    "import torch.nn as nn\n",
    "import torchvision.transforms.functional as TF\n",
    "import torch\n",
    "from torchvision import datasets, transforms\n",
    "from torch.utils.data import DataLoader\n",
    "from torchvision.io import read_image\n",
    "from torch.utils.data import Dataset\n",
    "from torchvision.transforms import ToTensor\n",
    "from skimage.morphology import skeletonize\n",
    "import matplotlib.pyplot as plt\n",
    "from skimage.util import invert\n",
    "import skimage as ski\n",
    "from skimage.util import img_as_ubyte\n",
    "from sklearn.model_selection import train_test_split\n",
    "from PIL import Image\n",
    "import os\n",
    "import numpy as np\n",
    "import pandas as pd\n",
    "import matplotlib.pyplot as plt\n",
    "%matplotlib inline\n",
    "\n",
    "import warnings"
   ]
  },
  {
   "cell_type": "code",
   "execution_count": 2,
   "id": "oarDaC6fOCqG",
   "metadata": {
    "colab": {
     "base_uri": "https://localhost:8080/"
    },
    "id": "oarDaC6fOCqG",
    "outputId": "7a027810-fac1-46b1-80b1-678fd275d32b"
   },
   "outputs": [
    {
     "name": "stdout",
     "output_type": "stream",
     "text": [
      "Mounted at /content/drive\n"
     ]
    }
   ],
   "source": [
    "from google.colab import drive\n",
    "\n",
    "drive.mount('/content/drive')"
   ]
  },
  {
   "cell_type": "code",
   "execution_count": null,
   "id": "8493519c-d73a-40ba-9525-0ac2d1927867",
   "metadata": {
    "id": "8493519c-d73a-40ba-9525-0ac2d1927867"
   },
   "outputs": [],
   "source": [
    "#from torchsummary import summary"
   ]
  },
  {
   "cell_type": "markdown",
   "id": "78764963-2f76-4adf-b764-6d6a254659ff",
   "metadata": {
    "id": "78764963-2f76-4adf-b764-6d6a254659ff"
   },
   "source": [
    "# Model Architecture"
   ]
  },
  {
   "cell_type": "markdown",
   "id": "c805ebeb",
   "metadata": {
    "id": "c805ebeb"
   },
   "source": [
    "## Unet"
   ]
  },
  {
   "cell_type": "code",
   "execution_count": 56,
   "id": "270d64df-fedf-4b77-bf39-2cb425a08844",
   "metadata": {
    "id": "270d64df-fedf-4b77-bf39-2cb425a08844"
   },
   "outputs": [],
   "source": [
    "class DoubleConv(nn.Module):\n",
    "    def __init__ (self, in_channels, out_channels):\n",
    "        super().__init__()\n",
    "        self.conv = nn.Sequential(\n",
    "            nn.Conv2d(in_channels, out_channels, 3, 1, 1, bias=False),\n",
    "            nn.BatchNorm2d(out_channels),\n",
    "            nn.ReLU(inplace=True),\n",
    "            nn.Conv2d(out_channels, out_channels, 3, 1, 1, bias=False),\n",
    "            nn.BatchNorm2d(out_channels),\n",
    "            nn.ReLU(inplace=True)\n",
    "        )\n",
    "\n",
    "    def forward(self, x):\n",
    "        return self.conv(x)\n"
   ]
  },
  {
   "cell_type": "code",
   "execution_count": 57,
   "id": "84f49830-00ad-468b-a16c-2c77d79effe4",
   "metadata": {
    "id": "84f49830-00ad-468b-a16c-2c77d79effe4"
   },
   "outputs": [],
   "source": [
    "class Unet(nn.Module):\n",
    "    def __init__(self, in_channels = 3, out_channels = 2, features = [64, 128, 256, 512]):\n",
    "        super().__init__()\n",
    "        self.downs = nn.ModuleList()\n",
    "        self.ups = nn.ModuleList()\n",
    "        self.pool = nn.MaxPool2d(kernel_size = 2, stride = 2)\n",
    "\n",
    "        for feature in features:\n",
    "            self.downs.append(DoubleConv(in_channels, feature))\n",
    "            in_channels = feature\n",
    "\n",
    "        for feature in reversed(features):\n",
    "            self.ups.append(nn.ConvTranspose2d(feature*2, feature, kernel_size=2, stride = 2))\n",
    "            self.ups.append(DoubleConv(feature*2, feature))\n",
    "\n",
    "\n",
    "        self.bottom = DoubleConv(features[-1], features[-1]*2)\n",
    "        self.last = nn.Conv2d(features[0], out_channels, 1)\n",
    "\n",
    "    def forward(self, x):\n",
    "        sc = []\n",
    "\n",
    "        for down in self.downs:\n",
    "            x = down(x)\n",
    "            sc.append(x)\n",
    "            x = self.pool(x)\n",
    "\n",
    "        x = self.bottom(x)\n",
    "        sc = sc[::-1]\n",
    "\n",
    "        for idx in range(0, len(self.ups), 2):\n",
    "            x = self.ups[idx](x)\n",
    "            skip_connection = sc[idx // 2]\n",
    "\n",
    "            if x.shape != skip_connection.shape:\n",
    "                x = TF.resize(x, size=skip_connection.shape[2:])\n",
    "\n",
    "            concat_skip = torch.cat((skip_connection, x), dim=1)\n",
    "            x = self.ups[idx + 1](concat_skip)\n",
    "\n",
    "        return self.last(x)\n",
    "\n"
   ]
  },
  {
   "cell_type": "markdown",
   "id": "bba3bb54",
   "metadata": {
    "id": "bba3bb54"
   },
   "source": [
    "## Residual Unet"
   ]
  },
  {
   "cell_type": "code",
   "execution_count": 3,
   "id": "4fcd19f5",
   "metadata": {
    "id": "4fcd19f5"
   },
   "outputs": [],
   "source": [
    "class ResDoubleConv(nn.Module):\n",
    "\tdef __init__(self, in_channels, out_channels):\n",
    "\t\tsuper().__init__()\n",
    "\t\tself.conv1 = nn.Conv2d(in_channels, out_channels, 3, 1, 1, bias=False)\n",
    "\t\tself.b1 = nn.BatchNorm2d(out_channels)\n",
    "\t\tself.r1 = nn.ReLU(inplace=True)\n",
    "\t\tself.conv2 = nn.Conv2d(out_channels, out_channels, 3, 1, 1, bias=False)\n",
    "\t\tself.b2 = nn.BatchNorm2d(out_channels)\n",
    "\t\tself.r2 = nn.ReLU(inplace=True)\n",
    "\t\tself.residual_conv = nn.Conv2d(in_channels, out_channels, kernel_size=1, bias=False) if in_channels != out_channels else nn.Identity()\n",
    "\n",
    "\n",
    "\tdef forward(self, x):\n",
    "\t\tres = self.residual_conv(x)\n",
    "\t\tx = self.conv1(x)\n",
    "\t\tx = self.b1(x)\n",
    "\t\tx = self.r1(x)\n",
    "\t\tx = self.conv2(x)\n",
    "\t\tx = self.b2(x)\n",
    "\t\tx += res\n",
    "\t\tx = self.r1(x)\n",
    "\t\treturn x"
   ]
  },
  {
   "cell_type": "code",
   "execution_count": 4,
   "id": "0976be40",
   "metadata": {
    "id": "0976be40"
   },
   "outputs": [],
   "source": [
    "\n",
    "class ResUnet(nn.Module):\n",
    "    def __init__(self, in_channels = 3, out_channels = 2, features = [64, 128, 256, 512]):\n",
    "        super().__init__()\n",
    "        self.downs = nn.ModuleList()\n",
    "        self.ups = nn.ModuleList()\n",
    "        self.pool = nn.MaxPool2d(kernel_size = 2, stride = 2)\n",
    "\n",
    "        for feature in features:\n",
    "            self.downs.append(ResDoubleConv(in_channels, feature))\n",
    "            in_channels = feature\n",
    "\n",
    "        for feature in reversed(features):\n",
    "            self.ups.append(nn.ConvTranspose2d(feature*2, feature, kernel_size=2, stride = 2))\n",
    "            self.ups.append(ResDoubleConv(feature*2, feature))\n",
    "\n",
    "\n",
    "        self.bottom = ResDoubleConv(features[-1], features[-1]*2)\n",
    "        self.last = nn.Conv2d(features[0], out_channels, 1)\n",
    "\n",
    "    def forward(self, x):\n",
    "        sc = []\n",
    "\n",
    "        for down in self.downs:\n",
    "            x = down(x)\n",
    "            sc.append(x)\n",
    "            x = self.pool(x)\n",
    "\n",
    "        x = self.bottom(x)\n",
    "        sc = sc[::-1]\n",
    "\n",
    "        for idx in range(0, len(self.ups), 2):\n",
    "            x = self.ups[idx](x)\n",
    "            skip_connection = sc[idx // 2]\n",
    "\n",
    "            if x.shape != skip_connection.shape:\n",
    "                x = TF.resize(x, size=skip_connection.shape[2:])\n",
    "\n",
    "            concat_skip = torch.cat((skip_connection, x), dim=1)\n",
    "            x = self.ups[idx + 1](concat_skip)\n",
    "\n",
    "        return self.last(x)\n",
    "\n"
   ]
  },
  {
   "cell_type": "markdown",
   "id": "07b144c1-d85f-415d-91b4-2f98964bc523",
   "metadata": {
    "id": "07b144c1-d85f-415d-91b4-2f98964bc523"
   },
   "source": [
    "### Model test"
   ]
  },
  {
   "cell_type": "code",
   "execution_count": 5,
   "id": "c5dafe20-6880-4a88-9f6b-be5806cf4325",
   "metadata": {
    "colab": {
     "base_uri": "https://localhost:8080/"
    },
    "id": "c5dafe20-6880-4a88-9f6b-be5806cf4325",
    "outputId": "bcf38aa7-abac-4d11-8272-a13c17424243"
   },
   "outputs": [
    {
     "name": "stdout",
     "output_type": "stream",
     "text": [
      "torch.Size([3, 1, 512, 512])\n",
      "torch.Size([3, 1, 512, 512])\n"
     ]
    }
   ],
   "source": [
    "x = torch.rand((3,1,512,512))\n",
    "model = ResUnet(in_channels=1, out_channels=1)\n",
    "preds = model(x)\n",
    "print(preds.shape)\n",
    "print(x.shape)"
   ]
  },
  {
   "cell_type": "markdown",
   "id": "3ee7cf49-947b-46ef-b819-8f41509a2d6e",
   "metadata": {
    "id": "3ee7cf49-947b-46ef-b819-8f41509a2d6e"
   },
   "source": [
    "# Data processing"
   ]
  },
  {
   "cell_type": "code",
   "execution_count": 6,
   "id": "15f51d51-f654-4bef-be6e-7f68e633f5e8",
   "metadata": {
    "id": "15f51d51-f654-4bef-be6e-7f68e633f5e8"
   },
   "outputs": [],
   "source": [
    "data_dir = './db/unet_1'"
   ]
  },
  {
   "cell_type": "markdown",
   "id": "829c0c24-d43b-4bd7-9137-f572152bc5fc",
   "metadata": {
    "id": "829c0c24-d43b-4bd7-9137-f572152bc5fc"
   },
   "source": [
    "## Skeletonization test"
   ]
  },
  {
   "cell_type": "code",
   "execution_count": null,
   "id": "f5eaa379-dc9b-4ea0-acbf-307c4ca44fcc",
   "metadata": {
    "id": "f5eaa379-dc9b-4ea0-acbf-307c4ca44fcc"
   },
   "outputs": [],
   "source": [
    "files = os.listdir(data_dir+'/img')"
   ]
  },
  {
   "cell_type": "code",
   "execution_count": null,
   "id": "9a9cf0f0-58be-48e8-8192-37f120f99a47",
   "metadata": {
    "id": "9a9cf0f0-58be-48e8-8192-37f120f99a47",
    "outputId": "3cfadc7d-c082-44cc-d079-d9922fbda309"
   },
   "outputs": [
    {
     "data": {
      "text/plain": [
       "'nj_124_2_LCA_RAO.png'"
      ]
     },
     "execution_count": 7,
     "metadata": {},
     "output_type": "execute_result"
    }
   ],
   "source": [
    "files[0]"
   ]
  },
  {
   "cell_type": "code",
   "execution_count": null,
   "id": "0f47c9bd-67c1-4195-9d14-940bf8788ab8",
   "metadata": {
    "id": "0f47c9bd-67c1-4195-9d14-940bf8788ab8"
   },
   "outputs": [],
   "source": [
    "def readImages(dir):\n",
    "    img_file = os.listdir(data_dir+'/img')\n",
    "    label_file = os.listdir(data_dir+'/label')\n",
    "    list = [ [], [] ]\n",
    "    for img, label in zip(img_file, label_file):\n",
    "        list[0].append(ski.io.imread(dir+'/img/'+img))\n",
    "        list[1].append(ski.io.imread(dir+'/label/'+label))\n",
    "    return list[0], list[1]"
   ]
  },
  {
   "cell_type": "code",
   "execution_count": null,
   "id": "db062f0c-87bb-41ee-ab12-d3a07f0f8085",
   "metadata": {
    "id": "db062f0c-87bb-41ee-ab12-d3a07f0f8085"
   },
   "outputs": [],
   "source": [
    "img, label = readImages(data_dir)"
   ]
  },
  {
   "cell_type": "code",
   "execution_count": null,
   "id": "ed239bae-45aa-42f5-a81c-442030dd4e34",
   "metadata": {
    "id": "ed239bae-45aa-42f5-a81c-442030dd4e34",
    "outputId": "8ac366f4-964e-4001-a892-cb73833cb049"
   },
   "outputs": [
    {
     "data": {
      "image/png": "[encoded data removed]",
      "text/plain": [
       "<Figure size 640x480 with 2 Axes>"
      ]
     },
     "metadata": {},
     "output_type": "display_data"
    }
   ],
   "source": [
    "plt.subplot(1, 2, 1)\n",
    "plt.title('Imagen')\n",
    "plt.imshow(img[0])\n",
    "plt.axis('off')\n",
    "\n",
    "plt.subplot(1, 2, 2)\n",
    "plt.title('Etiqueta')\n",
    "plt.imshow(label[0], cmap=\"gray\")\n",
    "plt.axis('off')\n",
    "\n",
    "plt.show()"
   ]
  },
  {
   "cell_type": "code",
   "execution_count": null,
   "id": "ddb92e78-e803-424e-b5ec-4ac28cf381d4",
   "metadata": {
    "id": "ddb92e78-e803-424e-b5ec-4ac28cf381d4"
   },
   "outputs": [],
   "source": [
    "gray_image = ski.color.rgb2gray(label[0])"
   ]
  },
  {
   "cell_type": "code",
   "execution_count": null,
   "id": "3d058c0a-85f5-43e8-8a89-d3962bbc3d67",
   "metadata": {
    "id": "3d058c0a-85f5-43e8-8a89-d3962bbc3d67"
   },
   "outputs": [],
   "source": [
    "skeleton = skeletonize(gray_image)"
   ]
  },
  {
   "cell_type": "code",
   "execution_count": null,
   "id": "0189e188-241c-431d-98ed-9eb58ff2a31a",
   "metadata": {
    "id": "0189e188-241c-431d-98ed-9eb58ff2a31a",
    "outputId": "836d4b79-17dc-423b-8224-b88b752ac2d1"
   },
   "outputs": [
    {
     "data": {
      "image/png": "[encoded data removed]",
      "text/plain": [
       "<Figure size 800x400 with 2 Axes>"
      ]
     },
     "metadata": {},
     "output_type": "display_data"
    }
   ],
   "source": [
    "fig, axes = plt.subplots(nrows=1, ncols=2, figsize=(8, 4), sharex=True, sharey=True)\n",
    "\n",
    "ax = axes.ravel()\n",
    "\n",
    "ax[0].imshow(label[0], cmap=plt.cm.gray)\n",
    "ax[0].axis('off')\n",
    "ax[0].set_title('original', fontsize=20)\n",
    "\n",
    "ax[1].imshow(skeleton, cmap=plt.cm.gray)\n",
    "ax[1].axis('off')\n",
    "ax[1].set_title('original', fontsize=20)\n",
    "\n",
    "fig.tight_layout()\n",
    "plt.show()"
   ]
  },
  {
   "cell_type": "markdown",
   "id": "7a12c32b-51d9-4be8-9168-01d67c0f3ba9",
   "metadata": {
    "id": "7a12c32b-51d9-4be8-9168-01d67c0f3ba9"
   },
   "source": [
    "## Label skeletonization"
   ]
  },
  {
   "cell_type": "code",
   "execution_count": null,
   "id": "137f4501-932c-464d-b803-147a624e47a6",
   "metadata": {
    "id": "137f4501-932c-464d-b803-147a624e47a6"
   },
   "outputs": [],
   "source": [
    "input_dir = os.path.join(data_dir,'label')\n",
    "output_dir = os.path.join(data_dir, 'label_skeleton')"
   ]
  },
  {
   "cell_type": "code",
   "execution_count": null,
   "id": "59137aa1-8c25-4f53-8c8a-dd8793f5d6d3",
   "metadata": {
    "id": "59137aa1-8c25-4f53-8c8a-dd8793f5d6d3"
   },
   "outputs": [],
   "source": [
    "labels = os.listdir(input_dir)"
   ]
  },
  {
   "cell_type": "code",
   "execution_count": null,
   "id": "80d332f6-bfef-4763-b58b-e61b3f9b6e81",
   "metadata": {
    "id": "80d332f6-bfef-4763-b58b-e61b3f9b6e81"
   },
   "outputs": [],
   "source": [
    "os.makedirs(output_dir, exist_ok=True)"
   ]
  },
  {
   "cell_type": "code",
   "execution_count": null,
   "id": "96121356-90be-4a52-a567-d4c44766e0c6",
   "metadata": {
    "id": "96121356-90be-4a52-a567-d4c44766e0c6"
   },
   "outputs": [],
   "source": [
    "for label in labels:\n",
    "\n",
    "    input_image_path = os.path.join(input_dir, label)\n",
    "    output_image_path = os.path.join(output_dir, label)\n",
    "    image = ski.io.imread(input_image_path)\n",
    "\n",
    "    if image.dtype == 'bool':\n",
    "        image = img_as_ubyte(image)\n",
    "\n",
    "    if image.ndim == 3 and image.shape[2] == 3:\n",
    "        image = ski.color.rgb2gray(image)\n",
    "\n",
    "    image = skeletonize(image)\n",
    "\n",
    "    image = ski.img_as_ubyte(image)\n",
    "    ski.io.imsave(output_image_path, image)"
   ]
  },
  {
   "cell_type": "code",
   "execution_count": null,
   "id": "0df0d2d8-52cd-43c4-9511-2d631f256cd3",
   "metadata": {
    "id": "0df0d2d8-52cd-43c4-9511-2d631f256cd3",
    "outputId": "e6d94eff-6b4a-42b1-c5b8-b14088c1853d",
    "scrolled": true
   },
   "outputs": [
    {
     "name": "stdout",
     "output_type": "stream",
     "text": [
      "85.55194805194806\n",
      "527\n",
      "616\n"
     ]
    }
   ],
   "source": [
    "total = len(labels)\n",
    "final = len(os.listdir(output_dir))\n",
    "print(100 * (final/total))\n",
    "print(final)\n",
    "print(total)"
   ]
  },
  {
   "cell_type": "markdown",
   "id": "359b9566-27a4-465d-b233-cc7a878a0cfc",
   "metadata": {
    "id": "359b9566-27a4-465d-b233-cc7a878a0cfc"
   },
   "source": [
    "## Dataset class"
   ]
  },
  {
   "cell_type": "code",
   "execution_count": 8,
   "id": "9cfa44c0-3168-4bf4-adaa-267bea91a602",
   "metadata": {
    "id": "9cfa44c0-3168-4bf4-adaa-267bea91a602"
   },
   "outputs": [],
   "source": [
    "class UnetDataset(Dataset):\n",
    "\n",
    "    def __init__(self, img_dir, label_dir, names , transform=None, label_transform=None):\n",
    "        super().__init__()\n",
    "        self.img_dir = img_dir\n",
    "        self.label_dir = label_dir\n",
    "        self.names = names\n",
    "        self.transform = transform\n",
    "        self.label_transform=label_transform\n",
    "\n",
    "    def __len__(self):\n",
    "        return len(self.names)\n",
    "\n",
    "    def __getitem__(self, idx):\n",
    "        img_path = os.path.join(self.img_dir, self.names[idx])\n",
    "        label_path = os.path.join(self.label_dir, self.names[idx])\n",
    "        image = Image.open(img_path).convert(\"RGB\")\n",
    "        label = np.array(Image.open(label_path).convert(\"L\"), dtype=np.float32)\n",
    "        label[label == 255.0] = 1.0\n",
    "        label = Image.fromarray(label)\n",
    "\n",
    "\n",
    "        if self.transform:\n",
    "            image = self.transform(image)\n",
    "\n",
    "        if self.label_transform:\n",
    "            label = self.label_transform(label)\n",
    "\n",
    "\n",
    "        return image, label"
   ]
  },
  {
   "cell_type": "markdown",
   "id": "108c237f-ee57-4001-b4d4-ac29aeb0348d",
   "metadata": {
    "id": "108c237f-ee57-4001-b4d4-ac29aeb0348d"
   },
   "source": [
    "## Data split"
   ]
  },
  {
   "cell_type": "code",
   "execution_count": 9,
   "id": "9dbe317f-1927-4907-8437-9f8437127821",
   "metadata": {
    "id": "9dbe317f-1927-4907-8437-9f8437127821"
   },
   "outputs": [],
   "source": [
    "data_dir = './drive/MyDrive/unet'"
   ]
  },
  {
   "cell_type": "code",
   "execution_count": 10,
   "id": "sIRsKoCeORv9",
   "metadata": {
    "id": "sIRsKoCeORv9"
   },
   "outputs": [],
   "source": [
    "names = os.listdir(data_dir+'/label_skeleton')"
   ]
  },
  {
   "cell_type": "code",
   "execution_count": 11,
   "id": "44a2f278-4fa2-47ab-9d33-a5ec0c278228",
   "metadata": {
    "id": "44a2f278-4fa2-47ab-9d33-a5ec0c278228"
   },
   "outputs": [],
   "source": [
    "img_dir = os.path.join(data_dir, 'img')\n",
    "label_dir = os.path.join(data_dir, 'label_skeleton')"
   ]
  },
  {
   "cell_type": "code",
   "execution_count": 32,
   "id": "p2LdUq_5UGPC",
   "metadata": {
    "id": "p2LdUq_5UGPC"
   },
   "outputs": [],
   "source": [
    "X_train, X_test = train_test_split(names, test_size=0.1, random_state=42)\n",
    "X_train, X_val = train_test_split(X_train, test_size=len(X_test), random_state=42)"
   ]
  },
  {
   "cell_type": "code",
   "execution_count": 33,
   "id": "Vfuxwn36Uauh",
   "metadata": {
    "colab": {
     "base_uri": "https://localhost:8080/"
    },
    "id": "Vfuxwn36Uauh",
    "outputId": "ce8d8729-4606-4c2a-e241-e133dfedf4dd"
   },
   "outputs": [
    {
     "name": "stdout",
     "output_type": "stream",
     "text": [
      "420\n",
      "53\n",
      "53\n"
     ]
    }
   ],
   "source": [
    "print(len(X_train))\n",
    "print(len(X_test))\n",
    "print(len(X_val))"
   ]
  },
  {
   "cell_type": "code",
   "execution_count": 34,
   "id": "6dd2b923",
   "metadata": {
    "id": "6dd2b923"
   },
   "outputs": [],
   "source": [
    "img_transforms = transforms.Compose([\n",
    "    transforms.Resize(224),\n",
    "    transforms.CenterCrop(224),\n",
    "    ToTensor(),\n",
    "])\n",
    "\n",
    "label_transform = transforms.Compose([\n",
    "\ttransforms.Resize(224),\n",
    "\ttransforms.CenterCrop(224),\n",
    "\tToTensor(),\n",
    "])"
   ]
  },
  {
   "cell_type": "code",
   "execution_count": 35,
   "id": "8058c54a-2248-4c4d-95e7-9cfdd5db0c0b",
   "metadata": {
    "id": "8058c54a-2248-4c4d-95e7-9cfdd5db0c0b"
   },
   "outputs": [],
   "source": [
    "train_dataset = UnetDataset(img_dir, label_dir, X_train, transform=img_transforms, label_transform=label_transform)\n",
    "test_dataset = UnetDataset(img_dir, label_dir, X_test, transform = img_transforms, label_transform=label_transform)\n",
    "val_dataset = UnetDataset(img_dir, label_dir, X_val, transform = img_transforms, label_transform=label_transform)"
   ]
  },
  {
   "cell_type": "code",
   "execution_count": 36,
   "id": "b9757fcb-e0c0-4c45-99c4-9add75ad7f1f",
   "metadata": {
    "id": "b9757fcb-e0c0-4c45-99c4-9add75ad7f1f"
   },
   "outputs": [],
   "source": [
    "train_loader = DataLoader(train_dataset, batch_size=10, shuffle=True)\n",
    "test_loader = DataLoader(test_dataset, batch_size=10, shuffle=False)\n",
    "val_loader = DataLoader(val_dataset, batch_size=10, shuffle=False)"
   ]
  },
  {
   "cell_type": "code",
   "execution_count": 37,
   "id": "f31efc0d-2733-4feb-b272-36420ce7ecce",
   "metadata": {
    "id": "f31efc0d-2733-4feb-b272-36420ce7ecce",
    "scrolled": true
   },
   "outputs": [],
   "source": [
    "img1, label1 = train_dataset[0]"
   ]
  },
  {
   "cell_type": "code",
   "execution_count": 38,
   "id": "85002134-bc9d-42f2-9509-7f7001e7f99e",
   "metadata": {
    "colab": {
     "base_uri": "https://localhost:8080/"
    },
    "id": "85002134-bc9d-42f2-9509-7f7001e7f99e",
    "outputId": "0b2eafe8-549e-4ca4-977e-bd8a63009c96"
   },
   "outputs": [
    {
     "data": {
      "text/plain": [
       "tensor([[[0.3647, 0.3922, 0.4078,  ..., 0.4510, 0.3765, 0.3412],\n",
       "         [0.3725, 0.4078, 0.4235,  ..., 0.4941, 0.4039, 0.3373],\n",
       "         [0.3686, 0.4078, 0.4314,  ..., 0.5333, 0.4275, 0.3333],\n",
       "         ...,\n",
       "         [0.1765, 0.1765, 0.1725,  ..., 0.3020, 0.2980, 0.2941],\n",
       "         [0.1765, 0.1725, 0.1765,  ..., 0.3020, 0.2980, 0.2941],\n",
       "         [0.1804, 0.1725, 0.1765,  ..., 0.2980, 0.2902, 0.2980]],\n",
       "\n",
       "        [[0.3647, 0.3922, 0.4078,  ..., 0.4510, 0.3765, 0.3412],\n",
       "         [0.3725, 0.4078, 0.4235,  ..., 0.4941, 0.4039, 0.3373],\n",
       "         [0.3686, 0.4078, 0.4314,  ..., 0.5333, 0.4275, 0.3333],\n",
       "         ...,\n",
       "         [0.1765, 0.1765, 0.1725,  ..., 0.3020, 0.2980, 0.2941],\n",
       "         [0.1765, 0.1725, 0.1765,  ..., 0.3020, 0.2980, 0.2941],\n",
       "         [0.1804, 0.1725, 0.1765,  ..., 0.2980, 0.2902, 0.2980]],\n",
       "\n",
       "        [[0.3647, 0.3922, 0.4078,  ..., 0.4510, 0.3765, 0.3412],\n",
       "         [0.3725, 0.4078, 0.4235,  ..., 0.4941, 0.4039, 0.3373],\n",
       "         [0.3686, 0.4078, 0.4314,  ..., 0.5333, 0.4275, 0.3333],\n",
       "         ...,\n",
       "         [0.1765, 0.1765, 0.1725,  ..., 0.3020, 0.2980, 0.2941],\n",
       "         [0.1765, 0.1725, 0.1765,  ..., 0.3020, 0.2980, 0.2941],\n",
       "         [0.1804, 0.1725, 0.1765,  ..., 0.2980, 0.2902, 0.2980]]])"
      ]
     },
     "execution_count": 38,
     "metadata": {},
     "output_type": "execute_result"
    }
   ],
   "source": [
    "img1"
   ]
  },
  {
   "cell_type": "code",
   "execution_count": 39,
   "id": "5d0857c0-a4de-4a5e-b4e1-b9964d10ceb3",
   "metadata": {
    "colab": {
     "base_uri": "https://localhost:8080/"
    },
    "id": "5d0857c0-a4de-4a5e-b4e1-b9964d10ceb3",
    "outputId": "2cc27a26-69bf-4a1c-e926-a2733fc9cc62"
   },
   "outputs": [
    {
     "data": {
      "text/plain": [
       "torch.Size([3, 224, 224])"
      ]
     },
     "execution_count": 39,
     "metadata": {},
     "output_type": "execute_result"
    }
   ],
   "source": [
    "img1.shape"
   ]
  },
  {
   "cell_type": "code",
   "execution_count": 40,
   "id": "f03b4f87-84a8-4548-98a2-255d0820100d",
   "metadata": {
    "colab": {
     "base_uri": "https://localhost:8080/"
    },
    "id": "f03b4f87-84a8-4548-98a2-255d0820100d",
    "outputId": "a902182f-bc04-4bda-cdc9-6cebb3b48ea3"
   },
   "outputs": [
    {
     "data": {
      "text/plain": [
       "tensor([[[0., 0., 0.,  ..., 0., 0., 0.],\n",
       "         [0., 0., 0.,  ..., 0., 0., 0.],\n",
       "         [0., 0., 0.,  ..., 0., 0., 0.],\n",
       "         ...,\n",
       "         [0., 0., 0.,  ..., 0., 0., 0.],\n",
       "         [0., 0., 0.,  ..., 0., 0., 0.],\n",
       "         [0., 0., 0.,  ..., 0., 0., 0.]]])"
      ]
     },
     "execution_count": 40,
     "metadata": {},
     "output_type": "execute_result"
    }
   ],
   "source": [
    "label1"
   ]
  },
  {
   "cell_type": "code",
   "execution_count": 41,
   "id": "660fefaa-abe6-43c3-aada-612162dee121",
   "metadata": {
    "colab": {
     "base_uri": "https://localhost:8080/"
    },
    "id": "660fefaa-abe6-43c3-aada-612162dee121",
    "outputId": "38044766-3842-4b09-f09f-cc84bbc5431b"
   },
   "outputs": [
    {
     "data": {
      "text/plain": [
       "torch.Size([1, 224, 224])"
      ]
     },
     "execution_count": 41,
     "metadata": {},
     "output_type": "execute_result"
    }
   ],
   "source": [
    "label1.shape"
   ]
  },
  {
   "cell_type": "code",
   "execution_count": null,
   "id": "198dd74e-dfd6-4c21-9ec0-f3842db6e4a7",
   "metadata": {},
   "outputs": [],
   "source": [
    "plt.subplot(1, 2, 1)\n",
    "plt.title('Imagen')\n",
    "plt.imshow(img1.permute(1,2,0))\n",
    "plt.axis('off')\n",
    "\n",
    "plt.subplot(1, 2, 2)\n",
    "plt.title('Etiqueta')\n",
    "plt.imshow(label1.permute(1,2,0), cmap=\"gray\")\n",
    "plt.axis('off')\n",
    "\n",
    "plt.show()"
   ]
  },
  {
   "cell_type": "markdown",
   "id": "98fa3195-407b-4dc1-9230-5f261c8d4a36",
   "metadata": {},
   "source": [
    "# Metrics functions\n"
   ]
  },
  {
   "cell_type": "markdown",
   "id": "159870a8-03d0-4c6a-8864-4572782d0ebd",
   "metadata": {},
   "source": [
    "- Accuracy\n",
    "- F1 score\n",
    "- Coeficinete dice\n",
    "- Recall\n",
    "- Presición"
   ]
  },
  {
   "cell_type": "code",
   "execution_count": null,
   "id": "a818ab7f-27ea-4046-a2d7-d63b3367d0b2",
   "metadata": {},
   "outputs": [],
   "source": [
    "def check_metrics(model, loader, criterion, device):\n",
    "    dice_score = 0.0\n",
    "    num_correct = 0.0\n",
    "    num_pixels = 0.0\n",
    "    true_positives = 0.0\n",
    "    false_positives = 0.0\n",
    "    false_negatives = 0.0\n",
    "    loss = 0.0\n",
    "    model.eval()\n",
    "    \n",
    "    with torch.no_grad():\n",
    "        for x, y in loader:\n",
    "            x = x.to(device=device)\n",
    "            y = y.to(device=device)\n",
    "            preds = torch.sigmoid(model(x))\n",
    "            preds = (preds > 0.5).float()\n",
    "            \n",
    "            \n",
    "            num_correct += (preds == y).sum().float()\n",
    "            \n",
    "            true_positives += ( (preds == y ) & ( y == 1.0) ).sum().float()\n",
    "            false_positives += ( (preds == 1.0) & ( y == 0.0 ) ).sum().float()\n",
    "            false_negatives += ( ( preds == 0.0 ) & ( y == 1.0) ).sum().float()\n",
    "\n",
    "            num_pixels += torch.numel(preds)\n",
    "            \n",
    "            \n",
    "            intersection = (preds * y).sum().float()\n",
    "            union = (preds + y).sum().float()\n",
    "            dice_score += (2. * intersection) / (union + 1e-8)\n",
    "\n",
    "            val_loss = criterion(preds, y)\n",
    "            loss += val_loss.item()\n",
    "    \n",
    "    \n",
    "    accuracy = num_correct / num_pixels    \n",
    "    precision = true_positives / ( true_positives + false_positives )\n",
    "    recall = true_positives / ( true_positives + false_negatives )\n",
    "    f1_score = ( 2 * precision * recall ) / (precision + recall )\n",
    "    dice_score /= len(loader)\n",
    "    loss /= len(loader)\n",
    "\n",
    "    return [loss.item(), accuracy.item(), precision.item(), recall.item(), f1_score.item(), dice_score.item()]"
   ]
  },
  {
   "cell_type": "markdown",
   "id": "43c4ae0c-98da-485f-be8e-28259d06d14b",
   "metadata": {},
   "source": [
    "# Trainig function"
   ]
  },
  {
   "cell_type": "code",
   "execution_count": null,
   "id": "c6d107a4-b4e3-47cd-8ea0-c4595d1484dc",
   "metadata": {},
   "outputs": [],
   "source": [
    "def train(model, criterion, optimizer, train_loader, val_loader, epochs, device, save):\n",
    "    \n",
    "    train_losses = []\n",
    "    val_losses = []\n",
    "    accuracy = []\n",
    "    precision = []\n",
    "    recall = []\n",
    "    f1_score = []\n",
    "    dice_score = []\n",
    "    \n",
    "    for epoch in range(epochs):\n",
    "        model.train()\n",
    "        train_loss = 0\n",
    "\n",
    "        for b, (X_train, y_train) in enumerate(train_loader):\n",
    "            X_train = X_train.float().to(device)\n",
    "            y_train = y_train.float().to(device)\n",
    "\n",
    "            # Forward pass\n",
    "            y_pred = model(X_train)\n",
    "            loss = criterion(y_pred, y_train)\n",
    "\n",
    "            optimizer.zero_grad()\n",
    "            loss.backward()\n",
    "            optimizer.step()\n",
    "\n",
    "            train_loss += loss.item()\n",
    "\n",
    "        t_len = len(train_loader)\n",
    "        train_losses.append(train_loss / t_len)\n",
    "\n",
    "        metrics = check_metrics(model, val_loader, criterion, device)\n",
    "\n",
    "        val_losses.append(metrics[0])\n",
    "        accuracy.append(metrics[1])\n",
    "        precision.append(metrics[2])\n",
    "        recall.append(metrics[3])\n",
    "        f1_score.append(metrics[4])\n",
    "        dice_score.append(metrics[5])\n",
    "\n",
    "        print(f\"Epoch {epoch+1}/{epochs} | Train Loss: {train_losses[-1]:.4f} | Val Loss: {metrics[0]:.4f} | \"\n",
    "              f\"Accuracy: {metrics[1]:.4f} | Precision: {metrics[2]:.4f} | Recall: {metrics[3]:.4f} | \"\n",
    "              f\"F1 Score: {metrics[4]:.4f} | Dice Score: {metrics[5]:.4f}\")\n",
    "    \n",
    "    results = pd.DataFrame({\n",
    "        'Epoch': list(range(1, epochs + 1)),\n",
    "        'Train Loss': train_losses,\n",
    "        'Val Loss': val_losses,\n",
    "        'Accuracy': accuracy,\n",
    "        'Precision': precision,\n",
    "        'Recall': recall,\n",
    "        'F1 Score': f1_score,\n",
    "        'Dice Score': dice_score\n",
    "    })\n",
    "    save_name = f\"{save}_training_results.csv\"\n",
    "    results.to_csv(save_name, index=False)\n",
    "    \n",
    "    return resutls"
   ]
  },
  {
   "cell_type": "markdown",
   "id": "ff4a0b04-9088-4ba5-9be0-eae166165b07",
   "metadata": {
    "id": "ff4a0b04-9088-4ba5-9be0-eae166165b07"
   },
   "source": [
    "# Model Training"
   ]
  },
  {
   "cell_type": "code",
   "execution_count": 43,
   "id": "5e6d3524-8646-4c76-99f0-c98f4fde8525",
   "metadata": {
    "colab": {
     "base_uri": "https://localhost:8080/"
    },
    "id": "5e6d3524-8646-4c76-99f0-c98f4fde8525",
    "outputId": "7afe47af-ee14-4a44-d5fe-9f7d5709db85"
   },
   "outputs": [
    {
     "data": {
      "text/plain": [
       "device(type='cuda')"
      ]
     },
     "execution_count": 43,
     "metadata": {},
     "output_type": "execute_result"
    }
   ],
   "source": [
    "device = torch.device(\"cuda\" if torch.cuda.is_available() else \"cpu\")\n",
    "device"
   ]
  },
  {
   "cell_type": "code",
   "execution_count": null,
   "id": "c164519c-8026-429b-95fb-beba6e20bcaf",
   "metadata": {},
   "outputs": [],
   "source": [
    "unet = Unet(in_channels=3, out_channels=1).to(device)"
   ]
  },
  {
   "cell_type": "code",
   "execution_count": 44,
   "id": "965d7ee7-5414-4dc5-8479-98888ec46bf0",
   "metadata": {
    "id": "965d7ee7-5414-4dc5-8479-98888ec46bf0"
   },
   "outputs": [],
   "source": [
    "resunet = ResUnet(in_channels=3, out_channels=1).to(device)"
   ]
  },
  {
   "cell_type": "code",
   "execution_count": 45,
   "id": "1bb6c0ae-90bb-459d-b1f5-a25c7e2323a1",
   "metadata": {
    "id": "1bb6c0ae-90bb-459d-b1f5-a25c7e2323a1"
   },
   "outputs": [],
   "source": [
    "criterion = nn.BCEWithLogitsLoss()\n",
    "optimizer = torch.optim.Adam(model.parameters(), lr = 0.001)"
   ]
  },
  {
   "cell_type": "code",
   "execution_count": 46,
   "id": "fec54517-d63a-494a-a9d6-2332942e4724",
   "metadata": {
    "id": "fec54517-d63a-494a-a9d6-2332942e4724"
   },
   "outputs": [],
   "source": [
    "epochs = 25"
   ]
  },
  {
   "cell_type": "code",
   "execution_count": null,
   "id": "16c1aac8-472a-4acb-a4fc-716afb3cda39",
   "metadata": {},
   "outputs": [],
   "source": [
    "results = train(unet, criterion, optimizer, train_loader, val_loader, epochs, device, \"unet\")"
   ]
  },
  {
   "cell_type": "code",
   "execution_count": null,
   "id": "fdd962cf-ba55-4293-9945-b0dc0fd2fae2",
   "metadata": {},
   "outputs": [],
   "source": [
    "results = train(unet, criterion, optimizer, train_loader, val_loader, epochs, device, \"resunet\")"
   ]
  },
  {
   "cell_type": "markdown",
   "id": "9478d812-083f-4c30-a297-e0615efa2b5f",
   "metadata": {
    "colab": {
     "base_uri": "https://localhost:8080/"
    },
    "id": "16df2438-106d-4c55-8c3e-e1bf2ee47186",
    "outputId": "f1f42b28-0e70-4bbd-8673-f8747dbdafd3"
   },
   "source": [
    "## Testing"
   ]
  },
  {
   "cell_type": "code",
   "execution_count": null,
   "id": "486a7b0a-7fe1-49c1-af3f-b9cea7ff1c1a",
   "metadata": {},
   "outputs": [],
   "source": [
    "metrics = check_metrics(unet, test_loader, criterion, device)\n",
    "save_name = \"unet_test_results.csv\"\n",
    "print(f\"Accuracy: {metrics[1]:.4f} | Precision: {metrics[2]:.4f} | Recall: {metrics[3]:.4f} | \"\n",
    "        f\"F1 Score: {metrics[4]:.4f} | Dice Score: {metrics[5]:.4f}\")"
   ]
  },
  {
   "cell_type": "code",
   "execution_count": null,
   "id": "a1a69145-be90-4e03-866a-e5be8f90be8f",
   "metadata": {},
   "outputs": [],
   "source": [
    "metrics = check_metrics(resunet, test_loader, criterion, device)\n",
    "save_name = \"resunet_test_results.csv\"\n",
    "print(f\"Accuracy: {metrics[1]:.4f} | Precision: {metrics[2]:.4f} | Recall: {metrics[3]:.4f} | \"\n",
    "        f\"F1 Score: {metrics[4]:.4f} | Dice Score: {metrics[5]:.4f}\")"
   ]
  },
  {
   "cell_type": "code",
   "execution_count": null,
   "id": "82e3d26c-4300-4ad0-baa5-fc08a4fde8e6",
   "metadata": {},
   "outputs": [],
   "source": [
    "df_metrics = pd.DataFrame([metrics], columns=['Loss', 'Accuracy', 'Precision', 'Recall', 'F1 Score', 'Dice Score'])"
   ]
  },
  {
   "cell_type": "code",
   "execution_count": null,
   "id": "ac8ac213-2694-46ef-ad0c-76db5a641d56",
   "metadata": {},
   "outputs": [],
   "source": [
    "results.to_csv(save_name, index=False)"
   ]
  },
  {
   "cell_type": "markdown",
   "id": "3ff49e12-ab57-40e8-a8a9-d34f400511ea",
   "metadata": {},
   "source": [
    "## Save"
   ]
  },
  {
   "cell_type": "code",
   "execution_count": 49,
   "id": "P9Amka47RrHF",
   "metadata": {
    "id": "P9Amka47RrHF"
   },
   "outputs": [],
   "source": [
    "torch.save(unet.state_dict(), './drive/MyDrive/Model/unet_dict.pth')\n",
    "torch.save(unet, './drive/MyDrive/Model/unet.pth')"
   ]
  },
  {
   "cell_type": "code",
   "execution_count": null,
   "id": "b77f67cb-2dae-491a-b3cd-389145678f03",
   "metadata": {},
   "outputs": [],
   "source": [
    "torch.save(resunet.state_dict(), './drive/MyDrive/Model/resunet_dict.pth')\n",
    "torch.save(resunet, './drive/MyDrive/Model/resunet.pth')"
   ]
  },
  {
   "cell_type": "markdown",
   "id": "7bbe45c1-bbc9-4345-ba45-607ad9155196",
   "metadata": {
    "id": "7bbe45c1-bbc9-4345-ba45-607ad9155196"
   },
   "source": [
    "# Evaluation"
   ]
  },
  {
   "cell_type": "markdown",
   "id": "a89ecc2f-9f98-4186-bc04-6ee6e95bd18f",
   "metadata": {
    "id": "a89ecc2f-9f98-4186-bc04-6ee6e95bd18f"
   },
   "source": [
    "### Train"
   ]
  },
  {
   "cell_type": "code",
   "execution_count": 50,
   "id": "ddb50bfc-04d6-4661-8c0a-f3404d794c50",
   "metadata": {
    "colab": {
     "base_uri": "https://localhost:8080/",
     "height": 472
    },
    "id": "ddb50bfc-04d6-4661-8c0a-f3404d794c50",
    "outputId": "68d4952e-90cc-446d-d81f-d45ffe5105ae"
   },
   "outputs": [
    {
     "data": {
      "image/png": "[encoded data removed]",
      "text/plain": [
       "<Figure size 640x480 with 1 Axes>"
      ]
     },
     "metadata": {},
     "output_type": "display_data"
    }
   ],
   "source": [
    "plt.figure()\n",
    "plt.plot(np.array(train_losses))\n",
    "plt.title('Perdida en entrenamiento')\n",
    "plt.xlabel('epoch')\n",
    "plt.ylabel('train loss')\n",
    "plt.show()"
   ]
  },
  {
   "cell_type": "markdown",
   "id": "9008a865-34da-4e84-bcde-246d96c523f4",
   "metadata": {
    "id": "9008a865-34da-4e84-bcde-246d96c523f4"
   },
   "source": [
    "### Validation"
   ]
  },
  {
   "cell_type": "code",
   "execution_count": 51,
   "id": "39f1f9f9-3370-4284-82d1-b0caf29217fb",
   "metadata": {
    "colab": {
     "base_uri": "https://localhost:8080/",
     "height": 472
    },
    "id": "39f1f9f9-3370-4284-82d1-b0caf29217fb",
    "outputId": "82872a5e-8e16-465c-cf67-e6fcf8ca4824"
   },
   "outputs": [
    {
     "data": {
      "image/png": "[encoded data removed]",
      "text/plain": [
       "<Figure size 640x480 with 1 Axes>"
      ]
     },
     "metadata": {},
     "output_type": "display_data"
    }
   ],
   "source": [
    "plt.figure()\n",
    "plt.plot(np.array(val_losses))\n",
    "plt.title('Perdida en validacion')\n",
    "plt.xlabel('epoch')\n",
    "plt.ylabel('validation loss')\n",
    "plt.show()"
   ]
  },
  {
   "cell_type": "markdown",
   "id": "7e6600db-4e78-4fe9-b89a-7cae5c783d97",
   "metadata": {
    "id": "7e6600db-4e78-4fe9-b89a-7cae5c783d97"
   },
   "source": [
    "### Train vs Val"
   ]
  },
  {
   "cell_type": "code",
   "execution_count": 53,
   "id": "ff5b7ded-591a-4b8f-8ccb-10d2cbb98afb",
   "metadata": {
    "colab": {
     "base_uri": "https://localhost:8080/",
     "height": 472
    },
    "id": "ff5b7ded-591a-4b8f-8ccb-10d2cbb98afb",
    "outputId": "6ffeeaf2-9edc-427d-cd85-807577df43db"
   },
   "outputs": [
    {
     "data": {
      "image/png": "[encoded data removed]",
      "text/plain": [
       "<Figure size 640x480 with 1 Axes>"
      ]
     },
     "metadata": {},
     "output_type": "display_data"
    }
   ],
   "source": [
    "plt.figure()\n",
    "plt.plot(np.array(train_losses), color=\"blue\")\n",
    "plt.plot(np.array(val_losses), color=\"red\")\n",
    "plt.title('Train vs Validation Loss')\n",
    "plt.xlabel('epoch')\n",
    "plt.ylabel('loss')\n",
    "plt.show()"
   ]
  },
  {
   "cell_type": "markdown",
   "id": "ZhvlS-24XzF9",
   "metadata": {
    "id": "ZhvlS-24XzF9"
   },
   "source": [
    "# Model testing"
   ]
  },
  {
   "cell_type": "code",
   "execution_count": 67,
   "id": "-vC_0Cu0aPWi",
   "metadata": {
    "colab": {
     "base_uri": "https://localhost:8080/"
    },
    "id": "-vC_0Cu0aPWi",
    "outputId": "ba913aa7-6dd7-4e3e-f0e8-f75fd6ccd0b1"
   },
   "outputs": [
    {
     "data": {
      "text/plain": [
       "<All keys matched successfully>"
      ]
     },
     "execution_count": 67,
     "metadata": {},
     "output_type": "execute_result"
    }
   ],
   "source": [
    "model_unet = Unet(in_channels=3, out_channels=1).to(device)\n",
    "model_unet.load_state_dict(torch.load('./drive/MyDrive/Model/unet_dict.pth'))"
   ]
  },
  {
   "cell_type": "code",
   "execution_count": 68,
   "id": "hJxy5N78bXZ3",
   "metadata": {
    "colab": {
     "base_uri": "https://localhost:8080/"
    },
    "id": "hJxy5N78bXZ3",
    "outputId": "c223f3a9-c19e-4fd6-edf1-fa6b390c7ad1"
   },
   "outputs": [
    {
     "data": {
      "text/plain": [
       "<All keys matched successfully>"
      ]
     },
     "execution_count": 68,
     "metadata": {},
     "output_type": "execute_result"
    }
   ],
   "source": [
    "model = ResUnet(in_channels=3, out_channels=1).to(device)\n",
    "model.load_state_dict(torch.load('./drive/MyDrive/Model/resunet_dict_chk2.pth'))"
   ]
  },
  {
   "cell_type": "code",
   "execution_count": 69,
   "id": "d49OD8sZX4MG",
   "metadata": {
    "id": "d49OD8sZX4MG"
   },
   "outputs": [],
   "source": [
    "img_test, label_test = train_dataset[10]\n",
    "img_test = img_test.to(device)\n",
    "label_test = label_test.to(device)\n",
    "\n",
    "with torch.no_grad():\n",
    "    y_pred = model(img_test.unsqueeze(0))\n",
    "    y_pred = torch.sigmoid(y_pred)\n",
    "    y_pred2 = model_unet(img_test.unsqueeze(0))\n",
    "    y_pred2 = torch.sigmoid(y_pred2)"
   ]
  },
  {
   "cell_type": "code",
   "execution_count": 70,
   "id": "ZIyV409mYCiS",
   "metadata": {
    "colab": {
     "base_uri": "https://localhost:8080/",
     "height": 227
    },
    "id": "ZIyV409mYCiS",
    "outputId": "8342be19-a257-4863-8eb5-55bc6f7839f3"
   },
   "outputs": [
    {
     "data": {
      "image/png": "[encoded data removed]",
      "text/plain": [
       "<Figure size 1000x500 with 4 Axes>"
      ]
     },
     "metadata": {},
     "output_type": "display_data"
    }
   ],
   "source": [
    "fig, axes = plt.subplots(1, 4, figsize=(10, 5))\n",
    "\n",
    "axes[0].imshow(img_test.cpu().detach().numpy().transpose(1, 2, 0))\n",
    "axes[0].set_title('Imagen Original')\n",
    "axes[0].axis('off')\n",
    "\n",
    "axes[1].imshow(label_test.cpu().detach().numpy().squeeze(), cmap=\"gray\")\n",
    "axes[1].set_title('Resultado Original')\n",
    "axes[1].axis('off')\n",
    "\n",
    "axes[2].imshow(y_pred.cpu().detach().numpy().squeeze(), cmap=\"gray\")\n",
    "axes[2].set_title('ResUnet')\n",
    "axes[2].axis('off')\n",
    "\n",
    "axes[3].imshow(y_pred2.cpu().detach().numpy().squeeze(), cmap=\"gray\")\n",
    "axes[3].set_title('Unet')\n",
    "axes[3].axis('off')\n",
    "\n",
    "plt.show()"
   ]
  },
  {
   "cell_type": "markdown",
   "id": "bd2a7315-d8dd-48dc-b6f7-960222dafd38",
   "metadata": {
    "id": "bd2a7315-d8dd-48dc-b6f7-960222dafd38"
   },
   "source": [
    "## Extra"
   ]
  },
  {
   "cell_type": "code",
   "execution_count": null,
   "id": "740c15f8-4cd8-4af0-ad15-9743fd89b083",
   "metadata": {
    "colab": {
     "base_uri": "https://localhost:8080/"
    },
    "id": "740c15f8-4cd8-4af0-ad15-9743fd89b083",
    "outputId": "c429090a-8f93-416c-8347-ba0ac3e823bb"
   },
   "outputs": [],
   "source": [
    "for epoch in range(epochs):\n",
    "    model.train()\n",
    "    train_loss = 0\n",
    "\n",
    "    for b, (X_train, y_train) in enumerate(train_loader):\n",
    "        X_train = X_train.float().to(device)\n",
    "        y_train = y_train.float().to(device)\n",
    "\n",
    "        # Forward pass\n",
    "        y_pred = model(X_train)\n",
    "        loss = criterion(y_pred, y_train)\n",
    "\n",
    "        optimizer.zero_grad()\n",
    "        loss.backward()\n",
    "        optimizer.step()\n",
    "\n",
    "        train_loss += loss.item()\n",
    "\n",
    "    t_len = len(train_loader)\n",
    "    train_losses.append(train_loss / t_len)\n",
    "\n",
    "    model.eval()\n",
    "    val_loss = 0\n",
    "\n",
    "    with torch.no_grad():\n",
    "        for b, (X_val, y_val) in enumerate(val_loader):\n",
    "\n",
    "            X_val = X_val.float().to(device)\n",
    "            y_val = y_val.float().to(device)\n",
    "\n",
    "            # Forward pass\n",
    "            y_pred = model(X_val)\n",
    "            loss = criterion(y_pred, y_val)\n",
    "            val_loss += loss.item()\n",
    "\n",
    "    v_len = len(val_loader)\n",
    "    val_losses.append(val_loss / v_len)\n",
    "\n",
    "    print(f\"Epoch {epoch+1} \"\n",
    "          f\"Train Loss: {train_losses[-1]:.4f}, Val Loss: {val_losses[-1]:.4f}, \")"
   ]
  },
  {
   "cell_type": "markdown",
   "id": "955a18e8-81a3-4675-ab9a-66b369d088ad",
   "metadata": {
    "id": "955a18e8-81a3-4675-ab9a-66b369d088ad"
   },
   "source": [
    "- Binary cross entropy loss function"
   ]
  },
  {
   "cell_type": "code",
   "execution_count": null,
   "id": "1560d608-8dcb-4041-a82f-0b5d73d94dee",
   "metadata": {
    "id": "1560d608-8dcb-4041-a82f-0b5d73d94dee"
   },
   "outputs": [],
   "source": [
    "def ce(y, y_i):\n",
    "    ep = 1e-8\n",
    "    part1 = y_i * np.log(y+ep)\n",
    "    part2 = (1 - y_i)*np.log(1-y+ep)\n",
    "    return np.mean(-(part1+part2))"
   ]
  },
  {
   "cell_type": "code",
   "execution_count": null,
   "id": "4eec7f3c-b687-4ed7-b189-306575c0ae7a",
   "metadata": {
    "id": "4eec7f3c-b687-4ed7-b189-306575c0ae7a"
   },
   "outputs": [],
   "source": [
    "y = np.linspace(0,1, 10)\n",
    "y_i = np.zeros(10)\n",
    "y_i2 = np.ones(10)\n",
    "\n",
    "r1 = ce(y, y_i)\n",
    "r2 = ce(y, y_i2)"
   ]
  },
  {
   "cell_type": "code",
   "execution_count": null,
   "id": "bfe45e26-b2a5-4751-99bc-65f582327329",
   "metadata": {
    "id": "bfe45e26-b2a5-4751-99bc-65f582327329"
   },
   "outputs": [],
   "source": [
    "x = np.linspace(0,1,9).reshape(3,3)"
   ]
  },
  {
   "cell_type": "code",
   "execution_count": null,
   "id": "60417f74-fcf3-405b-a754-465b93a44362",
   "metadata": {
    "id": "60417f74-fcf3-405b-a754-465b93a44362",
    "outputId": "cdaa4378-c123-4f44-ca14-23e8afa06c3b"
   },
   "outputs": [
    {
     "data": {
      "text/plain": [
       "array([[0.   , 0.125, 0.25 ],\n",
       "       [0.375, 0.5  , 0.625],\n",
       "       [0.75 , 0.875, 1.   ]])"
      ]
     },
     "execution_count": 69,
     "metadata": {},
     "output_type": "execute_result"
    }
   ],
   "source": [
    "x"
   ]
  },
  {
   "cell_type": "code",
   "execution_count": null,
   "id": "e44779f9-76b0-42d9-a443-8a9734dfbb02",
   "metadata": {
    "id": "e44779f9-76b0-42d9-a443-8a9734dfbb02"
   },
   "outputs": [],
   "source": [
    "y_1 = np.ones(9).reshape(3,3)"
   ]
  },
  {
   "cell_type": "code",
   "execution_count": null,
   "id": "a2e38f1f-9f97-4290-ac23-9fdb25ba0d78",
   "metadata": {
    "id": "a2e38f1f-9f97-4290-ac23-9fdb25ba0d78"
   },
   "outputs": [],
   "source": [
    "y_0 = np.zeros(9).reshape(3,3)"
   ]
  },
  {
   "cell_type": "code",
   "execution_count": null,
   "id": "912f4c12-4952-42ba-83c5-9a42dce15b57",
   "metadata": {
    "id": "912f4c12-4952-42ba-83c5-9a42dce15b57",
    "outputId": "a21080bf-4324-4253-a7d0-50c2f67883e7"
   },
   "outputs": [
    {
     "data": {
      "text/plain": [
       "2.7168455508019154"
      ]
     },
     "execution_count": 74,
     "metadata": {},
     "output_type": "execute_result"
    }
   ],
   "source": [
    "ce(x, y_1)"
   ]
  },
  {
   "cell_type": "code",
   "execution_count": null,
   "id": "428af3df-a74a-4bb5-8ac5-7e47ea82b34d",
   "metadata": {
    "id": "428af3df-a74a-4bb5-8ac5-7e47ea82b34d",
    "outputId": "e5643de9-cb21-4b97-dc9d-2647b479fb97"
   },
   "outputs": [
    {
     "data": {
      "text/plain": [
       "2.5393874205289735"
      ]
     },
     "execution_count": 65,
     "metadata": {},
     "output_type": "execute_result"
    }
   ],
   "source": [
    "r1"
   ]
  },
  {
   "cell_type": "code",
   "execution_count": null,
   "id": "f5c32105-3dbc-4d4c-bf30-59a841c14554",
   "metadata": {
    "id": "f5c32105-3dbc-4d4c-bf30-59a841c14554",
    "outputId": "a4bcf32e-b6a3-4a72-bbd3-4a313cb9712d"
   },
   "outputs": [
    {
     "data": {
      "text/plain": [
       "2.539387420528974"
      ]
     },
     "execution_count": 66,
     "metadata": {},
     "output_type": "execute_result"
    }
   ],
   "source": [
    "r2"
   ]
  },
  {
   "cell_type": "code",
   "execution_count": null,
   "id": "881ffd63-5951-490b-ba5a-6e2b1fba4356",
   "metadata": {
    "id": "881ffd63-5951-490b-ba5a-6e2b1fba4356",
    "outputId": "aefcf50a-1a67-4d51-c2d7-9f08e74ea9c0"
   },
   "outputs": [
    {
     "data": {
      "text/plain": [
       "array([       nan, 0.11778304, 0.25131443, 0.40546511, 0.58778666,\n",
       "       0.81093022, 1.09861229, 1.5040774 , 2.19722458,        inf])"
      ]
     },
     "execution_count": 52,
     "metadata": {},
     "output_type": "execute_result"
    }
   ],
   "source": [
    "r1"
   ]
  },
  {
   "cell_type": "code",
   "execution_count": null,
   "id": "9eeb1fa3-b403-4cb8-9047-1391203eed83",
   "metadata": {
    "id": "9eeb1fa3-b403-4cb8-9047-1391203eed83",
    "outputId": "bbbdd187-7d2e-4069-f56c-d91b40722085"
   },
   "outputs": [
    {
     "data": {
      "text/plain": [
       "array([       inf, 2.19722458, 1.5040774 , 1.09861229, 0.81093022,\n",
       "       0.58778666, 0.40546511, 0.25131443, 0.11778304,        nan])"
      ]
     },
     "execution_count": 53,
     "metadata": {},
     "output_type": "execute_result"
    }
   ],
   "source": [
    "r2"
   ]
  },
  {
   "cell_type": "code",
   "execution_count": null,
   "id": "72a15132-80d8-4553-87b4-043c11a643fe",
   "metadata": {
    "id": "72a15132-80d8-4553-87b4-043c11a643fe",
    "outputId": "3f4e8752-3f8e-4aa9-b4d6-09c0d24a1a62"
   },
   "outputs": [
    {
     "data": {
      "text/plain": [
       "[<matplotlib.lines.Line2D at 0x204ddb9e890>]"
      ]
     },
     "execution_count": 54,
     "metadata": {},
     "output_type": "execute_result"
    },
    {
     "data": {
      "image/png": "[encoded data removed]",
      "text/plain": [
       "<Figure size 640x480 with 1 Axes>"
      ]
     },
     "metadata": {},
     "output_type": "display_data"
    }
   ],
   "source": [
    "plt.plot(y, r1)"
   ]
  },
  {
   "cell_type": "code",
   "execution_count": null,
   "id": "fa36276e-61c9-4f93-9a1f-b5bc93e0b8b4",
   "metadata": {
    "id": "fa36276e-61c9-4f93-9a1f-b5bc93e0b8b4",
    "outputId": "bdd139b2-1578-4416-e19e-4494310fc277"
   },
   "outputs": [
    {
     "data": {
      "text/plain": [
       "[<matplotlib.lines.Line2D at 0x204ddeb9890>]"
      ]
     },
     "execution_count": 55,
     "metadata": {},
     "output_type": "execute_result"
    },
    {
     "data": {
      "image/png": "[encoded data removed]",
      "text/plain": [
       "<Figure size 640x480 with 1 Axes>"
      ]
     },
     "metadata": {},
     "output_type": "display_data"
    }
   ],
   "source": [
    "plt.plot(y, r2)"
   ]
  },
  {
   "cell_type": "code",
   "execution_count": null,
   "id": "c11103ba-aa46-4011-a969-6aac90fe23bf",
   "metadata": {
    "id": "c11103ba-aa46-4011-a969-6aac90fe23bf"
   },
   "outputs": [],
   "source": [
    "loss = nn.BCELoss()"
   ]
  }
 ],
 "metadata": {
  "accelerator": "GPU",
  "colab": {
   "gpuType": "T4",
   "provenance": []
  },
  "kernelspec": {
   "display_name": "Python 3 (ipykernel)",
   "language": "python",
   "name": "python3"
  },
  "language_info": {
   "codemirror_mode": {
    "name": "ipython",
    "version": 3
   },
   "file_extension": ".py",
   "mimetype": "text/x-python",
   "name": "python",
   "nbconvert_exporter": "python",
   "pygments_lexer": "ipython3",
   "version": "3.11.8"
  }
 },
 "nbformat": 4,
 "nbformat_minor": 5
}
